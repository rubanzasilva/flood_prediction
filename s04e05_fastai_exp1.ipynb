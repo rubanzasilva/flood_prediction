{
  "cells": [
    {
      "cell_type": "markdown",
      "metadata": {
        "id": "view-in-github",
        "colab_type": "text"
      },
      "source": [
        "<a href=\"https://colab.research.google.com/github/rubanzasilva/flood_prediction/blob/dev/s04e05_fastai_exp1.ipynb\" target=\"_parent\"><img src=\"https://colab.research.google.com/assets/colab-badge.svg\" alt=\"Open In Colab\"/></a>"
      ]
    },
    {
      "cell_type": "markdown",
      "source": [],
      "metadata": {
        "id": "TI_TdZEJJsdS"
      }
    },
    {
      "cell_type": "code",
      "execution_count": 4,
      "metadata": {
        "colab": {
          "base_uri": "https://localhost:8080/"
        },
        "id": "N5_LXXsIwl9C",
        "outputId": "003d23db-81d7-4720-e961-ea4ad9c3a8b0"
      },
      "outputs": [
        {
          "output_type": "stream",
          "name": "stdout",
          "text": [
            "Collecting catboost\n",
            "  Downloading catboost-1.2.5-cp310-cp310-manylinux2014_x86_64.whl (98.2 MB)\n",
            "\u001b[2K     \u001b[90m━━━━━━━━━━━━━━━━━━━━━━━━━━━━━━━━━━━━━━━━\u001b[0m \u001b[32m98.2/98.2 MB\u001b[0m \u001b[31m9.4 MB/s\u001b[0m eta \u001b[36m0:00:00\u001b[0m\n",
            "\u001b[?25hRequirement already satisfied: graphviz in /usr/local/lib/python3.10/dist-packages (from catboost) (0.20.3)\n",
            "Requirement already satisfied: matplotlib in /usr/local/lib/python3.10/dist-packages (from catboost) (3.7.1)\n",
            "Requirement already satisfied: numpy>=1.16.0 in /usr/local/lib/python3.10/dist-packages (from catboost) (1.25.2)\n",
            "Requirement already satisfied: pandas>=0.24 in /usr/local/lib/python3.10/dist-packages (from catboost) (2.0.3)\n",
            "Requirement already satisfied: scipy in /usr/local/lib/python3.10/dist-packages (from catboost) (1.11.4)\n",
            "Requirement already satisfied: plotly in /usr/local/lib/python3.10/dist-packages (from catboost) (5.15.0)\n",
            "Requirement already satisfied: six in /usr/local/lib/python3.10/dist-packages (from catboost) (1.16.0)\n",
            "Requirement already satisfied: python-dateutil>=2.8.2 in /usr/local/lib/python3.10/dist-packages (from pandas>=0.24->catboost) (2.8.2)\n",
            "Requirement already satisfied: pytz>=2020.1 in /usr/local/lib/python3.10/dist-packages (from pandas>=0.24->catboost) (2023.4)\n",
            "Requirement already satisfied: tzdata>=2022.1 in /usr/local/lib/python3.10/dist-packages (from pandas>=0.24->catboost) (2024.1)\n",
            "Requirement already satisfied: contourpy>=1.0.1 in /usr/local/lib/python3.10/dist-packages (from matplotlib->catboost) (1.2.1)\n",
            "Requirement already satisfied: cycler>=0.10 in /usr/local/lib/python3.10/dist-packages (from matplotlib->catboost) (0.12.1)\n",
            "Requirement already satisfied: fonttools>=4.22.0 in /usr/local/lib/python3.10/dist-packages (from matplotlib->catboost) (4.51.0)\n",
            "Requirement already satisfied: kiwisolver>=1.0.1 in /usr/local/lib/python3.10/dist-packages (from matplotlib->catboost) (1.4.5)\n",
            "Requirement already satisfied: packaging>=20.0 in /usr/local/lib/python3.10/dist-packages (from matplotlib->catboost) (24.0)\n",
            "Requirement already satisfied: pillow>=6.2.0 in /usr/local/lib/python3.10/dist-packages (from matplotlib->catboost) (9.4.0)\n",
            "Requirement already satisfied: pyparsing>=2.3.1 in /usr/local/lib/python3.10/dist-packages (from matplotlib->catboost) (3.1.2)\n",
            "Requirement already satisfied: tenacity>=6.2.0 in /usr/local/lib/python3.10/dist-packages (from plotly->catboost) (8.2.3)\n",
            "Installing collected packages: catboost\n",
            "Successfully installed catboost-1.2.5\n",
            "Collecting fastkaggle\n",
            "  Downloading fastkaggle-0.0.8-py3-none-any.whl (11 kB)\n",
            "Requirement already satisfied: fastcore>=1.4.5 in /usr/local/lib/python3.10/dist-packages (from fastkaggle) (1.5.33)\n",
            "Requirement already satisfied: kaggle in /usr/local/lib/python3.10/dist-packages (from fastkaggle) (1.6.12)\n",
            "Requirement already satisfied: packaging in /usr/local/lib/python3.10/dist-packages (from fastcore>=1.4.5->fastkaggle) (24.0)\n",
            "Requirement already satisfied: six>=1.10 in /usr/local/lib/python3.10/dist-packages (from kaggle->fastkaggle) (1.16.0)\n",
            "Requirement already satisfied: certifi>=2023.7.22 in /usr/local/lib/python3.10/dist-packages (from kaggle->fastkaggle) (2024.2.2)\n",
            "Requirement already satisfied: python-dateutil in /usr/local/lib/python3.10/dist-packages (from kaggle->fastkaggle) (2.8.2)\n",
            "Requirement already satisfied: requests in /usr/local/lib/python3.10/dist-packages (from kaggle->fastkaggle) (2.31.0)\n",
            "Requirement already satisfied: tqdm in /usr/local/lib/python3.10/dist-packages (from kaggle->fastkaggle) (4.66.2)\n",
            "Requirement already satisfied: python-slugify in /usr/local/lib/python3.10/dist-packages (from kaggle->fastkaggle) (8.0.4)\n",
            "Requirement already satisfied: urllib3 in /usr/local/lib/python3.10/dist-packages (from kaggle->fastkaggle) (2.0.7)\n",
            "Requirement already satisfied: bleach in /usr/local/lib/python3.10/dist-packages (from kaggle->fastkaggle) (6.1.0)\n",
            "Requirement already satisfied: webencodings in /usr/local/lib/python3.10/dist-packages (from bleach->kaggle->fastkaggle) (0.5.1)\n",
            "Requirement already satisfied: text-unidecode>=1.3 in /usr/local/lib/python3.10/dist-packages (from python-slugify->kaggle->fastkaggle) (1.3)\n",
            "Requirement already satisfied: charset-normalizer<4,>=2 in /usr/local/lib/python3.10/dist-packages (from requests->kaggle->fastkaggle) (3.3.2)\n",
            "Requirement already satisfied: idna<4,>=2.5 in /usr/local/lib/python3.10/dist-packages (from requests->kaggle->fastkaggle) (3.7)\n",
            "Installing collected packages: fastkaggle\n",
            "Successfully installed fastkaggle-0.0.8\n",
            "Collecting optuna\n",
            "  Downloading optuna-3.6.1-py3-none-any.whl (380 kB)\n",
            "\u001b[2K     \u001b[90m━━━━━━━━━━━━━━━━━━━━━━━━━━━━━━━━━━━━━━━━\u001b[0m \u001b[32m380.1/380.1 kB\u001b[0m \u001b[31m5.4 MB/s\u001b[0m eta \u001b[36m0:00:00\u001b[0m\n",
            "\u001b[?25hCollecting alembic>=1.5.0 (from optuna)\n",
            "  Downloading alembic-1.13.1-py3-none-any.whl (233 kB)\n",
            "\u001b[2K     \u001b[90m━━━━━━━━━━━━━━━━━━━━━━━━━━━━━━━━━━━━━━━━\u001b[0m \u001b[32m233.4/233.4 kB\u001b[0m \u001b[31m11.0 MB/s\u001b[0m eta \u001b[36m0:00:00\u001b[0m\n",
            "\u001b[?25hCollecting colorlog (from optuna)\n",
            "  Downloading colorlog-6.8.2-py3-none-any.whl (11 kB)\n",
            "Requirement already satisfied: numpy in /usr/local/lib/python3.10/dist-packages (from optuna) (1.25.2)\n",
            "Requirement already satisfied: packaging>=20.0 in /usr/local/lib/python3.10/dist-packages (from optuna) (24.0)\n",
            "Requirement already satisfied: sqlalchemy>=1.3.0 in /usr/local/lib/python3.10/dist-packages (from optuna) (2.0.29)\n",
            "Requirement already satisfied: tqdm in /usr/local/lib/python3.10/dist-packages (from optuna) (4.66.2)\n",
            "Requirement already satisfied: PyYAML in /usr/local/lib/python3.10/dist-packages (from optuna) (6.0.1)\n",
            "Collecting Mako (from alembic>=1.5.0->optuna)\n",
            "  Downloading Mako-1.3.3-py3-none-any.whl (78 kB)\n",
            "\u001b[2K     \u001b[90m━━━━━━━━━━━━━━━━━━━━━━━━━━━━━━━━━━━━━━━━\u001b[0m \u001b[32m78.8/78.8 kB\u001b[0m \u001b[31m9.9 MB/s\u001b[0m eta \u001b[36m0:00:00\u001b[0m\n",
            "\u001b[?25hRequirement already satisfied: typing-extensions>=4 in /usr/local/lib/python3.10/dist-packages (from alembic>=1.5.0->optuna) (4.11.0)\n",
            "Requirement already satisfied: greenlet!=0.4.17 in /usr/local/lib/python3.10/dist-packages (from sqlalchemy>=1.3.0->optuna) (3.0.3)\n",
            "Requirement already satisfied: MarkupSafe>=0.9.2 in /usr/local/lib/python3.10/dist-packages (from Mako->alembic>=1.5.0->optuna) (2.1.5)\n",
            "Installing collected packages: Mako, colorlog, alembic, optuna\n",
            "Successfully installed Mako-1.3.3 alembic-1.13.1 colorlog-6.8.2 optuna-3.6.1\n"
          ]
        }
      ],
      "source": [
        "#hide\n",
        "!pip install catboost\n",
        "!pip install fastkaggle\n",
        "!pip install optuna"
      ]
    },
    {
      "cell_type": "code",
      "execution_count": 5,
      "metadata": {
        "id": "hIHO3Ywjwl9T"
      },
      "outputs": [],
      "source": [
        "#hide\n",
        "#! [ -e /content ]\n",
        "\n",
        "#hide\n",
        "#This imports and sets up everything you will need for this notebook\n",
        "#\n",
        "#!pip install -Uqq fastbook\n",
        "#import fastbook\n",
        "#fastbook.setup_book()\n",
        "\n",
        "#from fastbook import *\n",
        "#!pip install ucimlrepo\n",
        "#from ucimlrepo import fetch_ucirepo\n",
        "\n",
        "from fastai.tabular.all import *\n",
        "import pandas as pd\n",
        "import matplotlib.pyplot as plt\n",
        "import seaborn as sns\n",
        "import numpy as np\n",
        "from numpy import random\n",
        "\n",
        "from fastai.imports import *\n",
        "np.set_printoptions(linewidth=130)\n",
        "\n",
        "\n",
        "from pathlib import Path\n",
        "import os\n",
        "\n",
        "\n",
        "from sklearn.ensemble import RandomForestRegressor,RandomForestClassifier\n",
        "from sklearn.metrics import roc_auc_score\n",
        "from sklearn.model_selection import train_test_split\n",
        "from sklearn.metrics import mean_absolute_error,r2_score\n",
        "#from sklearn.metrics import root_mean_squared_error\n",
        "\n",
        "import xgboost as xgb\n",
        "from xgboost import plot_importance\n",
        "\n",
        "import lightgbm as lgb\n",
        "\n",
        "from catboost import CatBoostClassifier,CatBoostRegressor,Pool, metrics, cv\n",
        "\n",
        "from ipywidgets import interact\n",
        "\n",
        "\n",
        "matplotlib.rc('image', cmap='Greys')\n",
        "\n",
        "from fastkaggle import setup_comp\n",
        "import optuna"
      ]
    },
    {
      "cell_type": "code",
      "execution_count": 16,
      "metadata": {
        "colab": {
          "base_uri": "https://localhost:8080/",
          "height": 90
        },
        "id": "-UEKLItszCQw",
        "outputId": "49c81a59-22f7-49e9-f2f1-37fdb6e8b8ea"
      },
      "outputs": [
        {
          "output_type": "display_data",
          "data": {
            "text/plain": [
              "<IPython.core.display.HTML object>"
            ],
            "text/html": [
              "\n",
              "     <input type=\"file\" id=\"files-de8ca9e0-2d4e-46f0-94a2-ff00c10b06ba\" name=\"files[]\" multiple disabled\n",
              "        style=\"border:none\" />\n",
              "     <output id=\"result-de8ca9e0-2d4e-46f0-94a2-ff00c10b06ba\">\n",
              "      Upload widget is only available when the cell has been executed in the\n",
              "      current browser session. Please rerun this cell to enable.\n",
              "      </output>\n",
              "      <script>// Copyright 2017 Google LLC\n",
              "//\n",
              "// Licensed under the Apache License, Version 2.0 (the \"License\");\n",
              "// you may not use this file except in compliance with the License.\n",
              "// You may obtain a copy of the License at\n",
              "//\n",
              "//      http://www.apache.org/licenses/LICENSE-2.0\n",
              "//\n",
              "// Unless required by applicable law or agreed to in writing, software\n",
              "// distributed under the License is distributed on an \"AS IS\" BASIS,\n",
              "// WITHOUT WARRANTIES OR CONDITIONS OF ANY KIND, either express or implied.\n",
              "// See the License for the specific language governing permissions and\n",
              "// limitations under the License.\n",
              "\n",
              "/**\n",
              " * @fileoverview Helpers for google.colab Python module.\n",
              " */\n",
              "(function(scope) {\n",
              "function span(text, styleAttributes = {}) {\n",
              "  const element = document.createElement('span');\n",
              "  element.textContent = text;\n",
              "  for (const key of Object.keys(styleAttributes)) {\n",
              "    element.style[key] = styleAttributes[key];\n",
              "  }\n",
              "  return element;\n",
              "}\n",
              "\n",
              "// Max number of bytes which will be uploaded at a time.\n",
              "const MAX_PAYLOAD_SIZE = 100 * 1024;\n",
              "\n",
              "function _uploadFiles(inputId, outputId) {\n",
              "  const steps = uploadFilesStep(inputId, outputId);\n",
              "  const outputElement = document.getElementById(outputId);\n",
              "  // Cache steps on the outputElement to make it available for the next call\n",
              "  // to uploadFilesContinue from Python.\n",
              "  outputElement.steps = steps;\n",
              "\n",
              "  return _uploadFilesContinue(outputId);\n",
              "}\n",
              "\n",
              "// This is roughly an async generator (not supported in the browser yet),\n",
              "// where there are multiple asynchronous steps and the Python side is going\n",
              "// to poll for completion of each step.\n",
              "// This uses a Promise to block the python side on completion of each step,\n",
              "// then passes the result of the previous step as the input to the next step.\n",
              "function _uploadFilesContinue(outputId) {\n",
              "  const outputElement = document.getElementById(outputId);\n",
              "  const steps = outputElement.steps;\n",
              "\n",
              "  const next = steps.next(outputElement.lastPromiseValue);\n",
              "  return Promise.resolve(next.value.promise).then((value) => {\n",
              "    // Cache the last promise value to make it available to the next\n",
              "    // step of the generator.\n",
              "    outputElement.lastPromiseValue = value;\n",
              "    return next.value.response;\n",
              "  });\n",
              "}\n",
              "\n",
              "/**\n",
              " * Generator function which is called between each async step of the upload\n",
              " * process.\n",
              " * @param {string} inputId Element ID of the input file picker element.\n",
              " * @param {string} outputId Element ID of the output display.\n",
              " * @return {!Iterable<!Object>} Iterable of next steps.\n",
              " */\n",
              "function* uploadFilesStep(inputId, outputId) {\n",
              "  const inputElement = document.getElementById(inputId);\n",
              "  inputElement.disabled = false;\n",
              "\n",
              "  const outputElement = document.getElementById(outputId);\n",
              "  outputElement.innerHTML = '';\n",
              "\n",
              "  const pickedPromise = new Promise((resolve) => {\n",
              "    inputElement.addEventListener('change', (e) => {\n",
              "      resolve(e.target.files);\n",
              "    });\n",
              "  });\n",
              "\n",
              "  const cancel = document.createElement('button');\n",
              "  inputElement.parentElement.appendChild(cancel);\n",
              "  cancel.textContent = 'Cancel upload';\n",
              "  const cancelPromise = new Promise((resolve) => {\n",
              "    cancel.onclick = () => {\n",
              "      resolve(null);\n",
              "    };\n",
              "  });\n",
              "\n",
              "  // Wait for the user to pick the files.\n",
              "  const files = yield {\n",
              "    promise: Promise.race([pickedPromise, cancelPromise]),\n",
              "    response: {\n",
              "      action: 'starting',\n",
              "    }\n",
              "  };\n",
              "\n",
              "  cancel.remove();\n",
              "\n",
              "  // Disable the input element since further picks are not allowed.\n",
              "  inputElement.disabled = true;\n",
              "\n",
              "  if (!files) {\n",
              "    return {\n",
              "      response: {\n",
              "        action: 'complete',\n",
              "      }\n",
              "    };\n",
              "  }\n",
              "\n",
              "  for (const file of files) {\n",
              "    const li = document.createElement('li');\n",
              "    li.append(span(file.name, {fontWeight: 'bold'}));\n",
              "    li.append(span(\n",
              "        `(${file.type || 'n/a'}) - ${file.size} bytes, ` +\n",
              "        `last modified: ${\n",
              "            file.lastModifiedDate ? file.lastModifiedDate.toLocaleDateString() :\n",
              "                                    'n/a'} - `));\n",
              "    const percent = span('0% done');\n",
              "    li.appendChild(percent);\n",
              "\n",
              "    outputElement.appendChild(li);\n",
              "\n",
              "    const fileDataPromise = new Promise((resolve) => {\n",
              "      const reader = new FileReader();\n",
              "      reader.onload = (e) => {\n",
              "        resolve(e.target.result);\n",
              "      };\n",
              "      reader.readAsArrayBuffer(file);\n",
              "    });\n",
              "    // Wait for the data to be ready.\n",
              "    let fileData = yield {\n",
              "      promise: fileDataPromise,\n",
              "      response: {\n",
              "        action: 'continue',\n",
              "      }\n",
              "    };\n",
              "\n",
              "    // Use a chunked sending to avoid message size limits. See b/62115660.\n",
              "    let position = 0;\n",
              "    do {\n",
              "      const length = Math.min(fileData.byteLength - position, MAX_PAYLOAD_SIZE);\n",
              "      const chunk = new Uint8Array(fileData, position, length);\n",
              "      position += length;\n",
              "\n",
              "      const base64 = btoa(String.fromCharCode.apply(null, chunk));\n",
              "      yield {\n",
              "        response: {\n",
              "          action: 'append',\n",
              "          file: file.name,\n",
              "          data: base64,\n",
              "        },\n",
              "      };\n",
              "\n",
              "      let percentDone = fileData.byteLength === 0 ?\n",
              "          100 :\n",
              "          Math.round((position / fileData.byteLength) * 100);\n",
              "      percent.textContent = `${percentDone}% done`;\n",
              "\n",
              "    } while (position < fileData.byteLength);\n",
              "  }\n",
              "\n",
              "  // All done.\n",
              "  yield {\n",
              "    response: {\n",
              "      action: 'complete',\n",
              "    }\n",
              "  };\n",
              "}\n",
              "\n",
              "scope.google = scope.google || {};\n",
              "scope.google.colab = scope.google.colab || {};\n",
              "scope.google.colab._files = {\n",
              "  _uploadFiles,\n",
              "  _uploadFilesContinue,\n",
              "};\n",
              "})(self);\n",
              "</script> "
            ]
          },
          "metadata": {}
        },
        {
          "output_type": "stream",
          "name": "stdout",
          "text": [
            "Saving kaggle.json to kaggle.json\n"
          ]
        },
        {
          "output_type": "execute_result",
          "data": {
            "text/plain": [
              "{'kaggle.json': b'{\"username\":\"rubanzasilva\",\"key\":\"3c109650146efc9c92fc9e8bfe70d487\"}'}"
            ]
          },
          "metadata": {},
          "execution_count": 16
        }
      ],
      "source": [
        "from google.colab import files\n",
        "files.upload()"
      ]
    },
    {
      "cell_type": "code",
      "execution_count": 21,
      "metadata": {
        "colab": {
          "base_uri": "https://localhost:8080/"
        },
        "id": "GuZPWaUgzE63",
        "outputId": "0ca7e378-8d74-49f2-dbd4-e4daa1908c2b"
      },
      "outputs": [
        {
          "output_type": "stream",
          "name": "stdout",
          "text": [
            "mkdir: cannot create directory ‘/root/.kaggle’: File exists\n"
          ]
        }
      ],
      "source": [
        "! mkdir ~/.kaggle\n",
        "\n",
        "! cp kaggle.json ~/.kaggle/\n",
        "\n",
        "#chmod 600 /root/.kaggle/kaggle.json"
      ]
    },
    {
      "cell_type": "code",
      "execution_count": 22,
      "metadata": {
        "colab": {
          "base_uri": "https://localhost:8080/"
        },
        "id": "awpzu7DZzFqR",
        "outputId": "d5a7da32-36d8-4006-e243-6b65beb5b839"
      },
      "outputs": [
        {
          "output_type": "stream",
          "name": "stdout",
          "text": [
            "Warning: Your Kaggle API key is readable by other users on this system! To fix this, you can run 'chmod 600 /root/.kaggle/kaggle.json'\n",
            "Downloading playground-series-s4e5.zip to /content\n"
          ]
        },
        {
          "output_type": "stream",
          "name": "stderr",
          "text": [
            "100%|██████████| 28.0M/28.0M [00:01<00:00, 23.6MB/s]\n"
          ]
        },
        {
          "output_type": "stream",
          "name": "stdout",
          "text": [
            "\n"
          ]
        }
      ],
      "source": [
        "comp = 'playground-series-s4e5'\n",
        "\n",
        "path = setup_comp(comp, install='fastai \"timm>=0.6.2.dev0\"')"
      ]
    },
    {
      "cell_type": "code",
      "execution_count": 23,
      "metadata": {
        "colab": {
          "base_uri": "https://localhost:8080/"
        },
        "id": "RPDMN317wl9U",
        "outputId": "f97a1f0e-45ae-4a27-b726-ccb91f060a23"
      },
      "outputs": [
        {
          "output_type": "stream",
          "name": "stdout",
          "text": [
            "kaggle.json  playground-series-s4e5  playground-series-s4e5.zip  sample_data\n"
          ]
        }
      ],
      "source": [
        "!ls"
      ]
    },
    {
      "cell_type": "code",
      "execution_count": 24,
      "metadata": {
        "id": "fNS7k8F6wl9V"
      },
      "outputs": [],
      "source": [
        "#set_seed(42)"
      ]
    },
    {
      "cell_type": "code",
      "execution_count": 25,
      "metadata": {
        "colab": {
          "base_uri": "https://localhost:8080/"
        },
        "id": "1SJtgwQowl9W",
        "outputId": "434293b9-8142-4371-9463-397d192ed00a"
      },
      "outputs": [
        {
          "output_type": "execute_result",
          "data": {
            "text/plain": [
              "Path('playground-series-s4e5')"
            ]
          },
          "metadata": {},
          "execution_count": 25
        }
      ],
      "source": [
        "path = Path('playground-series-s4e5/')\n",
        "path"
      ]
    },
    {
      "cell_type": "code",
      "execution_count": 26,
      "metadata": {
        "id": "_wcadRigwl9X"
      },
      "outputs": [],
      "source": [
        "train_df = pd.read_csv(path/'train.csv',index_col='id')\n",
        "test_df = pd.read_csv(path/'test.csv',index_col='id')\n",
        "sub_df = pd.read_csv(path/'sample_submission.csv',index_col='id')"
      ]
    },
    {
      "cell_type": "code",
      "source": [
        "train_df"
      ],
      "metadata": {
        "id": "Pq5Az22TsHp1"
      },
      "execution_count": null,
      "outputs": []
    },
    {
      "cell_type": "code",
      "source": [
        "train_df.shape,test_df.shape"
      ],
      "metadata": {
        "colab": {
          "base_uri": "https://localhost:8080/"
        },
        "id": "HrYK2LNgoVkr",
        "outputId": "b81bae00-88f1-4a1f-db87-4d185838e527"
      },
      "execution_count": 39,
      "outputs": [
        {
          "output_type": "execute_result",
          "data": {
            "text/plain": [
              "((1117957, 21), (745305, 20))"
            ]
          },
          "metadata": {},
          "execution_count": 39
        }
      ]
    },
    {
      "cell_type": "code",
      "execution_count": 27,
      "metadata": {
        "id": "LG3XhTxswl9a",
        "outputId": "a3a81ffd-cfe1-40cf-b286-4d3c397347a4",
        "colab": {
          "base_uri": "https://localhost:8080/"
        }
      },
      "outputs": [
        {
          "output_type": "execute_result",
          "data": {
            "text/plain": [
              "Index(['MonsoonIntensity', 'TopographyDrainage', 'RiverManagement',\n",
              "       'Deforestation', 'Urbanization', 'ClimateChange', 'DamsQuality',\n",
              "       'Siltation', 'AgriculturalPractices', 'Encroachments',\n",
              "       'IneffectiveDisasterPreparedness', 'DrainageSystems',\n",
              "       'CoastalVulnerability', 'Landslides', 'Watersheds',\n",
              "       'DeterioratingInfrastructure', 'PopulationScore', 'WetlandLoss',\n",
              "       'InadequatePlanning', 'PoliticalFactors', 'FloodProbability'],\n",
              "      dtype='object')"
            ]
          },
          "metadata": {},
          "execution_count": 27
        }
      ],
      "source": [
        "train_df.columns"
      ]
    },
    {
      "cell_type": "code",
      "source": [
        "train_subset.hist(figsize=(20,15));"
      ],
      "metadata": {
        "colab": {
          "base_uri": "https://localhost:8080/",
          "height": 1000
        },
        "id": "CFYUYErJKoNT",
        "outputId": "060f243a-c7c6-4335-a615-bf8844bc95da"
      },
      "execution_count": 42,
      "outputs": [
        {
          "output_type": "display_data",
          "data": {
            "text/plain": [
              "<Figure size 2000x1500 with 25 Axes>"
            ],
            "image/png": "[encoded data removed]"
          },
          "metadata": {}
        }
      ]
    },
    {
      "cell_type": "markdown",
      "source": [
        "Using Subset"
      ],
      "metadata": {
        "id": "BRHgrPbDn5f_"
      }
    },
    {
      "cell_type": "code",
      "source": [
        "train_subset = train_df.iloc[:30000]\n",
        "test_subset = test_df.iloc[:30000]"
      ],
      "metadata": {
        "id": "8GSpueo4nnY0"
      },
      "execution_count": 40,
      "outputs": []
    },
    {
      "cell_type": "code",
      "source": [
        "cont_names,cat_names = cont_cat_split(train_subset, dep_var='FloodProbability')\n",
        "splits = RandomSplitter(valid_pct=0.2)(range_of(train_subset))\n",
        "to = TabularPandas(train_subset, procs=[Categorify, FillMissing,Normalize],\n",
        "                   cat_names = cat_names,\n",
        "                   cont_names = cont_names,\n",
        "                   y_names='FloodProbability',\n",
        "                   y_block=RegressionBlock(),\n",
        "                   splits=splits)\n",
        "\n",
        "X_train, y_train = to.train.xs, to.train.ys.values.ravel()\n",
        "X_test, y_test = to.valid.xs, to.valid.ys.values.ravel()\n",
        "\n",
        "dls = to.dataloaders(bs=64)\n",
        "test_dl = dls.test_dl(test_subset)"
      ],
      "metadata": {
        "id": "DcH2CE0dn8G9"
      },
      "execution_count": 43,
      "outputs": []
    },
    {
      "cell_type": "code",
      "source": [
        "learn = tabular_learner(dls, metrics=R2Score())\n",
        "learn.lr_find(suggest_funcs=(slide,valley))"
      ],
      "metadata": {
        "colab": {
          "base_uri": "https://localhost:8080/",
          "height": 471
        },
        "id": "5LuKOrtVn8BJ",
        "outputId": "69b462ed-fe15-47cd-8e68-27ff73c1353d"
      },
      "execution_count": 44,
      "outputs": [
        {
          "output_type": "display_data",
          "data": {
            "text/plain": [
              "<IPython.core.display.HTML object>"
            ],
            "text/html": [
              "\n",
              "<style>\n",
              "    /* Turns off some styling */\n",
              "    progress {\n",
              "        /* gets rid of default border in Firefox and Opera. */\n",
              "        border: none;\n",
              "        /* Needs to be in here for Safari polyfill so background images work as expected. */\n",
              "        background-size: auto;\n",
              "    }\n",
              "    progress:not([value]), progress:not([value])::-webkit-progress-bar {\n",
              "        background: repeating-linear-gradient(45deg, #7e7e7e, #7e7e7e 10px, #5c5c5c 10px, #5c5c5c 20px);\n",
              "    }\n",
              "    .progress-bar-interrupted, .progress-bar-interrupted::-webkit-progress-bar {\n",
              "        background: #F44336;\n",
              "    }\n",
              "</style>\n"
            ]
          },
          "metadata": {}
        },
        {
          "output_type": "display_data",
          "data": {
            "text/plain": [
              "<IPython.core.display.HTML object>"
            ],
            "text/html": []
          },
          "metadata": {}
        },
        {
          "output_type": "execute_result",
          "data": {
            "text/plain": [
              "SuggestedLRs(slide=0.013182567432522774, valley=0.0010000000474974513)"
            ]
          },
          "metadata": {},
          "execution_count": 44
        },
        {
          "output_type": "display_data",
          "data": {
            "text/plain": [
              "<Figure size 640x480 with 1 Axes>"
            ],
            "image/png": "[encoded data removed]"
          },
          "metadata": {}
        }
      ]
    },
    {
      "cell_type": "code",
      "source": [
        "learn.fit_one_cycle(25,0.008)"
      ],
      "metadata": {
        "id": "J6Mu0bifn78U"
      },
      "execution_count": null,
      "outputs": []
    },
    {
      "cell_type": "code",
      "source": [
        "#learn.fit_one_cycle(5,0.008)\n",
        "dl = learn.dls.test_dl(test_df)\n",
        "nn_preds = learn.get_preds(dl=dl)\n",
        "nn_preds_x = learn.get_preds()[0]\n",
        "a_preds, _ = learn.get_preds(dl=dl)\n",
        "nn_preds_y = a_preds.squeeze(1)\n"
      ],
      "metadata": {
        "colab": {
          "base_uri": "https://localhost:8080/",
          "height": 17
        },
        "id": "cbRIdo0Vosap",
        "outputId": "bb4ca11c-093a-4544-c75c-94c07b31c594"
      },
      "execution_count": 46,
      "outputs": [
        {
          "output_type": "display_data",
          "data": {
            "text/plain": [
              "<IPython.core.display.HTML object>"
            ],
            "text/html": [
              "\n",
              "<style>\n",
              "    /* Turns off some styling */\n",
              "    progress {\n",
              "        /* gets rid of default border in Firefox and Opera. */\n",
              "        border: none;\n",
              "        /* Needs to be in here for Safari polyfill so background images work as expected. */\n",
              "        background-size: auto;\n",
              "    }\n",
              "    progress:not([value]), progress:not([value])::-webkit-progress-bar {\n",
              "        background: repeating-linear-gradient(45deg, #7e7e7e, #7e7e7e 10px, #5c5c5c 10px, #5c5c5c 20px);\n",
              "    }\n",
              "    .progress-bar-interrupted, .progress-bar-interrupted::-webkit-progress-bar {\n",
              "        background: #F44336;\n",
              "    }\n",
              "</style>\n"
            ]
          },
          "metadata": {}
        },
        {
          "output_type": "display_data",
          "data": {
            "text/plain": [
              "<IPython.core.display.HTML object>"
            ],
            "text/html": []
          },
          "metadata": {}
        },
        {
          "output_type": "display_data",
          "data": {
            "text/plain": [
              "<IPython.core.display.HTML object>"
            ],
            "text/html": [
              "\n",
              "<style>\n",
              "    /* Turns off some styling */\n",
              "    progress {\n",
              "        /* gets rid of default border in Firefox and Opera. */\n",
              "        border: none;\n",
              "        /* Needs to be in here for Safari polyfill so background images work as expected. */\n",
              "        background-size: auto;\n",
              "    }\n",
              "    progress:not([value]), progress:not([value])::-webkit-progress-bar {\n",
              "        background: repeating-linear-gradient(45deg, #7e7e7e, #7e7e7e 10px, #5c5c5c 10px, #5c5c5c 20px);\n",
              "    }\n",
              "    .progress-bar-interrupted, .progress-bar-interrupted::-webkit-progress-bar {\n",
              "        background: #F44336;\n",
              "    }\n",
              "</style>\n"
            ]
          },
          "metadata": {}
        },
        {
          "output_type": "display_data",
          "data": {
            "text/plain": [
              "<IPython.core.display.HTML object>"
            ],
            "text/html": []
          },
          "metadata": {}
        },
        {
          "output_type": "display_data",
          "data": {
            "text/plain": [
              "<IPython.core.display.HTML object>"
            ],
            "text/html": [
              "\n",
              "<style>\n",
              "    /* Turns off some styling */\n",
              "    progress {\n",
              "        /* gets rid of default border in Firefox and Opera. */\n",
              "        border: none;\n",
              "        /* Needs to be in here for Safari polyfill so background images work as expected. */\n",
              "        background-size: auto;\n",
              "    }\n",
              "    progress:not([value]), progress:not([value])::-webkit-progress-bar {\n",
              "        background: repeating-linear-gradient(45deg, #7e7e7e, #7e7e7e 10px, #5c5c5c 10px, #5c5c5c 20px);\n",
              "    }\n",
              "    .progress-bar-interrupted, .progress-bar-interrupted::-webkit-progress-bar {\n",
              "        background: #F44336;\n",
              "    }\n",
              "</style>\n"
            ]
          },
          "metadata": {}
        },
        {
          "output_type": "display_data",
          "data": {
            "text/plain": [
              "<IPython.core.display.HTML object>"
            ],
            "text/html": []
          },
          "metadata": {}
        }
      ]
    },
    {
      "cell_type": "code",
      "source": [
        "r2_score(y_test,nn_preds_x)"
      ],
      "metadata": {
        "colab": {
          "base_uri": "https://localhost:8080/"
        },
        "id": "m5fEWQjoosUC",
        "outputId": "3dec0b16-380d-4023-b2b7-915baa941c9f"
      },
      "execution_count": 47,
      "outputs": [
        {
          "output_type": "execute_result",
          "data": {
            "text/plain": [
              "0.740747148871282"
            ]
          },
          "metadata": {},
          "execution_count": 47
        }
      ]
    },
    {
      "cell_type": "markdown",
      "source": [
        "Using random subset\n",
        "\n",
        "Using a random subset results in better and faster training"
      ],
      "metadata": {
        "id": "GfMRZMpLqgsO"
      }
    },
    {
      "cell_type": "code",
      "source": [
        "train_subset = train_df.sample(n=50000,replace=False)\n",
        "test_subset = test_df.sample(n=30000,replace=False)"
      ],
      "metadata": {
        "id": "hkH_o14VtzfE"
      },
      "execution_count": 49,
      "outputs": []
    },
    {
      "cell_type": "code",
      "source": [
        "cont_names,cat_names = cont_cat_split(train_subset, dep_var='FloodProbability')\n",
        "splits = RandomSplitter(valid_pct=0.2)(range_of(train_subset))\n",
        "to = TabularPandas(train_subset, procs=[Categorify, FillMissing,Normalize],\n",
        "                   cat_names = cat_names,\n",
        "                   cont_names = cont_names,\n",
        "                   y_names='FloodProbability',\n",
        "                   y_block=RegressionBlock(),\n",
        "                   splits=splits)\n",
        "\n",
        "X_train, y_train = to.train.xs, to.train.ys.values.ravel()\n",
        "X_test, y_test = to.valid.xs, to.valid.ys.values.ravel()\n",
        "\n",
        "dls = to.dataloaders(bs=64)\n",
        "test_dl = dls.test_dl(test_subset)"
      ],
      "metadata": {
        "id": "1QProY5ztzXt"
      },
      "execution_count": 50,
      "outputs": []
    },
    {
      "cell_type": "code",
      "source": [
        "learn = tabular_learner(dls, metrics=R2Score())\n",
        "learn.lr_find(suggest_funcs=(slide,valley))"
      ],
      "metadata": {
        "colab": {
          "base_uri": "https://localhost:8080/",
          "height": 471
        },
        "id": "scHIObTkty1Y",
        "outputId": "9d61a42e-2f13-4aca-8e3f-bb1baeecc52c"
      },
      "execution_count": 51,
      "outputs": [
        {
          "output_type": "display_data",
          "data": {
            "text/plain": [
              "<IPython.core.display.HTML object>"
            ],
            "text/html": [
              "\n",
              "<style>\n",
              "    /* Turns off some styling */\n",
              "    progress {\n",
              "        /* gets rid of default border in Firefox and Opera. */\n",
              "        border: none;\n",
              "        /* Needs to be in here for Safari polyfill so background images work as expected. */\n",
              "        background-size: auto;\n",
              "    }\n",
              "    progress:not([value]), progress:not([value])::-webkit-progress-bar {\n",
              "        background: repeating-linear-gradient(45deg, #7e7e7e, #7e7e7e 10px, #5c5c5c 10px, #5c5c5c 20px);\n",
              "    }\n",
              "    .progress-bar-interrupted, .progress-bar-interrupted::-webkit-progress-bar {\n",
              "        background: #F44336;\n",
              "    }\n",
              "</style>\n"
            ]
          },
          "metadata": {}
        },
        {
          "output_type": "display_data",
          "data": {
            "text/plain": [
              "<IPython.core.display.HTML object>"
            ],
            "text/html": []
          },
          "metadata": {}
        },
        {
          "output_type": "execute_result",
          "data": {
            "text/plain": [
              "SuggestedLRs(slide=0.010964781977236271, valley=0.0020892962347716093)"
            ]
          },
          "metadata": {},
          "execution_count": 51
        },
        {
          "output_type": "display_data",
          "data": {
            "text/plain": [
              "<Figure size 640x480 with 1 Axes>"
            ],
            "image/png": "[encoded data removed]"
          },
          "metadata": {}
        }
      ]
    },
    {
      "cell_type": "code",
      "source": [
        "learn.fit_one_cycle(50,0.008)\n",
        "dl = learn.dls.test_dl(test_df)\n",
        "nn_preds = learn.get_preds(dl=dl)\n",
        "nn_preds_x = learn.get_preds()[0]\n",
        "a_preds, _ = learn.get_preds(dl=dl)\n",
        "nn_preds_y = a_preds.squeeze(1)"
      ],
      "metadata": {
        "colab": {
          "base_uri": "https://localhost:8080/",
          "height": 1000
        },
        "id": "RTVpCdWctyxu",
        "outputId": "7f8718c7-f96d-4510-8a01-4539880fdd8c"
      },
      "execution_count": 52,
      "outputs": [
        {
          "output_type": "display_data",
          "data": {
            "text/plain": [
              "<IPython.core.display.HTML object>"
            ],
            "text/html": [
              "\n",
              "<style>\n",
              "    /* Turns off some styling */\n",
              "    progress {\n",
              "        /* gets rid of default border in Firefox and Opera. */\n",
              "        border: none;\n",
              "        /* Needs to be in here for Safari polyfill so background images work as expected. */\n",
              "        background-size: auto;\n",
              "    }\n",
              "    progress:not([value]), progress:not([value])::-webkit-progress-bar {\n",
              "        background: repeating-linear-gradient(45deg, #7e7e7e, #7e7e7e 10px, #5c5c5c 10px, #5c5c5c 20px);\n",
              "    }\n",
              "    .progress-bar-interrupted, .progress-bar-interrupted::-webkit-progress-bar {\n",
              "        background: #F44336;\n",
              "    }\n",
              "</style>\n"
            ]
          },
          "metadata": {}
        },
        {
          "output_type": "display_data",
          "data": {
            "text/plain": [
              "<IPython.core.display.HTML object>"
            ],
            "text/html": [
              "<table border=\"1\" class=\"dataframe\">\n",
              "  <thead>\n",
              "    <tr style=\"text-align: left;\">\n",
              "      <th>epoch</th>\n",
              "      <th>train_loss</th>\n",
              "      <th>valid_loss</th>\n",
              "      <th>r2_score</th>\n",
              "      <th>time</th>\n",
              "    </tr>\n",
              "  </thead>\n",
              "  <tbody>\n",
              "    <tr>\n",
              "      <td>0</td>\n",
              "      <td>0.005536</td>\n",
              "      <td>0.004564</td>\n",
              "      <td>-0.765969</td>\n",
              "      <td>00:10</td>\n",
              "    </tr>\n",
              "    <tr>\n",
              "      <td>1</td>\n",
              "      <td>0.000927</td>\n",
              "      <td>0.000866</td>\n",
              "      <td>0.665070</td>\n",
              "      <td>00:12</td>\n",
              "    </tr>\n",
              "    <tr>\n",
              "      <td>2</td>\n",
              "      <td>0.000750</td>\n",
              "      <td>0.000584</td>\n",
              "      <td>0.774056</td>\n",
              "      <td>00:10</td>\n",
              "    </tr>\n",
              "    <tr>\n",
              "      <td>3</td>\n",
              "      <td>0.000685</td>\n",
              "      <td>0.000801</td>\n",
              "      <td>0.690059</td>\n",
              "      <td>00:10</td>\n",
              "    </tr>\n",
              "    <tr>\n",
              "      <td>4</td>\n",
              "      <td>0.000745</td>\n",
              "      <td>0.000673</td>\n",
              "      <td>0.739750</td>\n",
              "      <td>00:10</td>\n",
              "    </tr>\n",
              "    <tr>\n",
              "      <td>5</td>\n",
              "      <td>0.000761</td>\n",
              "      <td>0.000828</td>\n",
              "      <td>0.679690</td>\n",
              "      <td>00:11</td>\n",
              "    </tr>\n",
              "    <tr>\n",
              "      <td>6</td>\n",
              "      <td>0.000886</td>\n",
              "      <td>0.000686</td>\n",
              "      <td>0.734591</td>\n",
              "      <td>00:10</td>\n",
              "    </tr>\n",
              "    <tr>\n",
              "      <td>7</td>\n",
              "      <td>0.000793</td>\n",
              "      <td>0.000876</td>\n",
              "      <td>0.661087</td>\n",
              "      <td>00:10</td>\n",
              "    </tr>\n",
              "    <tr>\n",
              "      <td>8</td>\n",
              "      <td>0.000748</td>\n",
              "      <td>0.000661</td>\n",
              "      <td>0.744283</td>\n",
              "      <td>00:10</td>\n",
              "    </tr>\n",
              "    <tr>\n",
              "      <td>9</td>\n",
              "      <td>0.000769</td>\n",
              "      <td>0.001085</td>\n",
              "      <td>0.580356</td>\n",
              "      <td>00:10</td>\n",
              "    </tr>\n",
              "    <tr>\n",
              "      <td>10</td>\n",
              "      <td>0.000683</td>\n",
              "      <td>0.000678</td>\n",
              "      <td>0.737712</td>\n",
              "      <td>00:09</td>\n",
              "    </tr>\n",
              "    <tr>\n",
              "      <td>11</td>\n",
              "      <td>0.000588</td>\n",
              "      <td>0.000541</td>\n",
              "      <td>0.790537</td>\n",
              "      <td>00:09</td>\n",
              "    </tr>\n",
              "    <tr>\n",
              "      <td>12</td>\n",
              "      <td>0.000530</td>\n",
              "      <td>0.000575</td>\n",
              "      <td>0.777350</td>\n",
              "      <td>00:10</td>\n",
              "    </tr>\n",
              "    <tr>\n",
              "      <td>13</td>\n",
              "      <td>0.000521</td>\n",
              "      <td>0.000489</td>\n",
              "      <td>0.810642</td>\n",
              "      <td>00:10</td>\n",
              "    </tr>\n",
              "    <tr>\n",
              "      <td>14</td>\n",
              "      <td>0.000490</td>\n",
              "      <td>0.000473</td>\n",
              "      <td>0.816934</td>\n",
              "      <td>00:10</td>\n",
              "    </tr>\n",
              "    <tr>\n",
              "      <td>15</td>\n",
              "      <td>0.000514</td>\n",
              "      <td>0.000533</td>\n",
              "      <td>0.793724</td>\n",
              "      <td>00:11</td>\n",
              "    </tr>\n",
              "    <tr>\n",
              "      <td>16</td>\n",
              "      <td>0.000519</td>\n",
              "      <td>0.000467</td>\n",
              "      <td>0.819216</td>\n",
              "      <td>00:08</td>\n",
              "    </tr>\n",
              "    <tr>\n",
              "      <td>17</td>\n",
              "      <td>0.000535</td>\n",
              "      <td>0.000466</td>\n",
              "      <td>0.819834</td>\n",
              "      <td>00:10</td>\n",
              "    </tr>\n",
              "    <tr>\n",
              "      <td>18</td>\n",
              "      <td>0.000520</td>\n",
              "      <td>0.000442</td>\n",
              "      <td>0.829074</td>\n",
              "      <td>00:12</td>\n",
              "    </tr>\n",
              "    <tr>\n",
              "      <td>19</td>\n",
              "      <td>0.000481</td>\n",
              "      <td>0.000540</td>\n",
              "      <td>0.791042</td>\n",
              "      <td>00:12</td>\n",
              "    </tr>\n",
              "    <tr>\n",
              "      <td>20</td>\n",
              "      <td>0.000489</td>\n",
              "      <td>0.000443</td>\n",
              "      <td>0.828393</td>\n",
              "      <td>00:10</td>\n",
              "    </tr>\n",
              "    <tr>\n",
              "      <td>21</td>\n",
              "      <td>0.000479</td>\n",
              "      <td>0.000461</td>\n",
              "      <td>0.821642</td>\n",
              "      <td>00:10</td>\n",
              "    </tr>\n",
              "    <tr>\n",
              "      <td>22</td>\n",
              "      <td>0.000456</td>\n",
              "      <td>0.000454</td>\n",
              "      <td>0.824401</td>\n",
              "      <td>00:10</td>\n",
              "    </tr>\n",
              "    <tr>\n",
              "      <td>23</td>\n",
              "      <td>0.000460</td>\n",
              "      <td>0.000457</td>\n",
              "      <td>0.823254</td>\n",
              "      <td>00:10</td>\n",
              "    </tr>\n",
              "    <tr>\n",
              "      <td>24</td>\n",
              "      <td>0.000439</td>\n",
              "      <td>0.000471</td>\n",
              "      <td>0.817779</td>\n",
              "      <td>00:10</td>\n",
              "    </tr>\n",
              "    <tr>\n",
              "      <td>25</td>\n",
              "      <td>0.000471</td>\n",
              "      <td>0.000457</td>\n",
              "      <td>0.823279</td>\n",
              "      <td>00:09</td>\n",
              "    </tr>\n",
              "    <tr>\n",
              "      <td>26</td>\n",
              "      <td>0.000452</td>\n",
              "      <td>0.000477</td>\n",
              "      <td>0.815401</td>\n",
              "      <td>00:10</td>\n",
              "    </tr>\n",
              "    <tr>\n",
              "      <td>27</td>\n",
              "      <td>0.000430</td>\n",
              "      <td>0.000467</td>\n",
              "      <td>0.819377</td>\n",
              "      <td>00:10</td>\n",
              "    </tr>\n",
              "    <tr>\n",
              "      <td>28</td>\n",
              "      <td>0.000405</td>\n",
              "      <td>0.000474</td>\n",
              "      <td>0.816635</td>\n",
              "      <td>00:11</td>\n",
              "    </tr>\n",
              "    <tr>\n",
              "      <td>29</td>\n",
              "      <td>0.000407</td>\n",
              "      <td>0.000474</td>\n",
              "      <td>0.816523</td>\n",
              "      <td>00:09</td>\n",
              "    </tr>\n",
              "    <tr>\n",
              "      <td>30</td>\n",
              "      <td>0.000419</td>\n",
              "      <td>0.000485</td>\n",
              "      <td>0.812280</td>\n",
              "      <td>00:10</td>\n",
              "    </tr>\n",
              "    <tr>\n",
              "      <td>31</td>\n",
              "      <td>0.000397</td>\n",
              "      <td>0.000481</td>\n",
              "      <td>0.814028</td>\n",
              "      <td>00:11</td>\n",
              "    </tr>\n",
              "    <tr>\n",
              "      <td>32</td>\n",
              "      <td>0.000377</td>\n",
              "      <td>0.000481</td>\n",
              "      <td>0.813983</td>\n",
              "      <td>00:10</td>\n",
              "    </tr>\n",
              "    <tr>\n",
              "      <td>33</td>\n",
              "      <td>0.000374</td>\n",
              "      <td>0.000494</td>\n",
              "      <td>0.809001</td>\n",
              "      <td>00:12</td>\n",
              "    </tr>\n",
              "    <tr>\n",
              "      <td>34</td>\n",
              "      <td>0.000368</td>\n",
              "      <td>0.000495</td>\n",
              "      <td>0.808630</td>\n",
              "      <td>00:09</td>\n",
              "    </tr>\n",
              "    <tr>\n",
              "      <td>35</td>\n",
              "      <td>0.000360</td>\n",
              "      <td>0.000498</td>\n",
              "      <td>0.807350</td>\n",
              "      <td>00:10</td>\n",
              "    </tr>\n",
              "    <tr>\n",
              "      <td>36</td>\n",
              "      <td>0.000340</td>\n",
              "      <td>0.000490</td>\n",
              "      <td>0.810280</td>\n",
              "      <td>00:14</td>\n",
              "    </tr>\n",
              "    <tr>\n",
              "      <td>37</td>\n",
              "      <td>0.000341</td>\n",
              "      <td>0.000510</td>\n",
              "      <td>0.802727</td>\n",
              "      <td>00:10</td>\n",
              "    </tr>\n",
              "    <tr>\n",
              "      <td>38</td>\n",
              "      <td>0.000315</td>\n",
              "      <td>0.000521</td>\n",
              "      <td>0.798216</td>\n",
              "      <td>00:13</td>\n",
              "    </tr>\n",
              "    <tr>\n",
              "      <td>39</td>\n",
              "      <td>0.000300</td>\n",
              "      <td>0.000516</td>\n",
              "      <td>0.800276</td>\n",
              "      <td>00:10</td>\n",
              "    </tr>\n",
              "    <tr>\n",
              "      <td>40</td>\n",
              "      <td>0.000304</td>\n",
              "      <td>0.000550</td>\n",
              "      <td>0.787361</td>\n",
              "      <td>00:10</td>\n",
              "    </tr>\n",
              "    <tr>\n",
              "      <td>41</td>\n",
              "      <td>0.000288</td>\n",
              "      <td>0.000532</td>\n",
              "      <td>0.794198</td>\n",
              "      <td>00:09</td>\n",
              "    </tr>\n",
              "    <tr>\n",
              "      <td>42</td>\n",
              "      <td>0.000282</td>\n",
              "      <td>0.000536</td>\n",
              "      <td>0.792582</td>\n",
              "      <td>00:10</td>\n",
              "    </tr>\n",
              "    <tr>\n",
              "      <td>43</td>\n",
              "      <td>0.000287</td>\n",
              "      <td>0.000536</td>\n",
              "      <td>0.792528</td>\n",
              "      <td>00:10</td>\n",
              "    </tr>\n",
              "    <tr>\n",
              "      <td>44</td>\n",
              "      <td>0.000264</td>\n",
              "      <td>0.000534</td>\n",
              "      <td>0.793226</td>\n",
              "      <td>00:10</td>\n",
              "    </tr>\n",
              "    <tr>\n",
              "      <td>45</td>\n",
              "      <td>0.000287</td>\n",
              "      <td>0.000540</td>\n",
              "      <td>0.791085</td>\n",
              "      <td>00:09</td>\n",
              "    </tr>\n",
              "    <tr>\n",
              "      <td>46</td>\n",
              "      <td>0.000256</td>\n",
              "      <td>0.000555</td>\n",
              "      <td>0.785286</td>\n",
              "      <td>00:10</td>\n",
              "    </tr>\n",
              "    <tr>\n",
              "      <td>47</td>\n",
              "      <td>0.000279</td>\n",
              "      <td>0.000548</td>\n",
              "      <td>0.787995</td>\n",
              "      <td>00:11</td>\n",
              "    </tr>\n",
              "    <tr>\n",
              "      <td>48</td>\n",
              "      <td>0.000261</td>\n",
              "      <td>0.000545</td>\n",
              "      <td>0.789146</td>\n",
              "      <td>00:15</td>\n",
              "    </tr>\n",
              "    <tr>\n",
              "      <td>49</td>\n",
              "      <td>0.000280</td>\n",
              "      <td>0.000549</td>\n",
              "      <td>0.787689</td>\n",
              "      <td>00:15</td>\n",
              "    </tr>\n",
              "  </tbody>\n",
              "</table>"
            ]
          },
          "metadata": {}
        },
        {
          "output_type": "display_data",
          "data": {
            "text/plain": [
              "<IPython.core.display.HTML object>"
            ],
            "text/html": [
              "\n",
              "<style>\n",
              "    /* Turns off some styling */\n",
              "    progress {\n",
              "        /* gets rid of default border in Firefox and Opera. */\n",
              "        border: none;\n",
              "        /* Needs to be in here for Safari polyfill so background images work as expected. */\n",
              "        background-size: auto;\n",
              "    }\n",
              "    progress:not([value]), progress:not([value])::-webkit-progress-bar {\n",
              "        background: repeating-linear-gradient(45deg, #7e7e7e, #7e7e7e 10px, #5c5c5c 10px, #5c5c5c 20px);\n",
              "    }\n",
              "    .progress-bar-interrupted, .progress-bar-interrupted::-webkit-progress-bar {\n",
              "        background: #F44336;\n",
              "    }\n",
              "</style>\n"
            ]
          },
          "metadata": {}
        },
        {
          "output_type": "display_data",
          "data": {
            "text/plain": [
              "<IPython.core.display.HTML object>"
            ],
            "text/html": []
          },
          "metadata": {}
        },
        {
          "output_type": "display_data",
          "data": {
            "text/plain": [
              "<IPython.core.display.HTML object>"
            ],
            "text/html": [
              "\n",
              "<style>\n",
              "    /* Turns off some styling */\n",
              "    progress {\n",
              "        /* gets rid of default border in Firefox and Opera. */\n",
              "        border: none;\n",
              "        /* Needs to be in here for Safari polyfill so background images work as expected. */\n",
              "        background-size: auto;\n",
              "    }\n",
              "    progress:not([value]), progress:not([value])::-webkit-progress-bar {\n",
              "        background: repeating-linear-gradient(45deg, #7e7e7e, #7e7e7e 10px, #5c5c5c 10px, #5c5c5c 20px);\n",
              "    }\n",
              "    .progress-bar-interrupted, .progress-bar-interrupted::-webkit-progress-bar {\n",
              "        background: #F44336;\n",
              "    }\n",
              "</style>\n"
            ]
          },
          "metadata": {}
        },
        {
          "output_type": "display_data",
          "data": {
            "text/plain": [
              "<IPython.core.display.HTML object>"
            ],
            "text/html": []
          },
          "metadata": {}
        },
        {
          "output_type": "display_data",
          "data": {
            "text/plain": [
              "<IPython.core.display.HTML object>"
            ],
            "text/html": [
              "\n",
              "<style>\n",
              "    /* Turns off some styling */\n",
              "    progress {\n",
              "        /* gets rid of default border in Firefox and Opera. */\n",
              "        border: none;\n",
              "        /* Needs to be in here for Safari polyfill so background images work as expected. */\n",
              "        background-size: auto;\n",
              "    }\n",
              "    progress:not([value]), progress:not([value])::-webkit-progress-bar {\n",
              "        background: repeating-linear-gradient(45deg, #7e7e7e, #7e7e7e 10px, #5c5c5c 10px, #5c5c5c 20px);\n",
              "    }\n",
              "    .progress-bar-interrupted, .progress-bar-interrupted::-webkit-progress-bar {\n",
              "        background: #F44336;\n",
              "    }\n",
              "</style>\n"
            ]
          },
          "metadata": {}
        },
        {
          "output_type": "display_data",
          "data": {
            "text/plain": [
              "<IPython.core.display.HTML object>"
            ],
            "text/html": []
          },
          "metadata": {}
        }
      ]
    },
    {
      "cell_type": "code",
      "source": [
        "r2_score(y_test,nn_preds_x)"
      ],
      "metadata": {
        "colab": {
          "base_uri": "https://localhost:8080/"
        },
        "id": "ap-Q-eRttyrj",
        "outputId": "3264557e-a0c2-404f-aee7-4bccb88240d7"
      },
      "execution_count": 53,
      "outputs": [
        {
          "output_type": "execute_result",
          "data": {
            "text/plain": [
              "0.7876894977427987"
            ]
          },
          "metadata": {},
          "execution_count": 53
        }
      ]
    },
    {
      "cell_type": "code",
      "source": [
        "rf = RandomForestRegressor(100, min_samples_leaf=5)\n",
        "rf_model = rf.fit(X_train, y_train);\n",
        "\n",
        "rf_preds = tensor(rf_model.predict(test_dl.xs))\n",
        "\n",
        "rf_preds_x = tensor(rf_model.predict(X_test))\n",
        "\n",
        "mse = mean_absolute_error(y_test, rf_preds_x)\n",
        "rmse = np.sqrt(mse)\n",
        "\n",
        "r2_score(y_test,rf_preds_x)"
      ],
      "metadata": {
        "colab": {
          "base_uri": "https://localhost:8080/"
        },
        "id": "vTs-Kr7otyme",
        "outputId": "3efb135e-1f8f-4d50-c567-3f582d5fe869"
      },
      "execution_count": 54,
      "outputs": [
        {
          "output_type": "execute_result",
          "data": {
            "text/plain": [
              "0.5687041412636994"
            ]
          },
          "metadata": {},
          "execution_count": 54
        }
      ]
    },
    {
      "cell_type": "code",
      "source": [
        "def objective_rf(trial):\n",
        "    params = {\n",
        "        \"n_estimators\": trial.suggest_int(\"n_estimators\", 10, 200, log=True),\n",
        "        \"max_depth\": trial.suggest_int(\"max_depth\", 2, 32),\n",
        "        \"min_samples_split\": trial.suggest_int(\"min_samples_split\", 2, 10),\n",
        "        \"min_samples_leaf\": trial.suggest_int(\"min_samples_leaf\", 1, 10)\n",
        "    }\n",
        "\n",
        "    rf_model = RandomForestRegressor(**params)\n",
        "    rf_model.fit(X_train, y_train)\n",
        "    rf_predictions = rf_model.predict(X_test)\n",
        "    r2score = r2_score(y_test, rf_predictions)\n",
        "    return r2score\n",
        "\n",
        "study_rf = optuna.create_study(direction='minimize')\n",
        "study_rf.optimize(objective_rf, n_trials=100)\n",
        "print(study_rf.best_params)"
      ],
      "metadata": {
        "colab": {
          "base_uri": "https://localhost:8080/"
        },
        "id": "qxYqAuc7wnbZ",
        "outputId": "70c09bfb-27cf-456d-d3f7-154f3713d021"
      },
      "execution_count": 55,
      "outputs": [
        {
          "output_type": "stream",
          "name": "stderr",
          "text": [
            "[I 2024-05-05 08:03:24,654] A new study created in memory with name: no-name-7f83fee9-1876-4ad6-8ed4-142b3201dad5\n",
            "[I 2024-05-05 08:04:04,047] Trial 0 finished with value: 0.5343833214232556 and parameters: {'n_estimators': 193, 'max_depth': 14, 'min_samples_split': 8, 'min_samples_leaf': 9}. Best is trial 0 with value: 0.5343833214232556.\n",
            "[I 2024-05-05 08:04:21,932] Trial 1 finished with value: 0.581670600992376 and parameters: {'n_estimators': 68, 'max_depth': 26, 'min_samples_split': 4, 'min_samples_leaf': 3}. Best is trial 0 with value: 0.5343833214232556.\n",
            "[I 2024-05-05 08:04:27,766] Trial 2 finished with value: 0.5617018689911641 and parameters: {'n_estimators': 20, 'max_depth': 30, 'min_samples_split': 10, 'min_samples_leaf': 1}. Best is trial 0 with value: 0.5343833214232556.\n",
            "[I 2024-05-05 08:04:35,291] Trial 3 finished with value: 0.5667081070655668 and parameters: {'n_estimators': 34, 'max_depth': 22, 'min_samples_split': 10, 'min_samples_leaf': 4}. Best is trial 0 with value: 0.5343833214232556.\n",
            "[I 2024-05-05 08:04:42,610] Trial 4 finished with value: 0.5541065942467251 and parameters: {'n_estimators': 30, 'max_depth': 16, 'min_samples_split': 6, 'min_samples_leaf': 5}. Best is trial 0 with value: 0.5343833214232556.\n",
            "[I 2024-05-05 08:04:51,063] Trial 5 finished with value: 0.5209457172456873 and parameters: {'n_estimators': 43, 'max_depth': 13, 'min_samples_split': 8, 'min_samples_leaf': 9}. Best is trial 5 with value: 0.5209457172456873.\n",
            "[I 2024-05-05 08:04:54,289] Trial 6 finished with value: 0.5257510332403056 and parameters: {'n_estimators': 13, 'max_depth': 30, 'min_samples_split': 6, 'min_samples_leaf': 6}. Best is trial 5 with value: 0.5209457172456873.\n",
            "[I 2024-05-05 08:05:13,374] Trial 7 finished with value: 0.5520556827921255 and parameters: {'n_estimators': 84, 'max_depth': 20, 'min_samples_split': 8, 'min_samples_leaf': 7}. Best is trial 5 with value: 0.5209457172456873.\n",
            "[I 2024-05-05 08:05:39,789] Trial 8 finished with value: 0.5457187454150939 and parameters: {'n_estimators': 125, 'max_depth': 14, 'min_samples_split': 9, 'min_samples_leaf': 7}. Best is trial 5 with value: 0.5209457172456873.\n",
            "[I 2024-05-05 08:05:52,515] Trial 9 finished with value: 0.5642089381232127 and parameters: {'n_estimators': 54, 'max_depth': 15, 'min_samples_split': 7, 'min_samples_leaf': 4}. Best is trial 5 with value: 0.5209457172456873.\n",
            "[I 2024-05-05 08:05:53,598] Trial 10 finished with value: 0.20998290860110236 and parameters: {'n_estimators': 13, 'max_depth': 5, 'min_samples_split': 2, 'min_samples_leaf': 10}. Best is trial 10 with value: 0.20998290860110236.\n",
            "[I 2024-05-05 08:05:54,328] Trial 11 finished with value: 0.16983054213544257 and parameters: {'n_estimators': 10, 'max_depth': 4, 'min_samples_split': 2, 'min_samples_leaf': 10}. Best is trial 11 with value: 0.16983054213544257.\n",
            "[I 2024-05-05 08:05:54,958] Trial 12 finished with value: 0.1223723132244785 and parameters: {'n_estimators': 11, 'max_depth': 3, 'min_samples_split': 2, 'min_samples_leaf': 10}. Best is trial 12 with value: 0.1223723132244785.\n",
            "[I 2024-05-05 08:05:55,367] Trial 13 finished with value: 0.08849789660489915 and parameters: {'n_estimators': 11, 'max_depth': 2, 'min_samples_split': 2, 'min_samples_leaf': 10}. Best is trial 13 with value: 0.08849789660489915.\n",
            "[I 2024-05-05 08:05:58,607] Trial 14 finished with value: 0.3599642155848327 and parameters: {'n_estimators': 20, 'max_depth': 8, 'min_samples_split': 4, 'min_samples_leaf': 8}. Best is trial 13 with value: 0.08849789660489915.\n",
            "[I 2024-05-05 08:05:59,602] Trial 15 finished with value: 0.0893534721852387 and parameters: {'n_estimators': 20, 'max_depth': 2, 'min_samples_split': 4, 'min_samples_leaf': 10}. Best is trial 13 with value: 0.08849789660489915.\n",
            "[I 2024-05-05 08:06:02,768] Trial 16 finished with value: 0.4057429995798455 and parameters: {'n_estimators': 21, 'max_depth': 9, 'min_samples_split': 4, 'min_samples_leaf': 8}. Best is trial 13 with value: 0.08849789660489915.\n",
            "[I 2024-05-05 08:06:05,071] Trial 17 finished with value: 0.39275965576949734 and parameters: {'n_estimators': 16, 'max_depth': 9, 'min_samples_split': 3, 'min_samples_leaf': 8}. Best is trial 13 with value: 0.08849789660489915.\n",
            "[I 2024-05-05 08:06:05,985] Trial 18 finished with value: 0.0795463591619574 and parameters: {'n_estimators': 26, 'max_depth': 2, 'min_samples_split': 5, 'min_samples_leaf': 1}. Best is trial 18 with value: 0.0795463591619574.\n",
            "[I 2024-05-05 08:06:08,522] Trial 19 finished with value: 0.2692483292184453 and parameters: {'n_estimators': 27, 'max_depth': 6, 'min_samples_split': 5, 'min_samples_leaf': 2}. Best is trial 18 with value: 0.0795463591619574.\n",
            "[I 2024-05-05 08:06:16,440] Trial 20 finished with value: 0.484320837102754 and parameters: {'n_estimators': 39, 'max_depth': 11, 'min_samples_split': 5, 'min_samples_leaf': 2}. Best is trial 18 with value: 0.0795463591619574.\n",
            "[I 2024-05-05 08:06:17,283] Trial 21 finished with value: 0.08688770580996807 and parameters: {'n_estimators': 25, 'max_depth': 2, 'min_samples_split': 3, 'min_samples_leaf': 9}. Best is trial 18 with value: 0.0795463591619574.\n",
            "[I 2024-05-05 08:06:18,141] Trial 22 finished with value: 0.08874327097104429 and parameters: {'n_estimators': 25, 'max_depth': 2, 'min_samples_split': 3, 'min_samples_leaf': 6}. Best is trial 18 with value: 0.0795463591619574.\n",
            "[I 2024-05-05 08:06:19,600] Trial 23 finished with value: 0.2595238153386644 and parameters: {'n_estimators': 14, 'max_depth': 6, 'min_samples_split': 3, 'min_samples_leaf': 9}. Best is trial 18 with value: 0.0795463591619574.\n",
            "[I 2024-05-05 08:06:27,325] Trial 24 finished with value: 0.36677172495953136 and parameters: {'n_estimators': 52, 'max_depth': 8, 'min_samples_split': 5, 'min_samples_leaf': 7}. Best is trial 18 with value: 0.0795463591619574.\n",
            "[I 2024-05-05 08:06:27,911] Trial 25 finished with value: 0.08155510362014606 and parameters: {'n_estimators': 16, 'max_depth': 2, 'min_samples_split': 3, 'min_samples_leaf': 1}. Best is trial 18 with value: 0.0795463591619574.\n",
            "[I 2024-05-05 08:06:33,120] Trial 26 finished with value: 0.5562743959936589 and parameters: {'n_estimators': 17, 'max_depth': 19, 'min_samples_split': 3, 'min_samples_leaf': 1}. Best is trial 18 with value: 0.0795463591619574.\n",
            "[I 2024-05-05 08:06:38,001] Trial 27 finished with value: 0.48360237534818096 and parameters: {'n_estimators': 25, 'max_depth': 11, 'min_samples_split': 5, 'min_samples_leaf': 2}. Best is trial 18 with value: 0.0795463591619574.\n",
            "[I 2024-05-05 08:06:41,129] Trial 28 finished with value: 0.2276514506609093 and parameters: {'n_estimators': 33, 'max_depth': 5, 'min_samples_split': 3, 'min_samples_leaf': 3}. Best is trial 18 with value: 0.0795463591619574.\n",
            "[I 2024-05-05 08:06:58,991] Trial 29 finished with value: 0.32175480354652686 and parameters: {'n_estimators': 155, 'max_depth': 7, 'min_samples_split': 7, 'min_samples_leaf': 1}. Best is trial 18 with value: 0.0795463591619574.\n",
            "[I 2024-05-05 08:07:00,027] Trial 30 finished with value: 0.17563868785116654 and parameters: {'n_estimators': 16, 'max_depth': 4, 'min_samples_split': 4, 'min_samples_leaf': 3}. Best is trial 18 with value: 0.0795463591619574.\n",
            "[I 2024-05-05 08:07:00,421] Trial 31 finished with value: 0.08210218642997891 and parameters: {'n_estimators': 11, 'max_depth': 2, 'min_samples_split': 2, 'min_samples_leaf': 9}. Best is trial 18 with value: 0.0795463591619574.\n",
            "[I 2024-05-05 08:07:01,218] Trial 32 finished with value: 0.0814495760306414 and parameters: {'n_estimators': 23, 'max_depth': 2, 'min_samples_split': 2, 'min_samples_leaf': 9}. Best is trial 18 with value: 0.0795463591619574.\n",
            "[I 2024-05-05 08:07:02,388] Trial 33 finished with value: 0.1718093886144687 and parameters: {'n_estimators': 17, 'max_depth': 4, 'min_samples_split': 2, 'min_samples_leaf': 1}. Best is trial 18 with value: 0.0795463591619574.\n",
            "[I 2024-05-05 08:07:05,280] Trial 34 finished with value: 0.46374781120374975 and parameters: {'n_estimators': 13, 'max_depth': 11, 'min_samples_split': 2, 'min_samples_leaf': 4}. Best is trial 18 with value: 0.0795463591619574.\n",
            "[I 2024-05-05 08:07:11,171] Trial 35 finished with value: 0.5615479595015462 and parameters: {'n_estimators': 20, 'max_depth': 23, 'min_samples_split': 4, 'min_samples_leaf': 2}. Best is trial 18 with value: 0.0795463591619574.\n",
            "[I 2024-05-05 08:07:17,739] Trial 36 finished with value: 0.5327060524874089 and parameters: {'n_estimators': 31, 'max_depth': 32, 'min_samples_split': 3, 'min_samples_leaf': 8}. Best is trial 18 with value: 0.0795463591619574.\n",
            "[I 2024-05-05 08:07:19,135] Trial 37 finished with value: 0.2535611696153004 and parameters: {'n_estimators': 10, 'max_depth': 6, 'min_samples_split': 2, 'min_samples_leaf': 5}. Best is trial 18 with value: 0.0795463591619574.\n",
            "[I 2024-05-05 08:07:20,647] Trial 38 finished with value: 0.16991399835602428 and parameters: {'n_estimators': 22, 'max_depth': 4, 'min_samples_split': 7, 'min_samples_leaf': 1}. Best is trial 18 with value: 0.0795463591619574.\n",
            "[I 2024-05-05 08:07:29,496] Trial 39 finished with value: 0.5533863556194558 and parameters: {'n_estimators': 37, 'max_depth': 27, 'min_samples_split': 6, 'min_samples_leaf': 6}. Best is trial 18 with value: 0.0795463591619574.\n",
            "[I 2024-05-05 08:07:32,794] Trial 40 finished with value: 0.1302383393581038 and parameters: {'n_estimators': 49, 'max_depth': 3, 'min_samples_split': 3, 'min_samples_leaf': 9}. Best is trial 18 with value: 0.0795463591619574.\n",
            "[I 2024-05-05 08:07:33,705] Trial 41 finished with value: 0.0877947868411143 and parameters: {'n_estimators': 27, 'max_depth': 2, 'min_samples_split': 3, 'min_samples_leaf': 9}. Best is trial 18 with value: 0.0795463591619574.\n",
            "[I 2024-05-05 08:07:34,503] Trial 42 finished with value: 0.08457136242915264 and parameters: {'n_estimators': 24, 'max_depth': 2, 'min_samples_split': 2, 'min_samples_leaf': 9}. Best is trial 18 with value: 0.0795463591619574.\n",
            "[I 2024-05-05 08:07:40,658] Trial 43 finished with value: 0.22594012250558526 and parameters: {'n_estimators': 75, 'max_depth': 5, 'min_samples_split': 2, 'min_samples_leaf': 7}. Best is trial 18 with value: 0.0795463591619574.\n",
            "[I 2024-05-05 08:07:42,193] Trial 44 finished with value: 0.31126701960489356 and parameters: {'n_estimators': 14, 'max_depth': 7, 'min_samples_split': 2, 'min_samples_leaf': 9}. Best is trial 18 with value: 0.0795463591619574.\n",
            "[I 2024-05-05 08:07:43,168] Trial 45 finished with value: 0.13101614528180294 and parameters: {'n_estimators': 17, 'max_depth': 3, 'min_samples_split': 9, 'min_samples_leaf': 4}. Best is trial 18 with value: 0.0795463591619574.\n",
            "[I 2024-05-05 08:07:44,279] Trial 46 finished with value: 0.18091955987066455 and parameters: {'n_estimators': 12, 'max_depth': 4, 'min_samples_split': 2, 'min_samples_leaf': 8}. Best is trial 18 with value: 0.0795463591619574.\n",
            "[I 2024-05-05 08:07:46,204] Trial 47 finished with value: 0.211652890957566 and parameters: {'n_estimators': 15, 'max_depth': 5, 'min_samples_split': 2, 'min_samples_leaf': 10}. Best is trial 18 with value: 0.0795463591619574.\n",
            "[I 2024-05-05 08:08:24,196] Trial 48 finished with value: 0.5674953389579931 and parameters: {'n_estimators': 102, 'max_depth': 18, 'min_samples_split': 6, 'min_samples_leaf': 5}. Best is trial 18 with value: 0.0795463591619574.\n",
            "[I 2024-05-05 08:08:30,475] Trial 49 finished with value: 0.13337266080968213 and parameters: {'n_estimators': 44, 'max_depth': 3, 'min_samples_split': 4, 'min_samples_leaf': 7}. Best is trial 18 with value: 0.0795463591619574.\n",
            "[I 2024-05-05 08:08:48,067] Trial 50 finished with value: 0.4121607849422596 and parameters: {'n_estimators': 63, 'max_depth': 9, 'min_samples_split': 2, 'min_samples_leaf': 9}. Best is trial 18 with value: 0.0795463591619574.\n",
            "[I 2024-05-05 08:08:49,310] Trial 51 finished with value: 0.08853443069550992 and parameters: {'n_estimators': 24, 'max_depth': 2, 'min_samples_split': 3, 'min_samples_leaf': 8}. Best is trial 18 with value: 0.0795463591619574.\n",
            "[I 2024-05-05 08:08:50,336] Trial 52 finished with value: 0.08220705242773063 and parameters: {'n_estimators': 19, 'max_depth': 2, 'min_samples_split': 3, 'min_samples_leaf': 9}. Best is trial 18 with value: 0.0795463591619574.\n",
            "[I 2024-05-05 08:08:52,455] Trial 53 finished with value: 0.13013532163169028 and parameters: {'n_estimators': 29, 'max_depth': 3, 'min_samples_split': 4, 'min_samples_leaf': 10}. Best is trial 18 with value: 0.0795463591619574.\n",
            "[I 2024-05-05 08:08:57,984] Trial 54 finished with value: 0.3155015931277858 and parameters: {'n_estimators': 19, 'max_depth': 7, 'min_samples_split': 3, 'min_samples_leaf': 9}. Best is trial 18 with value: 0.0795463591619574.\n",
            "[I 2024-05-05 08:09:00,163] Trial 55 finished with value: 0.2188440980041667 and parameters: {'n_estimators': 18, 'max_depth': 5, 'min_samples_split': 2, 'min_samples_leaf': 8}. Best is trial 18 with value: 0.0795463591619574.\n",
            "[I 2024-05-05 08:09:00,841] Trial 56 finished with value: 0.08772253972574262 and parameters: {'n_estimators': 11, 'max_depth': 2, 'min_samples_split': 2, 'min_samples_leaf': 10}. Best is trial 18 with value: 0.0795463591619574.\n",
            "[I 2024-05-05 08:09:07,117] Trial 57 finished with value: 0.5164071497603122 and parameters: {'n_estimators': 22, 'max_depth': 13, 'min_samples_split': 3, 'min_samples_leaf': 8}. Best is trial 18 with value: 0.0795463591619574.\n",
            "[I 2024-05-05 08:09:09,773] Trial 58 finished with value: 0.262772839442612 and parameters: {'n_estimators': 12, 'max_depth': 6, 'min_samples_split': 5, 'min_samples_leaf': 10}. Best is trial 18 with value: 0.0795463591619574.\n",
            "[I 2024-05-05 08:09:13,150] Trial 59 finished with value: 0.17350240641902015 and parameters: {'n_estimators': 23, 'max_depth': 4, 'min_samples_split': 4, 'min_samples_leaf': 2}. Best is trial 18 with value: 0.0795463591619574.\n",
            "[I 2024-05-05 08:09:17,745] Trial 60 finished with value: 0.5264576170332194 and parameters: {'n_estimators': 15, 'max_depth': 22, 'min_samples_split': 2, 'min_samples_leaf': 7}. Best is trial 18 with value: 0.0795463591619574.\n",
            "[I 2024-05-05 08:09:18,633] Trial 61 finished with value: 0.08658733335876745 and parameters: {'n_estimators': 26, 'max_depth': 2, 'min_samples_split': 3, 'min_samples_leaf': 9}. Best is trial 18 with value: 0.0795463591619574.\n",
            "[I 2024-05-05 08:09:19,568] Trial 62 finished with value: 0.08581548105096815 and parameters: {'n_estimators': 28, 'max_depth': 2, 'min_samples_split': 3, 'min_samples_leaf': 9}. Best is trial 18 with value: 0.0795463591619574.\n",
            "[I 2024-05-05 08:09:21,449] Trial 63 finished with value: 0.12774676417799558 and parameters: {'n_estimators': 37, 'max_depth': 3, 'min_samples_split': 3, 'min_samples_leaf': 9}. Best is trial 18 with value: 0.0795463591619574.\n",
            "[I 2024-05-05 08:09:23,405] Trial 64 finished with value: 0.13577235979775637 and parameters: {'n_estimators': 29, 'max_depth': 3, 'min_samples_split': 2, 'min_samples_leaf': 8}. Best is trial 18 with value: 0.0795463591619574.\n",
            "[I 2024-05-05 08:09:25,859] Trial 65 finished with value: 0.22019167701960818 and parameters: {'n_estimators': 20, 'max_depth': 5, 'min_samples_split': 3, 'min_samples_leaf': 10}. Best is trial 18 with value: 0.0795463591619574.\n",
            "[I 2024-05-05 08:09:27,837] Trial 66 finished with value: 0.17562686654474013 and parameters: {'n_estimators': 31, 'max_depth': 4, 'min_samples_split': 4, 'min_samples_leaf': 9}. Best is trial 18 with value: 0.0795463591619574.\n",
            "[I 2024-05-05 08:09:28,993] Trial 67 finished with value: 0.08815422043922327 and parameters: {'n_estimators': 34, 'max_depth': 2, 'min_samples_split': 2, 'min_samples_leaf': 1}. Best is trial 18 with value: 0.0795463591619574.\n",
            "[I 2024-05-05 08:09:30,744] Trial 68 finished with value: 0.2680101484553906 and parameters: {'n_estimators': 18, 'max_depth': 6, 'min_samples_split': 3, 'min_samples_leaf': 3}. Best is trial 18 with value: 0.0795463591619574.\n",
            "[I 2024-05-05 08:09:31,916] Trial 69 finished with value: 0.1314165834016644 and parameters: {'n_estimators': 22, 'max_depth': 3, 'min_samples_split': 5, 'min_samples_leaf': 9}. Best is trial 18 with value: 0.0795463591619574.\n",
            "[I 2024-05-05 08:09:33,755] Trial 70 finished with value: 0.35156365853297233 and parameters: {'n_estimators': 14, 'max_depth': 8, 'min_samples_split': 10, 'min_samples_leaf': 6}. Best is trial 18 with value: 0.0795463591619574.\n",
            "[I 2024-05-05 08:09:34,656] Trial 71 finished with value: 0.0888769438174074 and parameters: {'n_estimators': 26, 'max_depth': 2, 'min_samples_split': 3, 'min_samples_leaf': 9}. Best is trial 18 with value: 0.0795463591619574.\n",
            "[I 2024-05-05 08:09:35,755] Trial 72 finished with value: 0.08711511768655245 and parameters: {'n_estimators': 28, 'max_depth': 2, 'min_samples_split': 3, 'min_samples_leaf': 9}. Best is trial 18 with value: 0.0795463591619574.\n",
            "[I 2024-05-05 08:09:37,946] Trial 73 finished with value: 0.1765218079933547 and parameters: {'n_estimators': 24, 'max_depth': 4, 'min_samples_split': 4, 'min_samples_leaf': 10}. Best is trial 18 with value: 0.0795463591619574.\n",
            "[I 2024-05-05 08:09:39,505] Trial 74 finished with value: 0.08623052004974507 and parameters: {'n_estimators': 41, 'max_depth': 2, 'min_samples_split': 2, 'min_samples_leaf': 8}. Best is trial 18 with value: 0.0795463591619574.\n",
            "[I 2024-05-05 08:09:46,424] Trial 75 finished with value: 0.5333582068330669 and parameters: {'n_estimators': 35, 'max_depth': 16, 'min_samples_split': 2, 'min_samples_leaf': 8}. Best is trial 18 with value: 0.0795463591619574.\n",
            "[I 2024-05-05 08:09:50,217] Trial 76 finished with value: 0.22354684005858616 and parameters: {'n_estimators': 42, 'max_depth': 5, 'min_samples_split': 2, 'min_samples_leaf': 8}. Best is trial 18 with value: 0.0795463591619574.\n",
            "[I 2024-05-05 08:09:52,344] Trial 77 finished with value: 0.131581687074955 and parameters: {'n_estimators': 32, 'max_depth': 3, 'min_samples_split': 2, 'min_samples_leaf': 10}. Best is trial 18 with value: 0.0795463591619574.\n",
            "[I 2024-05-05 08:09:53,367] Trial 78 finished with value: 0.1314418821528348 and parameters: {'n_estimators': 21, 'max_depth': 3, 'min_samples_split': 2, 'min_samples_leaf': 1}. Best is trial 18 with value: 0.0795463591619574.\n",
            "[I 2024-05-05 08:09:59,346] Trial 79 finished with value: 0.3204193186480516 and parameters: {'n_estimators': 46, 'max_depth': 7, 'min_samples_split': 6, 'min_samples_leaf': 9}. Best is trial 18 with value: 0.0795463591619574.\n",
            "[I 2024-05-05 08:10:03,453] Trial 80 finished with value: 0.17736051896148297 and parameters: {'n_estimators': 57, 'max_depth': 4, 'min_samples_split': 3, 'min_samples_leaf': 8}. Best is trial 18 with value: 0.0795463591619574.\n",
            "[I 2024-05-05 08:10:04,816] Trial 81 finished with value: 0.08764326835053304 and parameters: {'n_estimators': 27, 'max_depth': 2, 'min_samples_split': 3, 'min_samples_leaf': 9}. Best is trial 18 with value: 0.0795463591619574.\n",
            "[I 2024-05-05 08:10:05,622] Trial 82 finished with value: 0.08079731891020159 and parameters: {'n_estimators': 19, 'max_depth': 2, 'min_samples_split': 3, 'min_samples_leaf': 9}. Best is trial 18 with value: 0.0795463591619574.\n",
            "[I 2024-05-05 08:10:47,869] Trial 83 finished with value: 0.5386495883434577 and parameters: {'n_estimators': 196, 'max_depth': 25, 'min_samples_split': 2, 'min_samples_leaf': 9}. Best is trial 18 with value: 0.0795463591619574.\n",
            "[I 2024-05-05 08:10:49,184] Trial 84 finished with value: 0.17731544078661376 and parameters: {'n_estimators': 19, 'max_depth': 4, 'min_samples_split': 2, 'min_samples_leaf': 2}. Best is trial 18 with value: 0.0795463591619574.\n",
            "[I 2024-05-05 08:10:49,774] Trial 85 finished with value: 0.08502812127146175 and parameters: {'n_estimators': 16, 'max_depth': 2, 'min_samples_split': 3, 'min_samples_leaf': 10}. Best is trial 18 with value: 0.0795463591619574.\n",
            "[I 2024-05-05 08:10:51,214] Trial 86 finished with value: 0.223997871396432 and parameters: {'n_estimators': 16, 'max_depth': 5, 'min_samples_split': 4, 'min_samples_leaf': 10}. Best is trial 18 with value: 0.0795463591619574.\n",
            "[I 2024-05-05 08:10:51,824] Trial 87 finished with value: 0.12503078321885708 and parameters: {'n_estimators': 12, 'max_depth': 3, 'min_samples_split': 8, 'min_samples_leaf': 10}. Best is trial 18 with value: 0.0795463591619574.\n",
            "[I 2024-05-05 08:10:53,502] Trial 88 finished with value: 0.26819814349770343 and parameters: {'n_estimators': 18, 'max_depth': 6, 'min_samples_split': 4, 'min_samples_leaf': 10}. Best is trial 18 with value: 0.0795463591619574.\n",
            "[I 2024-05-05 08:10:54,507] Trial 89 finished with value: 0.17157095808516964 and parameters: {'n_estimators': 15, 'max_depth': 4, 'min_samples_split': 3, 'min_samples_leaf': 9}. Best is trial 18 with value: 0.0795463591619574.\n",
            "[I 2024-05-05 08:10:55,252] Trial 90 finished with value: 0.12321779368012464 and parameters: {'n_estimators': 13, 'max_depth': 3, 'min_samples_split': 3, 'min_samples_leaf': 7}. Best is trial 18 with value: 0.0795463591619574.\n",
            "[I 2024-05-05 08:10:56,101] Trial 91 finished with value: 0.08452889876322522 and parameters: {'n_estimators': 21, 'max_depth': 2, 'min_samples_split': 2, 'min_samples_leaf': 9}. Best is trial 18 with value: 0.0795463591619574.\n",
            "[I 2024-05-05 08:10:57,133] Trial 92 finished with value: 0.0820325916206549 and parameters: {'n_estimators': 21, 'max_depth': 2, 'min_samples_split': 3, 'min_samples_leaf': 9}. Best is trial 18 with value: 0.0795463591619574.\n",
            "[I 2024-05-05 08:10:58,208] Trial 93 finished with value: 0.08798596564562255 and parameters: {'n_estimators': 21, 'max_depth': 2, 'min_samples_split': 3, 'min_samples_leaf': 9}. Best is trial 18 with value: 0.0795463591619574.\n",
            "[I 2024-05-05 08:10:59,415] Trial 94 finished with value: 0.12977520906273043 and parameters: {'n_estimators': 17, 'max_depth': 3, 'min_samples_split': 2, 'min_samples_leaf': 1}. Best is trial 18 with value: 0.0795463591619574.\n",
            "[I 2024-05-05 08:11:00,640] Trial 95 finished with value: 0.17626877598366086 and parameters: {'n_estimators': 19, 'max_depth': 4, 'min_samples_split': 5, 'min_samples_leaf': 10}. Best is trial 18 with value: 0.0795463591619574.\n",
            "[I 2024-05-05 08:11:01,415] Trial 96 finished with value: 0.08849540702688063 and parameters: {'n_estimators': 23, 'max_depth': 2, 'min_samples_split': 2, 'min_samples_leaf': 9}. Best is trial 18 with value: 0.0795463591619574.\n",
            "[I 2024-05-05 08:11:02,387] Trial 97 finished with value: 0.21390082976176972 and parameters: {'n_estimators': 11, 'max_depth': 5, 'min_samples_split': 3, 'min_samples_leaf': 9}. Best is trial 18 with value: 0.0795463591619574.\n",
            "[I 2024-05-05 08:11:03,248] Trial 98 finished with value: 0.12005717022967599 and parameters: {'n_estimators': 16, 'max_depth': 3, 'min_samples_split': 2, 'min_samples_leaf': 10}. Best is trial 18 with value: 0.0795463591619574.\n",
            "[I 2024-05-05 08:11:04,183] Trial 99 finished with value: 0.16687459973993124 and parameters: {'n_estimators': 14, 'max_depth': 4, 'min_samples_split': 4, 'min_samples_leaf': 5}. Best is trial 18 with value: 0.0795463591619574.\n"
          ]
        },
        {
          "output_type": "stream",
          "name": "stdout",
          "text": [
            "{'n_estimators': 26, 'max_depth': 2, 'min_samples_split': 5, 'min_samples_leaf': 1}\n"
          ]
        }
      ]
    },
    {
      "cell_type": "code",
      "source": [
        "rf = RandomForestRegressor(100, min_samples_leaf=5,max_depth=4,min_samples_split=5)\n",
        "rf_model = rf.fit(X_train, y_train);\n",
        "\n",
        "rf_preds = tensor(rf_model.predict(test_dl.xs))\n",
        "\n",
        "rf_preds_x = tensor(rf_model.predict(X_test))\n",
        "\n",
        "mse = mean_absolute_error(y_test, rf_preds_x)\n",
        "rmse = np.sqrt(mse)\n",
        "\n",
        "r2_score(y_test,rf_preds_x)"
      ],
      "metadata": {
        "colab": {
          "base_uri": "https://localhost:8080/"
        },
        "id": "rVEgYcVDwnTl",
        "outputId": "9476170c-579a-49b3-f770-598cf3080f33"
      },
      "execution_count": 56,
      "outputs": [
        {
          "output_type": "execute_result",
          "data": {
            "text/plain": [
              "0.1798761514937982"
            ]
          },
          "metadata": {},
          "execution_count": 56
        }
      ]
    },
    {
      "cell_type": "code",
      "source": [
        "rf = RandomForestRegressor(26, min_samples_leaf=1,max_depth=2,min_samples_split=5)\n",
        "rf_model = rf.fit(X_train, y_train);\n",
        "\n",
        "rf_preds = tensor(rf_model.predict(test_dl.xs))\n",
        "\n",
        "rf_preds_x = tensor(rf_model.predict(X_test))\n",
        "\n",
        "mse = mean_absolute_error(y_test, rf_preds_x)\n",
        "rmse = np.sqrt(mse)\n",
        "\n",
        "r2_score(y_test,rf_preds_x)"
      ],
      "metadata": {
        "colab": {
          "base_uri": "https://localhost:8080/"
        },
        "id": "npvqQvU7wnO3",
        "outputId": "102c95bd-1471-44df-b534-44d7040dbd8b"
      },
      "execution_count": 62,
      "outputs": [
        {
          "output_type": "execute_result",
          "data": {
            "text/plain": [
              "0.08417426348957979"
            ]
          },
          "metadata": {},
          "execution_count": 62
        }
      ]
    },
    {
      "cell_type": "code",
      "source": [
        "rf = RandomForestRegressor(26, min_samples_leaf=1)\n",
        "rf_model = rf.fit(X_train, y_train);\n",
        "\n",
        "rf_preds = tensor(rf_model.predict(test_dl.xs))\n",
        "\n",
        "rf_preds_x = tensor(rf_model.predict(X_test))\n",
        "\n",
        "mse = mean_absolute_error(y_test, rf_preds_x)\n",
        "rmse = np.sqrt(mse)\n",
        "\n",
        "r2_score(y_test,rf_preds_x)"
      ],
      "metadata": {
        "colab": {
          "base_uri": "https://localhost:8080/"
        },
        "id": "4-e6dWZy0JHc",
        "outputId": "ae72e81c-8618-475e-e62d-154d23a92e47"
      },
      "execution_count": 60,
      "outputs": [
        {
          "output_type": "execute_result",
          "data": {
            "text/plain": [
              "0.571364082610883"
            ]
          },
          "metadata": {},
          "execution_count": 60
        }
      ]
    },
    {
      "cell_type": "code",
      "source": [],
      "metadata": {
        "id": "7gLcpQshwnCL"
      },
      "execution_count": null,
      "outputs": []
    },
    {
      "cell_type": "markdown",
      "source": [
        "Using Full Dataset"
      ],
      "metadata": {
        "id": "ziygqL_HttVg"
      }
    },
    {
      "cell_type": "code",
      "execution_count": 28,
      "metadata": {
        "id": "eUDEXMW3wl9a"
      },
      "outputs": [],
      "source": [
        "cont_names,cat_names = cont_cat_split(train_df, dep_var='FloodProbability')\n",
        "splits = RandomSplitter(valid_pct=0.2)(range_of(train_df))\n",
        "to = TabularPandas(train_df, procs=[Categorify, FillMissing,Normalize],\n",
        "                   cat_names = cat_names,\n",
        "                   cont_names = cont_names,\n",
        "                   y_names='FloodProbability',\n",
        "                   y_block=RegressionBlock(),\n",
        "                   splits=splits)\n",
        "\n",
        "X_train, y_train = to.train.xs, to.train.ys.values.ravel()\n",
        "X_test, y_test = to.valid.xs, to.valid.ys.values.ravel()\n",
        "\n",
        "dls = to.dataloaders(bs=64)\n",
        "test_dl = dls.test_dl(test_df)"
      ]
    },
    {
      "cell_type": "code",
      "execution_count": null,
      "metadata": {
        "id": "MRq53aq1wl9b"
      },
      "outputs": [],
      "source": [
        "learn = tabular_learner(dls, metrics=R2Score())\n",
        "learn.lr_find(suggest_funcs=(slide,valley))"
      ]
    },
    {
      "cell_type": "code",
      "execution_count": 14,
      "metadata": {
        "colab": {
          "base_uri": "https://localhost:8080/",
          "height": 363
        },
        "id": "zVbR35AFwl9b",
        "outputId": "2b8a120d-de05-4385-a32e-c02bfbaacdb0"
      },
      "outputs": [
        {
          "output_type": "display_data",
          "data": {
            "text/plain": [
              "<IPython.core.display.HTML object>"
            ],
            "text/html": [
              "\n",
              "<style>\n",
              "    /* Turns off some styling */\n",
              "    progress {\n",
              "        /* gets rid of default border in Firefox and Opera. */\n",
              "        border: none;\n",
              "        /* Needs to be in here for Safari polyfill so background images work as expected. */\n",
              "        background-size: auto;\n",
              "    }\n",
              "    progress:not([value]), progress:not([value])::-webkit-progress-bar {\n",
              "        background: repeating-linear-gradient(45deg, #7e7e7e, #7e7e7e 10px, #5c5c5c 10px, #5c5c5c 20px);\n",
              "    }\n",
              "    .progress-bar-interrupted, .progress-bar-interrupted::-webkit-progress-bar {\n",
              "        background: #F44336;\n",
              "    }\n",
              "</style>\n"
            ]
          },
          "metadata": {}
        },
        {
          "output_type": "display_data",
          "data": {
            "text/plain": [
              "<IPython.core.display.HTML object>"
            ],
            "text/html": [
              "<table border=\"1\" class=\"dataframe\">\n",
              "  <thead>\n",
              "    <tr style=\"text-align: left;\">\n",
              "      <th>epoch</th>\n",
              "      <th>train_loss</th>\n",
              "      <th>valid_loss</th>\n",
              "      <th>r2_score</th>\n",
              "      <th>time</th>\n",
              "    </tr>\n",
              "  </thead>\n",
              "  <tbody>\n",
              "    <tr>\n",
              "      <td>0</td>\n",
              "      <td>0.000582</td>\n",
              "      <td>0.000500</td>\n",
              "      <td>0.808133</td>\n",
              "      <td>03:15</td>\n",
              "    </tr>\n",
              "    <tr>\n",
              "      <td>1</td>\n",
              "      <td>0.000510</td>\n",
              "      <td>0.000433</td>\n",
              "      <td>0.833783</td>\n",
              "      <td>03:20</td>\n",
              "    </tr>\n",
              "    <tr>\n",
              "      <td>2</td>\n",
              "      <td>0.000473</td>\n",
              "      <td>0.000409</td>\n",
              "      <td>0.843261</td>\n",
              "      <td>03:26</td>\n",
              "    </tr>\n",
              "    <tr>\n",
              "      <td>3</td>\n",
              "      <td>0.000470</td>\n",
              "      <td>0.000416</td>\n",
              "      <td>0.840537</td>\n",
              "      <td>03:59</td>\n",
              "    </tr>\n",
              "    <tr>\n",
              "      <td>4</td>\n",
              "      <td>0.000491</td>\n",
              "      <td>0.000436</td>\n",
              "      <td>0.832748</td>\n",
              "      <td>03:15</td>\n",
              "    </tr>\n",
              "    <tr>\n",
              "      <td>5</td>\n",
              "      <td>0.000467</td>\n",
              "      <td>0.000417</td>\n",
              "      <td>0.840253</td>\n",
              "      <td>03:17</td>\n",
              "    </tr>\n",
              "    <tr>\n",
              "      <td>6</td>\n",
              "      <td>0.000438</td>\n",
              "      <td>0.000389</td>\n",
              "      <td>0.850855</td>\n",
              "      <td>03:13</td>\n",
              "    </tr>\n",
              "    <tr>\n",
              "      <td>7</td>\n",
              "      <td>0.000408</td>\n",
              "      <td>0.000374</td>\n",
              "      <td>0.856524</td>\n",
              "      <td>03:10</td>\n",
              "    </tr>\n",
              "    <tr>\n",
              "      <td>8</td>\n",
              "      <td>0.000387</td>\n",
              "      <td>0.000367</td>\n",
              "      <td>0.859144</td>\n",
              "      <td>03:12</td>\n",
              "    </tr>\n",
              "    <tr>\n",
              "      <td>9</td>\n",
              "      <td>0.000397</td>\n",
              "      <td>0.000364</td>\n",
              "      <td>0.860485</td>\n",
              "      <td>03:10</td>\n",
              "    </tr>\n",
              "  </tbody>\n",
              "</table>"
            ]
          },
          "metadata": {}
        }
      ],
      "source": [
        "learn.fit_one_cycle(10,0.008)"
      ]
    },
    {
      "cell_type": "code",
      "execution_count": 15,
      "metadata": {
        "colab": {
          "base_uri": "https://localhost:8080/",
          "height": 17
        },
        "id": "zUu35bUywl9c",
        "outputId": "8a82847d-e71d-437b-9b83-7f9cd26db972"
      },
      "outputs": [
        {
          "output_type": "display_data",
          "data": {
            "text/plain": [
              "<IPython.core.display.HTML object>"
            ],
            "text/html": [
              "\n",
              "<style>\n",
              "    /* Turns off some styling */\n",
              "    progress {\n",
              "        /* gets rid of default border in Firefox and Opera. */\n",
              "        border: none;\n",
              "        /* Needs to be in here for Safari polyfill so background images work as expected. */\n",
              "        background-size: auto;\n",
              "    }\n",
              "    progress:not([value]), progress:not([value])::-webkit-progress-bar {\n",
              "        background: repeating-linear-gradient(45deg, #7e7e7e, #7e7e7e 10px, #5c5c5c 10px, #5c5c5c 20px);\n",
              "    }\n",
              "    .progress-bar-interrupted, .progress-bar-interrupted::-webkit-progress-bar {\n",
              "        background: #F44336;\n",
              "    }\n",
              "</style>\n"
            ]
          },
          "metadata": {}
        },
        {
          "output_type": "display_data",
          "data": {
            "text/plain": [
              "<IPython.core.display.HTML object>"
            ],
            "text/html": []
          },
          "metadata": {}
        },
        {
          "output_type": "display_data",
          "data": {
            "text/plain": [
              "<IPython.core.display.HTML object>"
            ],
            "text/html": [
              "\n",
              "<style>\n",
              "    /* Turns off some styling */\n",
              "    progress {\n",
              "        /* gets rid of default border in Firefox and Opera. */\n",
              "        border: none;\n",
              "        /* Needs to be in here for Safari polyfill so background images work as expected. */\n",
              "        background-size: auto;\n",
              "    }\n",
              "    progress:not([value]), progress:not([value])::-webkit-progress-bar {\n",
              "        background: repeating-linear-gradient(45deg, #7e7e7e, #7e7e7e 10px, #5c5c5c 10px, #5c5c5c 20px);\n",
              "    }\n",
              "    .progress-bar-interrupted, .progress-bar-interrupted::-webkit-progress-bar {\n",
              "        background: #F44336;\n",
              "    }\n",
              "</style>\n"
            ]
          },
          "metadata": {}
        },
        {
          "output_type": "display_data",
          "data": {
            "text/plain": [
              "<IPython.core.display.HTML object>"
            ],
            "text/html": []
          },
          "metadata": {}
        },
        {
          "output_type": "display_data",
          "data": {
            "text/plain": [
              "<IPython.core.display.HTML object>"
            ],
            "text/html": [
              "\n",
              "<style>\n",
              "    /* Turns off some styling */\n",
              "    progress {\n",
              "        /* gets rid of default border in Firefox and Opera. */\n",
              "        border: none;\n",
              "        /* Needs to be in here for Safari polyfill so background images work as expected. */\n",
              "        background-size: auto;\n",
              "    }\n",
              "    progress:not([value]), progress:not([value])::-webkit-progress-bar {\n",
              "        background: repeating-linear-gradient(45deg, #7e7e7e, #7e7e7e 10px, #5c5c5c 10px, #5c5c5c 20px);\n",
              "    }\n",
              "    .progress-bar-interrupted, .progress-bar-interrupted::-webkit-progress-bar {\n",
              "        background: #F44336;\n",
              "    }\n",
              "</style>\n"
            ]
          },
          "metadata": {}
        },
        {
          "output_type": "display_data",
          "data": {
            "text/plain": [
              "<IPython.core.display.HTML object>"
            ],
            "text/html": []
          },
          "metadata": {}
        }
      ],
      "source": [
        "#learn.fit_one_cycle(5,0.008)\n",
        "dl = learn.dls.test_dl(test_df)\n",
        "nn_preds = learn.get_preds(dl=dl)\n",
        "nn_preds_x = learn.get_preds()[0]\n",
        "a_preds, _ = learn.get_preds(dl=dl)\n",
        "nn_preds_y = a_preds.squeeze(1)\n",
        "\n",
        "#target_preds = nn_preds[0]\n",
        "\n",
        "#test_df['Rings'] = target_preds\n",
        "#test_df.to_csv('submission.csv', columns=['Rings'], index=True)\n",
        "\n",
        "#submission = pd.read_csv('submission.csv')\n",
        "#submission.head()\n"
      ]
    },
    {
      "cell_type": "code",
      "execution_count": 16,
      "metadata": {
        "colab": {
          "base_uri": "https://localhost:8080/"
        },
        "id": "1WbsJlON4MxV",
        "outputId": "61902998-985b-4382-89aa-f327816df139"
      },
      "outputs": [
        {
          "output_type": "execute_result",
          "data": {
            "text/plain": [
              "0.8604848131155046"
            ]
          },
          "metadata": {},
          "execution_count": 16
        }
      ],
      "source": [
        "r2_score(y_test,nn_preds_x)"
      ]
    },
    {
      "cell_type": "markdown",
      "source": [
        "# Random Forest Baseline"
      ],
      "metadata": {
        "id": "iFUdbAz1OGdT"
      }
    },
    {
      "cell_type": "code",
      "source": [
        "rf = RandomForestRegressor(100, min_samples_leaf=5)\n",
        "rf_model = rf.fit(X_train, y_train);\n",
        "\n",
        "rf_preds = tensor(rf_model.predict(test_dl.xs))\n",
        "\n",
        "rf_preds_x = tensor(rf_model.predict(X_test))\n",
        "\n",
        "mse = mean_absolute_error(y_test, rf_preds_x)\n",
        "rmse = np.sqrt(mse)\n",
        "\n",
        "r2_score(y_test,rf_preds_x)"
      ],
      "metadata": {
        "colab": {
          "base_uri": "https://localhost:8080/"
        },
        "id": "NnHO-hIROJFn",
        "outputId": "76b00b9c-47c0-4c93-aada-d63757fc9fec"
      },
      "execution_count": 18,
      "outputs": [
        {
          "output_type": "execute_result",
          "data": {
            "text/plain": [
              "0.6367682362866423"
            ]
          },
          "metadata": {},
          "execution_count": 18
        }
      ]
    },
    {
      "cell_type": "code",
      "source": [
        "r2_score(y_test,rf_preds_x)"
      ],
      "metadata": {
        "colab": {
          "base_uri": "https://localhost:8080/",
          "height": 141
        },
        "id": "Qr6IEWTGhV5d",
        "outputId": "51365019-b0b1-433b-850f-0d881bf33d54"
      },
      "execution_count": 3,
      "outputs": [
        {
          "output_type": "error",
          "ename": "NameError",
          "evalue": "name 'y_test' is not defined",
          "traceback": [
            "\u001b[0;31m---------------------------------------------------------------------------\u001b[0m",
            "\u001b[0;31mNameError\u001b[0m                                 Traceback (most recent call last)",
            "\u001b[0;32m<ipython-input-3-d347d527245b>\u001b[0m in \u001b[0;36m<cell line: 1>\u001b[0;34m()\u001b[0m\n\u001b[0;32m----> 1\u001b[0;31m \u001b[0mr2_score\u001b[0m\u001b[0;34m(\u001b[0m\u001b[0my_test\u001b[0m\u001b[0;34m,\u001b[0m\u001b[0mrf_preds_x\u001b[0m\u001b[0;34m)\u001b[0m\u001b[0;34m\u001b[0m\u001b[0;34m\u001b[0m\u001b[0m\n\u001b[0m",
            "\u001b[0;31mNameError\u001b[0m: name 'y_test' is not defined"
          ]
        }
      ]
    },
    {
      "cell_type": "code",
      "source": [
        "def objective_rf(trial):\n",
        "    params = {\n",
        "        \"n_estimators\": trial.suggest_int(\"n_estimators\", 10, 200, log=True),\n",
        "        \"max_depth\": trial.suggest_int(\"max_depth\", 2, 32),\n",
        "        \"min_samples_split\": trial.suggest_int(\"min_samples_split\", 2, 10),\n",
        "        \"min_samples_leaf\": trial.suggest_int(\"min_samples_leaf\", 1, 10)\n",
        "    }\n",
        "\n",
        "    rf_model = RandomForestRegressor(**params)\n",
        "    rf_model.fit(X_train, y_train)\n",
        "    rf_predictions = rf_model.predict(X_test)\n",
        "    r2score = r2_score(y_test, rf_predictions)\n",
        "    return r2score\n",
        "\n",
        "study_rf = optuna.create_study(direction='minimize')\n",
        "study_rf.optimize(objective_rf, n_trials=100)\n",
        "print(study_rf.best_params)"
      ],
      "metadata": {
        "colab": {
          "base_uri": "https://localhost:8080/",
          "height": 810
        },
        "id": "LyCzsRpNOmzU",
        "outputId": "1741ca02-5fdc-460b-caa1-706e422956b2"
      },
      "execution_count": 29,
      "outputs": [
        {
          "output_type": "stream",
          "name": "stderr",
          "text": [
            "[I 2024-05-05 07:00:11,753] A new study created in memory with name: no-name-41b90ede-fc0d-4484-a8a9-aedcaa51855c\n",
            "[I 2024-05-05 07:13:55,764] Trial 0 finished with value: 0.6296607961240914 and parameters: {'n_estimators': 94, 'max_depth': 23, 'min_samples_split': 6, 'min_samples_leaf': 6}. Best is trial 0 with value: 0.6296607961240914.\n",
            "[W 2024-05-05 07:15:27,692] Trial 1 failed with parameters: {'n_estimators': 36, 'max_depth': 11, 'min_samples_split': 2, 'min_samples_leaf': 10} because of the following error: KeyboardInterrupt().\n",
            "Traceback (most recent call last):\n",
            "  File \"/usr/local/lib/python3.10/dist-packages/optuna/study/_optimize.py\", line 196, in _run_trial\n",
            "    value_or_values = func(trial)\n",
            "  File \"<ipython-input-29-c4e35a659cba>\", line 10, in objective_rf\n",
            "    rf_model.fit(X_train, y_train)\n",
            "  File \"/usr/local/lib/python3.10/dist-packages/sklearn/ensemble/_forest.py\", line 473, in fit\n",
            "    trees = Parallel(\n",
            "  File \"/usr/local/lib/python3.10/dist-packages/sklearn/utils/parallel.py\", line 63, in __call__\n",
            "    return super().__call__(iterable_with_config)\n",
            "  File \"/usr/local/lib/python3.10/dist-packages/joblib/parallel.py\", line 1918, in __call__\n",
            "    return output if self.return_generator else list(output)\n",
            "  File \"/usr/local/lib/python3.10/dist-packages/joblib/parallel.py\", line 1847, in _get_sequential_output\n",
            "    res = func(*args, **kwargs)\n",
            "  File \"/usr/local/lib/python3.10/dist-packages/sklearn/utils/parallel.py\", line 123, in __call__\n",
            "    return self.function(*args, **kwargs)\n",
            "  File \"/usr/local/lib/python3.10/dist-packages/sklearn/ensemble/_forest.py\", line 184, in _parallel_build_trees\n",
            "    tree.fit(X, y, sample_weight=curr_sample_weight, check_input=False)\n",
            "  File \"/usr/local/lib/python3.10/dist-packages/sklearn/tree/_classes.py\", line 1247, in fit\n",
            "    super().fit(\n",
            "  File \"/usr/local/lib/python3.10/dist-packages/sklearn/tree/_classes.py\", line 379, in fit\n",
            "    builder.build(self.tree_, X, y, sample_weight)\n",
            "KeyboardInterrupt\n",
            "[W 2024-05-05 07:15:27,696] Trial 1 failed with value None.\n"
          ]
        },
        {
          "output_type": "error",
          "ename": "KeyboardInterrupt",
          "evalue": "",
          "traceback": [
            "\u001b[0;31m---------------------------------------------------------------------------\u001b[0m",
            "\u001b[0;31mKeyboardInterrupt\u001b[0m                         Traceback (most recent call last)",
            "\u001b[0;32m<ipython-input-29-c4e35a659cba>\u001b[0m in \u001b[0;36m<cell line: 16>\u001b[0;34m()\u001b[0m\n\u001b[1;32m     14\u001b[0m \u001b[0;34m\u001b[0m\u001b[0m\n\u001b[1;32m     15\u001b[0m \u001b[0mstudy_rf\u001b[0m \u001b[0;34m=\u001b[0m \u001b[0moptuna\u001b[0m\u001b[0;34m.\u001b[0m\u001b[0mcreate_study\u001b[0m\u001b[0;34m(\u001b[0m\u001b[0mdirection\u001b[0m\u001b[0;34m=\u001b[0m\u001b[0;34m'minimize'\u001b[0m\u001b[0;34m)\u001b[0m\u001b[0;34m\u001b[0m\u001b[0;34m\u001b[0m\u001b[0m\n\u001b[0;32m---> 16\u001b[0;31m \u001b[0mstudy_rf\u001b[0m\u001b[0;34m.\u001b[0m\u001b[0moptimize\u001b[0m\u001b[0;34m(\u001b[0m\u001b[0mobjective_rf\u001b[0m\u001b[0;34m,\u001b[0m \u001b[0mn_trials\u001b[0m\u001b[0;34m=\u001b[0m\u001b[0;36m100\u001b[0m\u001b[0;34m)\u001b[0m\u001b[0;34m\u001b[0m\u001b[0;34m\u001b[0m\u001b[0m\n\u001b[0m\u001b[1;32m     17\u001b[0m \u001b[0mprint\u001b[0m\u001b[0;34m(\u001b[0m\u001b[0mstudy_rf\u001b[0m\u001b[0;34m.\u001b[0m\u001b[0mbest_params\u001b[0m\u001b[0;34m)\u001b[0m\u001b[0;34m\u001b[0m\u001b[0;34m\u001b[0m\u001b[0m\n",
            "\u001b[0;32m/usr/local/lib/python3.10/dist-packages/optuna/study/study.py\u001b[0m in \u001b[0;36moptimize\u001b[0;34m(self, func, n_trials, timeout, n_jobs, catch, callbacks, gc_after_trial, show_progress_bar)\u001b[0m\n\u001b[1;32m    449\u001b[0m                 \u001b[0mIf\u001b[0m \u001b[0mnested\u001b[0m \u001b[0minvocation\u001b[0m \u001b[0mof\u001b[0m \u001b[0mthis\u001b[0m \u001b[0mmethod\u001b[0m \u001b[0moccurs\u001b[0m\u001b[0;34m.\u001b[0m\u001b[0;34m\u001b[0m\u001b[0;34m\u001b[0m\u001b[0m\n\u001b[1;32m    450\u001b[0m         \"\"\"\n\u001b[0;32m--> 451\u001b[0;31m         _optimize(\n\u001b[0m\u001b[1;32m    452\u001b[0m             \u001b[0mstudy\u001b[0m\u001b[0;34m=\u001b[0m\u001b[0mself\u001b[0m\u001b[0;34m,\u001b[0m\u001b[0;34m\u001b[0m\u001b[0;34m\u001b[0m\u001b[0m\n\u001b[1;32m    453\u001b[0m             \u001b[0mfunc\u001b[0m\u001b[0;34m=\u001b[0m\u001b[0mfunc\u001b[0m\u001b[0;34m,\u001b[0m\u001b[0;34m\u001b[0m\u001b[0;34m\u001b[0m\u001b[0m\n",
            "\u001b[0;32m/usr/local/lib/python3.10/dist-packages/optuna/study/_optimize.py\u001b[0m in \u001b[0;36m_optimize\u001b[0;34m(study, func, n_trials, timeout, n_jobs, catch, callbacks, gc_after_trial, show_progress_bar)\u001b[0m\n\u001b[1;32m     60\u001b[0m     \u001b[0;32mtry\u001b[0m\u001b[0;34m:\u001b[0m\u001b[0;34m\u001b[0m\u001b[0;34m\u001b[0m\u001b[0m\n\u001b[1;32m     61\u001b[0m         \u001b[0;32mif\u001b[0m \u001b[0mn_jobs\u001b[0m \u001b[0;34m==\u001b[0m \u001b[0;36m1\u001b[0m\u001b[0;34m:\u001b[0m\u001b[0;34m\u001b[0m\u001b[0;34m\u001b[0m\u001b[0m\n\u001b[0;32m---> 62\u001b[0;31m             _optimize_sequential(\n\u001b[0m\u001b[1;32m     63\u001b[0m                 \u001b[0mstudy\u001b[0m\u001b[0;34m,\u001b[0m\u001b[0;34m\u001b[0m\u001b[0;34m\u001b[0m\u001b[0m\n\u001b[1;32m     64\u001b[0m                 \u001b[0mfunc\u001b[0m\u001b[0;34m,\u001b[0m\u001b[0;34m\u001b[0m\u001b[0;34m\u001b[0m\u001b[0m\n",
            "\u001b[0;32m/usr/local/lib/python3.10/dist-packages/optuna/study/_optimize.py\u001b[0m in \u001b[0;36m_optimize_sequential\u001b[0;34m(study, func, n_trials, timeout, catch, callbacks, gc_after_trial, reseed_sampler_rng, time_start, progress_bar)\u001b[0m\n\u001b[1;32m    157\u001b[0m \u001b[0;34m\u001b[0m\u001b[0m\n\u001b[1;32m    158\u001b[0m         \u001b[0;32mtry\u001b[0m\u001b[0;34m:\u001b[0m\u001b[0;34m\u001b[0m\u001b[0;34m\u001b[0m\u001b[0m\n\u001b[0;32m--> 159\u001b[0;31m             \u001b[0mfrozen_trial\u001b[0m \u001b[0;34m=\u001b[0m \u001b[0m_run_trial\u001b[0m\u001b[0;34m(\u001b[0m\u001b[0mstudy\u001b[0m\u001b[0;34m,\u001b[0m \u001b[0mfunc\u001b[0m\u001b[0;34m,\u001b[0m \u001b[0mcatch\u001b[0m\u001b[0;34m)\u001b[0m\u001b[0;34m\u001b[0m\u001b[0;34m\u001b[0m\u001b[0m\n\u001b[0m\u001b[1;32m    160\u001b[0m         \u001b[0;32mfinally\u001b[0m\u001b[0;34m:\u001b[0m\u001b[0;34m\u001b[0m\u001b[0;34m\u001b[0m\u001b[0m\n\u001b[1;32m    161\u001b[0m             \u001b[0;31m# The following line mitigates memory problems that can be occurred in some\u001b[0m\u001b[0;34m\u001b[0m\u001b[0;34m\u001b[0m\u001b[0m\n",
            "\u001b[0;32m/usr/local/lib/python3.10/dist-packages/optuna/study/_optimize.py\u001b[0m in \u001b[0;36m_run_trial\u001b[0;34m(study, func, catch)\u001b[0m\n\u001b[1;32m    245\u001b[0m         \u001b[0;32mand\u001b[0m \u001b[0;32mnot\u001b[0m \u001b[0misinstance\u001b[0m\u001b[0;34m(\u001b[0m\u001b[0mfunc_err\u001b[0m\u001b[0;34m,\u001b[0m \u001b[0mcatch\u001b[0m\u001b[0;34m)\u001b[0m\u001b[0;34m\u001b[0m\u001b[0;34m\u001b[0m\u001b[0m\n\u001b[1;32m    246\u001b[0m     ):\n\u001b[0;32m--> 247\u001b[0;31m         \u001b[0;32mraise\u001b[0m \u001b[0mfunc_err\u001b[0m\u001b[0;34m\u001b[0m\u001b[0;34m\u001b[0m\u001b[0m\n\u001b[0m\u001b[1;32m    248\u001b[0m     \u001b[0;32mreturn\u001b[0m \u001b[0mfrozen_trial\u001b[0m\u001b[0;34m\u001b[0m\u001b[0;34m\u001b[0m\u001b[0m\n\u001b[1;32m    249\u001b[0m \u001b[0;34m\u001b[0m\u001b[0m\n",
            "\u001b[0;32m/usr/local/lib/python3.10/dist-packages/optuna/study/_optimize.py\u001b[0m in \u001b[0;36m_run_trial\u001b[0;34m(study, func, catch)\u001b[0m\n\u001b[1;32m    194\u001b[0m     \u001b[0;32mwith\u001b[0m \u001b[0mget_heartbeat_thread\u001b[0m\u001b[0;34m(\u001b[0m\u001b[0mtrial\u001b[0m\u001b[0;34m.\u001b[0m\u001b[0m_trial_id\u001b[0m\u001b[0;34m,\u001b[0m \u001b[0mstudy\u001b[0m\u001b[0;34m.\u001b[0m\u001b[0m_storage\u001b[0m\u001b[0;34m)\u001b[0m\u001b[0;34m:\u001b[0m\u001b[0;34m\u001b[0m\u001b[0;34m\u001b[0m\u001b[0m\n\u001b[1;32m    195\u001b[0m         \u001b[0;32mtry\u001b[0m\u001b[0;34m:\u001b[0m\u001b[0;34m\u001b[0m\u001b[0;34m\u001b[0m\u001b[0m\n\u001b[0;32m--> 196\u001b[0;31m             \u001b[0mvalue_or_values\u001b[0m \u001b[0;34m=\u001b[0m \u001b[0mfunc\u001b[0m\u001b[0;34m(\u001b[0m\u001b[0mtrial\u001b[0m\u001b[0;34m)\u001b[0m\u001b[0;34m\u001b[0m\u001b[0;34m\u001b[0m\u001b[0m\n\u001b[0m\u001b[1;32m    197\u001b[0m         \u001b[0;32mexcept\u001b[0m \u001b[0mexceptions\u001b[0m\u001b[0;34m.\u001b[0m\u001b[0mTrialPruned\u001b[0m \u001b[0;32mas\u001b[0m \u001b[0me\u001b[0m\u001b[0;34m:\u001b[0m\u001b[0;34m\u001b[0m\u001b[0;34m\u001b[0m\u001b[0m\n\u001b[1;32m    198\u001b[0m             \u001b[0;31m# TODO(mamu): Handle multi-objective cases.\u001b[0m\u001b[0;34m\u001b[0m\u001b[0;34m\u001b[0m\u001b[0m\n",
            "\u001b[0;32m<ipython-input-29-c4e35a659cba>\u001b[0m in \u001b[0;36mobjective_rf\u001b[0;34m(trial)\u001b[0m\n\u001b[1;32m      8\u001b[0m \u001b[0;34m\u001b[0m\u001b[0m\n\u001b[1;32m      9\u001b[0m     \u001b[0mrf_model\u001b[0m \u001b[0;34m=\u001b[0m \u001b[0mRandomForestRegressor\u001b[0m\u001b[0;34m(\u001b[0m\u001b[0;34m**\u001b[0m\u001b[0mparams\u001b[0m\u001b[0;34m)\u001b[0m\u001b[0;34m\u001b[0m\u001b[0;34m\u001b[0m\u001b[0m\n\u001b[0;32m---> 10\u001b[0;31m     \u001b[0mrf_model\u001b[0m\u001b[0;34m.\u001b[0m\u001b[0mfit\u001b[0m\u001b[0;34m(\u001b[0m\u001b[0mX_train\u001b[0m\u001b[0;34m,\u001b[0m \u001b[0my_train\u001b[0m\u001b[0;34m)\u001b[0m\u001b[0;34m\u001b[0m\u001b[0;34m\u001b[0m\u001b[0m\n\u001b[0m\u001b[1;32m     11\u001b[0m     \u001b[0mrf_predictions\u001b[0m \u001b[0;34m=\u001b[0m \u001b[0mrf_model\u001b[0m\u001b[0;34m.\u001b[0m\u001b[0mpredict\u001b[0m\u001b[0;34m(\u001b[0m\u001b[0mX_test\u001b[0m\u001b[0;34m)\u001b[0m\u001b[0;34m\u001b[0m\u001b[0;34m\u001b[0m\u001b[0m\n\u001b[1;32m     12\u001b[0m     \u001b[0mr2score\u001b[0m \u001b[0;34m=\u001b[0m \u001b[0mr2_score\u001b[0m\u001b[0;34m(\u001b[0m\u001b[0my_test\u001b[0m\u001b[0;34m,\u001b[0m \u001b[0mrf_predictions\u001b[0m\u001b[0;34m)\u001b[0m\u001b[0;34m\u001b[0m\u001b[0;34m\u001b[0m\u001b[0m\n",
            "\u001b[0;32m/usr/local/lib/python3.10/dist-packages/sklearn/ensemble/_forest.py\u001b[0m in \u001b[0;36mfit\u001b[0;34m(self, X, y, sample_weight)\u001b[0m\n\u001b[1;32m    471\u001b[0m             \u001b[0;31m# parallel_backend contexts set at a higher level,\u001b[0m\u001b[0;34m\u001b[0m\u001b[0;34m\u001b[0m\u001b[0m\n\u001b[1;32m    472\u001b[0m             \u001b[0;31m# since correctness does not rely on using threads.\u001b[0m\u001b[0;34m\u001b[0m\u001b[0;34m\u001b[0m\u001b[0m\n\u001b[0;32m--> 473\u001b[0;31m             trees = Parallel(\n\u001b[0m\u001b[1;32m    474\u001b[0m                 \u001b[0mn_jobs\u001b[0m\u001b[0;34m=\u001b[0m\u001b[0mself\u001b[0m\u001b[0;34m.\u001b[0m\u001b[0mn_jobs\u001b[0m\u001b[0;34m,\u001b[0m\u001b[0;34m\u001b[0m\u001b[0;34m\u001b[0m\u001b[0m\n\u001b[1;32m    475\u001b[0m                 \u001b[0mverbose\u001b[0m\u001b[0;34m=\u001b[0m\u001b[0mself\u001b[0m\u001b[0;34m.\u001b[0m\u001b[0mverbose\u001b[0m\u001b[0;34m,\u001b[0m\u001b[0;34m\u001b[0m\u001b[0;34m\u001b[0m\u001b[0m\n",
            "\u001b[0;32m/usr/local/lib/python3.10/dist-packages/sklearn/utils/parallel.py\u001b[0m in \u001b[0;36m__call__\u001b[0;34m(self, iterable)\u001b[0m\n\u001b[1;32m     61\u001b[0m             \u001b[0;32mfor\u001b[0m \u001b[0mdelayed_func\u001b[0m\u001b[0;34m,\u001b[0m \u001b[0margs\u001b[0m\u001b[0;34m,\u001b[0m \u001b[0mkwargs\u001b[0m \u001b[0;32min\u001b[0m \u001b[0miterable\u001b[0m\u001b[0;34m\u001b[0m\u001b[0;34m\u001b[0m\u001b[0m\n\u001b[1;32m     62\u001b[0m         )\n\u001b[0;32m---> 63\u001b[0;31m         \u001b[0;32mreturn\u001b[0m \u001b[0msuper\u001b[0m\u001b[0;34m(\u001b[0m\u001b[0;34m)\u001b[0m\u001b[0;34m.\u001b[0m\u001b[0m__call__\u001b[0m\u001b[0;34m(\u001b[0m\u001b[0miterable_with_config\u001b[0m\u001b[0;34m)\u001b[0m\u001b[0;34m\u001b[0m\u001b[0;34m\u001b[0m\u001b[0m\n\u001b[0m\u001b[1;32m     64\u001b[0m \u001b[0;34m\u001b[0m\u001b[0m\n\u001b[1;32m     65\u001b[0m \u001b[0;34m\u001b[0m\u001b[0m\n",
            "\u001b[0;32m/usr/local/lib/python3.10/dist-packages/joblib/parallel.py\u001b[0m in \u001b[0;36m__call__\u001b[0;34m(self, iterable)\u001b[0m\n\u001b[1;32m   1916\u001b[0m             \u001b[0moutput\u001b[0m \u001b[0;34m=\u001b[0m \u001b[0mself\u001b[0m\u001b[0;34m.\u001b[0m\u001b[0m_get_sequential_output\u001b[0m\u001b[0;34m(\u001b[0m\u001b[0miterable\u001b[0m\u001b[0;34m)\u001b[0m\u001b[0;34m\u001b[0m\u001b[0;34m\u001b[0m\u001b[0m\n\u001b[1;32m   1917\u001b[0m             \u001b[0mnext\u001b[0m\u001b[0;34m(\u001b[0m\u001b[0moutput\u001b[0m\u001b[0;34m)\u001b[0m\u001b[0;34m\u001b[0m\u001b[0;34m\u001b[0m\u001b[0m\n\u001b[0;32m-> 1918\u001b[0;31m             \u001b[0;32mreturn\u001b[0m \u001b[0moutput\u001b[0m \u001b[0;32mif\u001b[0m \u001b[0mself\u001b[0m\u001b[0;34m.\u001b[0m\u001b[0mreturn_generator\u001b[0m \u001b[0;32melse\u001b[0m \u001b[0mlist\u001b[0m\u001b[0;34m(\u001b[0m\u001b[0moutput\u001b[0m\u001b[0;34m)\u001b[0m\u001b[0;34m\u001b[0m\u001b[0;34m\u001b[0m\u001b[0m\n\u001b[0m\u001b[1;32m   1919\u001b[0m \u001b[0;34m\u001b[0m\u001b[0m\n\u001b[1;32m   1920\u001b[0m         \u001b[0;31m# Let's create an ID that uniquely identifies the current call. If the\u001b[0m\u001b[0;34m\u001b[0m\u001b[0;34m\u001b[0m\u001b[0m\n",
            "\u001b[0;32m/usr/local/lib/python3.10/dist-packages/joblib/parallel.py\u001b[0m in \u001b[0;36m_get_sequential_output\u001b[0;34m(self, iterable)\u001b[0m\n\u001b[1;32m   1845\u001b[0m                 \u001b[0mself\u001b[0m\u001b[0;34m.\u001b[0m\u001b[0mn_dispatched_batches\u001b[0m \u001b[0;34m+=\u001b[0m \u001b[0;36m1\u001b[0m\u001b[0;34m\u001b[0m\u001b[0;34m\u001b[0m\u001b[0m\n\u001b[1;32m   1846\u001b[0m                 \u001b[0mself\u001b[0m\u001b[0;34m.\u001b[0m\u001b[0mn_dispatched_tasks\u001b[0m \u001b[0;34m+=\u001b[0m \u001b[0;36m1\u001b[0m\u001b[0;34m\u001b[0m\u001b[0;34m\u001b[0m\u001b[0m\n\u001b[0;32m-> 1847\u001b[0;31m                 \u001b[0mres\u001b[0m \u001b[0;34m=\u001b[0m \u001b[0mfunc\u001b[0m\u001b[0;34m(\u001b[0m\u001b[0;34m*\u001b[0m\u001b[0margs\u001b[0m\u001b[0;34m,\u001b[0m \u001b[0;34m**\u001b[0m\u001b[0mkwargs\u001b[0m\u001b[0;34m)\u001b[0m\u001b[0;34m\u001b[0m\u001b[0;34m\u001b[0m\u001b[0m\n\u001b[0m\u001b[1;32m   1848\u001b[0m                 \u001b[0mself\u001b[0m\u001b[0;34m.\u001b[0m\u001b[0mn_completed_tasks\u001b[0m \u001b[0;34m+=\u001b[0m \u001b[0;36m1\u001b[0m\u001b[0;34m\u001b[0m\u001b[0;34m\u001b[0m\u001b[0m\n\u001b[1;32m   1849\u001b[0m                 \u001b[0mself\u001b[0m\u001b[0;34m.\u001b[0m\u001b[0mprint_progress\u001b[0m\u001b[0;34m(\u001b[0m\u001b[0;34m)\u001b[0m\u001b[0;34m\u001b[0m\u001b[0;34m\u001b[0m\u001b[0m\n",
            "\u001b[0;32m/usr/local/lib/python3.10/dist-packages/sklearn/utils/parallel.py\u001b[0m in \u001b[0;36m__call__\u001b[0;34m(self, *args, **kwargs)\u001b[0m\n\u001b[1;32m    121\u001b[0m             \u001b[0mconfig\u001b[0m \u001b[0;34m=\u001b[0m \u001b[0;34m{\u001b[0m\u001b[0;34m}\u001b[0m\u001b[0;34m\u001b[0m\u001b[0;34m\u001b[0m\u001b[0m\n\u001b[1;32m    122\u001b[0m         \u001b[0;32mwith\u001b[0m \u001b[0mconfig_context\u001b[0m\u001b[0;34m(\u001b[0m\u001b[0;34m**\u001b[0m\u001b[0mconfig\u001b[0m\u001b[0;34m)\u001b[0m\u001b[0;34m:\u001b[0m\u001b[0;34m\u001b[0m\u001b[0;34m\u001b[0m\u001b[0m\n\u001b[0;32m--> 123\u001b[0;31m             \u001b[0;32mreturn\u001b[0m \u001b[0mself\u001b[0m\u001b[0;34m.\u001b[0m\u001b[0mfunction\u001b[0m\u001b[0;34m(\u001b[0m\u001b[0;34m*\u001b[0m\u001b[0margs\u001b[0m\u001b[0;34m,\u001b[0m \u001b[0;34m**\u001b[0m\u001b[0mkwargs\u001b[0m\u001b[0;34m)\u001b[0m\u001b[0;34m\u001b[0m\u001b[0;34m\u001b[0m\u001b[0m\n\u001b[0m",
            "\u001b[0;32m/usr/local/lib/python3.10/dist-packages/sklearn/ensemble/_forest.py\u001b[0m in \u001b[0;36m_parallel_build_trees\u001b[0;34m(tree, bootstrap, X, y, sample_weight, tree_idx, n_trees, verbose, class_weight, n_samples_bootstrap)\u001b[0m\n\u001b[1;32m    182\u001b[0m             \u001b[0mcurr_sample_weight\u001b[0m \u001b[0;34m*=\u001b[0m \u001b[0mcompute_sample_weight\u001b[0m\u001b[0;34m(\u001b[0m\u001b[0;34m\"balanced\"\u001b[0m\u001b[0;34m,\u001b[0m \u001b[0my\u001b[0m\u001b[0;34m,\u001b[0m \u001b[0mindices\u001b[0m\u001b[0;34m=\u001b[0m\u001b[0mindices\u001b[0m\u001b[0;34m)\u001b[0m\u001b[0;34m\u001b[0m\u001b[0;34m\u001b[0m\u001b[0m\n\u001b[1;32m    183\u001b[0m \u001b[0;34m\u001b[0m\u001b[0m\n\u001b[0;32m--> 184\u001b[0;31m         \u001b[0mtree\u001b[0m\u001b[0;34m.\u001b[0m\u001b[0mfit\u001b[0m\u001b[0;34m(\u001b[0m\u001b[0mX\u001b[0m\u001b[0;34m,\u001b[0m \u001b[0my\u001b[0m\u001b[0;34m,\u001b[0m \u001b[0msample_weight\u001b[0m\u001b[0;34m=\u001b[0m\u001b[0mcurr_sample_weight\u001b[0m\u001b[0;34m,\u001b[0m \u001b[0mcheck_input\u001b[0m\u001b[0;34m=\u001b[0m\u001b[0;32mFalse\u001b[0m\u001b[0;34m)\u001b[0m\u001b[0;34m\u001b[0m\u001b[0;34m\u001b[0m\u001b[0m\n\u001b[0m\u001b[1;32m    185\u001b[0m     \u001b[0;32melse\u001b[0m\u001b[0;34m:\u001b[0m\u001b[0;34m\u001b[0m\u001b[0;34m\u001b[0m\u001b[0m\n\u001b[1;32m    186\u001b[0m         \u001b[0mtree\u001b[0m\u001b[0;34m.\u001b[0m\u001b[0mfit\u001b[0m\u001b[0;34m(\u001b[0m\u001b[0mX\u001b[0m\u001b[0;34m,\u001b[0m \u001b[0my\u001b[0m\u001b[0;34m,\u001b[0m \u001b[0msample_weight\u001b[0m\u001b[0;34m=\u001b[0m\u001b[0msample_weight\u001b[0m\u001b[0;34m,\u001b[0m \u001b[0mcheck_input\u001b[0m\u001b[0;34m=\u001b[0m\u001b[0;32mFalse\u001b[0m\u001b[0;34m)\u001b[0m\u001b[0;34m\u001b[0m\u001b[0;34m\u001b[0m\u001b[0m\n",
            "\u001b[0;32m/usr/local/lib/python3.10/dist-packages/sklearn/tree/_classes.py\u001b[0m in \u001b[0;36mfit\u001b[0;34m(self, X, y, sample_weight, check_input)\u001b[0m\n\u001b[1;32m   1245\u001b[0m         \"\"\"\n\u001b[1;32m   1246\u001b[0m \u001b[0;34m\u001b[0m\u001b[0m\n\u001b[0;32m-> 1247\u001b[0;31m         super().fit(\n\u001b[0m\u001b[1;32m   1248\u001b[0m             \u001b[0mX\u001b[0m\u001b[0;34m,\u001b[0m\u001b[0;34m\u001b[0m\u001b[0;34m\u001b[0m\u001b[0m\n\u001b[1;32m   1249\u001b[0m             \u001b[0my\u001b[0m\u001b[0;34m,\u001b[0m\u001b[0;34m\u001b[0m\u001b[0;34m\u001b[0m\u001b[0m\n",
            "\u001b[0;32m/usr/local/lib/python3.10/dist-packages/sklearn/tree/_classes.py\u001b[0m in \u001b[0;36mfit\u001b[0;34m(self, X, y, sample_weight, check_input)\u001b[0m\n\u001b[1;32m    377\u001b[0m             )\n\u001b[1;32m    378\u001b[0m \u001b[0;34m\u001b[0m\u001b[0m\n\u001b[0;32m--> 379\u001b[0;31m         \u001b[0mbuilder\u001b[0m\u001b[0;34m.\u001b[0m\u001b[0mbuild\u001b[0m\u001b[0;34m(\u001b[0m\u001b[0mself\u001b[0m\u001b[0;34m.\u001b[0m\u001b[0mtree_\u001b[0m\u001b[0;34m,\u001b[0m \u001b[0mX\u001b[0m\u001b[0;34m,\u001b[0m \u001b[0my\u001b[0m\u001b[0;34m,\u001b[0m \u001b[0msample_weight\u001b[0m\u001b[0;34m)\u001b[0m\u001b[0;34m\u001b[0m\u001b[0;34m\u001b[0m\u001b[0m\n\u001b[0m\u001b[1;32m    380\u001b[0m \u001b[0;34m\u001b[0m\u001b[0m\n\u001b[1;32m    381\u001b[0m         \u001b[0;32mif\u001b[0m \u001b[0mself\u001b[0m\u001b[0;34m.\u001b[0m\u001b[0mn_outputs_\u001b[0m \u001b[0;34m==\u001b[0m \u001b[0;36m1\u001b[0m \u001b[0;32mand\u001b[0m \u001b[0mis_classifier\u001b[0m\u001b[0;34m(\u001b[0m\u001b[0mself\u001b[0m\u001b[0;34m)\u001b[0m\u001b[0;34m:\u001b[0m\u001b[0;34m\u001b[0m\u001b[0;34m\u001b[0m\u001b[0m\n",
            "\u001b[0;31mKeyboardInterrupt\u001b[0m: "
          ]
        }
      ]
    },
    {
      "cell_type": "code",
      "execution_count": null,
      "metadata": {
        "colab": {
          "base_uri": "https://localhost:8080/"
        },
        "id": "p8QQn5zEwl9c",
        "outputId": "0c2cdb9f-91d8-4393-da3a-86bf60ffa5c4"
      },
      "outputs": [
        {
          "data": {
            "text/plain": [
              "0.122799814"
            ]
          },
          "execution_count": 21,
          "metadata": {},
          "output_type": "execute_result"
        }
      ],
      "source": [
        "mse = mean_absolute_error(y_test, nn_preds_x)\n",
        "rmse = np.sqrt(mse)\n",
        "rmse"
      ]
    },
    {
      "cell_type": "code",
      "execution_count": null,
      "metadata": {
        "colab": {
          "base_uri": "https://localhost:8080/"
        },
        "id": "1J_zvy4p5zdH",
        "outputId": "e6702f3c-eca5-44b9-83fd-564afbbed74d"
      },
      "outputs": [
        {
          "data": {
            "text/plain": [
              "(torch.Size([223591, 1]), torch.Size([745305]))"
            ]
          },
          "execution_count": 23,
          "metadata": {},
          "output_type": "execute_result"
        }
      ],
      "source": [
        "nn_preds_x.shape,nn_preds_y.shape"
      ]
    },
    {
      "cell_type": "code",
      "execution_count": null,
      "metadata": {
        "colab": {
          "base_uri": "https://localhost:8080/"
        },
        "id": "m5-EILtM8QT0",
        "outputId": "00333869-edc0-4262-a105-e21af5a54939"
      },
      "outputs": [
        {
          "data": {
            "text/plain": [
              "torch.Size([745305, 1])"
            ]
          },
          "execution_count": 34,
          "metadata": {},
          "output_type": "execute_result"
        }
      ],
      "source": [
        "nn_preds[0].shape"
      ]
    },
    {
      "cell_type": "code",
      "execution_count": null,
      "metadata": {
        "colab": {
          "base_uri": "https://localhost:8080/",
          "height": 206
        },
        "id": "2zC90KHj57Sr",
        "outputId": "657dd3f4-9fc1-4c37-873c-9c0fd5c86933"
      },
      "outputs": [
        {
          "data": {
            "application/vnd.google.colaboratory.intrinsic+json": {
              "type": "dataframe",
              "variable_name": "submission"
            },
            "text/html": [
              "\n",
              "  <div id=\"df-dac37960-b6ce-4d74-861a-5b6a4417d28e\" class=\"colab-df-container\">\n",
              "    <div>\n",
              "<style scoped>\n",
              "    .dataframe tbody tr th:only-of-type {\n",
              "        vertical-align: middle;\n",
              "    }\n",
              "\n",
              "    .dataframe tbody tr th {\n",
              "        vertical-align: top;\n",
              "    }\n",
              "\n",
              "    .dataframe thead th {\n",
              "        text-align: right;\n",
              "    }\n",
              "</style>\n",
              "<table border=\"1\" class=\"dataframe\">\n",
              "  <thead>\n",
              "    <tr style=\"text-align: right;\">\n",
              "      <th></th>\n",
              "      <th>id</th>\n",
              "      <th>Rings</th>\n",
              "    </tr>\n",
              "  </thead>\n",
              "  <tbody>\n",
              "    <tr>\n",
              "      <th>0</th>\n",
              "      <td>1117957</td>\n",
              "      <td>0.572112</td>\n",
              "    </tr>\n",
              "    <tr>\n",
              "      <th>1</th>\n",
              "      <td>1117958</td>\n",
              "      <td>0.456245</td>\n",
              "    </tr>\n",
              "    <tr>\n",
              "      <th>2</th>\n",
              "      <td>1117959</td>\n",
              "      <td>0.454844</td>\n",
              "    </tr>\n",
              "    <tr>\n",
              "      <th>3</th>\n",
              "      <td>1117960</td>\n",
              "      <td>0.470216</td>\n",
              "    </tr>\n",
              "    <tr>\n",
              "      <th>4</th>\n",
              "      <td>1117961</td>\n",
              "      <td>0.470411</td>\n",
              "    </tr>\n",
              "  </tbody>\n",
              "</table>\n",
              "</div>\n",
              "    <div class=\"colab-df-buttons\">\n",
              "\n",
              "  <div class=\"colab-df-container\">\n",
              "    <button class=\"colab-df-convert\" onclick=\"convertToInteractive('df-dac37960-b6ce-4d74-861a-5b6a4417d28e')\"\n",
              "            title=\"Convert this dataframe to an interactive table.\"\n",
              "            style=\"display:none;\">\n",
              "\n",
              "  <svg xmlns=\"http://www.w3.org/2000/svg\" height=\"24px\" viewBox=\"0 -960 960 960\">\n",
              "    <path d=\"M120-120v-720h720v720H120Zm60-500h600v-160H180v160Zm220 220h160v-160H400v160Zm0 220h160v-160H400v160ZM180-400h160v-160H180v160Zm440 0h160v-160H620v160ZM180-180h160v-160H180v160Zm440 0h160v-160H620v160Z\"/>\n",
              "  </svg>\n",
              "    </button>\n",
              "\n",
              "  <style>\n",
              "    .colab-df-container {\n",
              "      display:flex;\n",
              "      gap: 12px;\n",
              "    }\n",
              "\n",
              "    .colab-df-convert {\n",
              "      background-color: #E8F0FE;\n",
              "      border: none;\n",
              "      border-radius: 50%;\n",
              "      cursor: pointer;\n",
              "      display: none;\n",
              "      fill: #1967D2;\n",
              "      height: 32px;\n",
              "      padding: 0 0 0 0;\n",
              "      width: 32px;\n",
              "    }\n",
              "\n",
              "    .colab-df-convert:hover {\n",
              "      background-color: #E2EBFA;\n",
              "      box-shadow: 0px 1px 2px rgba(60, 64, 67, 0.3), 0px 1px 3px 1px rgba(60, 64, 67, 0.15);\n",
              "      fill: #174EA6;\n",
              "    }\n",
              "\n",
              "    .colab-df-buttons div {\n",
              "      margin-bottom: 4px;\n",
              "    }\n",
              "\n",
              "    [theme=dark] .colab-df-convert {\n",
              "      background-color: #3B4455;\n",
              "      fill: #D2E3FC;\n",
              "    }\n",
              "\n",
              "    [theme=dark] .colab-df-convert:hover {\n",
              "      background-color: #434B5C;\n",
              "      box-shadow: 0px 1px 3px 1px rgba(0, 0, 0, 0.15);\n",
              "      filter: drop-shadow(0px 1px 2px rgba(0, 0, 0, 0.3));\n",
              "      fill: #FFFFFF;\n",
              "    }\n",
              "  </style>\n",
              "\n",
              "    <script>\n",
              "      const buttonEl =\n",
              "        document.querySelector('#df-dac37960-b6ce-4d74-861a-5b6a4417d28e button.colab-df-convert');\n",
              "      buttonEl.style.display =\n",
              "        google.colab.kernel.accessAllowed ? 'block' : 'none';\n",
              "\n",
              "      async function convertToInteractive(key) {\n",
              "        const element = document.querySelector('#df-dac37960-b6ce-4d74-861a-5b6a4417d28e');\n",
              "        const dataTable =\n",
              "          await google.colab.kernel.invokeFunction('convertToInteractive',\n",
              "                                                    [key], {});\n",
              "        if (!dataTable) return;\n",
              "\n",
              "        const docLinkHtml = 'Like what you see? Visit the ' +\n",
              "          '<a target=\"_blank\" href=https://colab.research.google.com/notebooks/data_table.ipynb>data table notebook</a>'\n",
              "          + ' to learn more about interactive tables.';\n",
              "        element.innerHTML = '';\n",
              "        dataTable['output_type'] = 'display_data';\n",
              "        await google.colab.output.renderOutput(dataTable, element);\n",
              "        const docLink = document.createElement('div');\n",
              "        docLink.innerHTML = docLinkHtml;\n",
              "        element.appendChild(docLink);\n",
              "      }\n",
              "    </script>\n",
              "  </div>\n",
              "\n",
              "\n",
              "<div id=\"df-a71ddd27-cdaa-42c4-8546-b59b0703bffa\">\n",
              "  <button class=\"colab-df-quickchart\" onclick=\"quickchart('df-a71ddd27-cdaa-42c4-8546-b59b0703bffa')\"\n",
              "            title=\"Suggest charts\"\n",
              "            style=\"display:none;\">\n",
              "\n",
              "<svg xmlns=\"http://www.w3.org/2000/svg\" height=\"24px\"viewBox=\"0 0 24 24\"\n",
              "     width=\"24px\">\n",
              "    <g>\n",
              "        <path d=\"M19 3H5c-1.1 0-2 .9-2 2v14c0 1.1.9 2 2 2h14c1.1 0 2-.9 2-2V5c0-1.1-.9-2-2-2zM9 17H7v-7h2v7zm4 0h-2V7h2v10zm4 0h-2v-4h2v4z\"/>\n",
              "    </g>\n",
              "</svg>\n",
              "  </button>\n",
              "\n",
              "<style>\n",
              "  .colab-df-quickchart {\n",
              "      --bg-color: #E8F0FE;\n",
              "      --fill-color: #1967D2;\n",
              "      --hover-bg-color: #E2EBFA;\n",
              "      --hover-fill-color: #174EA6;\n",
              "      --disabled-fill-color: #AAA;\n",
              "      --disabled-bg-color: #DDD;\n",
              "  }\n",
              "\n",
              "  [theme=dark] .colab-df-quickchart {\n",
              "      --bg-color: #3B4455;\n",
              "      --fill-color: #D2E3FC;\n",
              "      --hover-bg-color: #434B5C;\n",
              "      --hover-fill-color: #FFFFFF;\n",
              "      --disabled-bg-color: #3B4455;\n",
              "      --disabled-fill-color: #666;\n",
              "  }\n",
              "\n",
              "  .colab-df-quickchart {\n",
              "    background-color: var(--bg-color);\n",
              "    border: none;\n",
              "    border-radius: 50%;\n",
              "    cursor: pointer;\n",
              "    display: none;\n",
              "    fill: var(--fill-color);\n",
              "    height: 32px;\n",
              "    padding: 0;\n",
              "    width: 32px;\n",
              "  }\n",
              "\n",
              "  .colab-df-quickchart:hover {\n",
              "    background-color: var(--hover-bg-color);\n",
              "    box-shadow: 0 1px 2px rgba(60, 64, 67, 0.3), 0 1px 3px 1px rgba(60, 64, 67, 0.15);\n",
              "    fill: var(--button-hover-fill-color);\n",
              "  }\n",
              "\n",
              "  .colab-df-quickchart-complete:disabled,\n",
              "  .colab-df-quickchart-complete:disabled:hover {\n",
              "    background-color: var(--disabled-bg-color);\n",
              "    fill: var(--disabled-fill-color);\n",
              "    box-shadow: none;\n",
              "  }\n",
              "\n",
              "  .colab-df-spinner {\n",
              "    border: 2px solid var(--fill-color);\n",
              "    border-color: transparent;\n",
              "    border-bottom-color: var(--fill-color);\n",
              "    animation:\n",
              "      spin 1s steps(1) infinite;\n",
              "  }\n",
              "\n",
              "  @keyframes spin {\n",
              "    0% {\n",
              "      border-color: transparent;\n",
              "      border-bottom-color: var(--fill-color);\n",
              "      border-left-color: var(--fill-color);\n",
              "    }\n",
              "    20% {\n",
              "      border-color: transparent;\n",
              "      border-left-color: var(--fill-color);\n",
              "      border-top-color: var(--fill-color);\n",
              "    }\n",
              "    30% {\n",
              "      border-color: transparent;\n",
              "      border-left-color: var(--fill-color);\n",
              "      border-top-color: var(--fill-color);\n",
              "      border-right-color: var(--fill-color);\n",
              "    }\n",
              "    40% {\n",
              "      border-color: transparent;\n",
              "      border-right-color: var(--fill-color);\n",
              "      border-top-color: var(--fill-color);\n",
              "    }\n",
              "    60% {\n",
              "      border-color: transparent;\n",
              "      border-right-color: var(--fill-color);\n",
              "    }\n",
              "    80% {\n",
              "      border-color: transparent;\n",
              "      border-right-color: var(--fill-color);\n",
              "      border-bottom-color: var(--fill-color);\n",
              "    }\n",
              "    90% {\n",
              "      border-color: transparent;\n",
              "      border-bottom-color: var(--fill-color);\n",
              "    }\n",
              "  }\n",
              "</style>\n",
              "\n",
              "  <script>\n",
              "    async function quickchart(key) {\n",
              "      const quickchartButtonEl =\n",
              "        document.querySelector('#' + key + ' button');\n",
              "      quickchartButtonEl.disabled = true;  // To prevent multiple clicks.\n",
              "      quickchartButtonEl.classList.add('colab-df-spinner');\n",
              "      try {\n",
              "        const charts = await google.colab.kernel.invokeFunction(\n",
              "            'suggestCharts', [key], {});\n",
              "      } catch (error) {\n",
              "        console.error('Error during call to suggestCharts:', error);\n",
              "      }\n",
              "      quickchartButtonEl.classList.remove('colab-df-spinner');\n",
              "      quickchartButtonEl.classList.add('colab-df-quickchart-complete');\n",
              "    }\n",
              "    (() => {\n",
              "      let quickchartButtonEl =\n",
              "        document.querySelector('#df-a71ddd27-cdaa-42c4-8546-b59b0703bffa button');\n",
              "      quickchartButtonEl.style.display =\n",
              "        google.colab.kernel.accessAllowed ? 'block' : 'none';\n",
              "    })();\n",
              "  </script>\n",
              "</div>\n",
              "\n",
              "    </div>\n",
              "  </div>\n"
            ],
            "text/plain": [
              "        id     Rings\n",
              "0  1117957  0.572112\n",
              "1  1117958  0.456245\n",
              "2  1117959  0.454844\n",
              "3  1117960  0.470216\n",
              "4  1117961  0.470411"
            ]
          },
          "execution_count": 27,
          "metadata": {},
          "output_type": "execute_result"
        }
      ],
      "source": [
        "#target_preds = nn_preds[0]\n",
        "\n",
        "#test_df['FloodProbability'] = target_preds\n",
        "#test_df.to_csv('submission.csv', columns=['FloodProbability'], index=True)\n",
        "\n",
        "#submission = pd.read_csv('submission.csv')\n",
        "#submission.head()"
      ]
    },
    {
      "cell_type": "code",
      "execution_count": null,
      "metadata": {
        "colab": {
          "base_uri": "https://localhost:8080/"
        },
        "id": "-zCdH6cf8ded",
        "outputId": "f55e51b7-637d-4be7-8723-86cee06337c3"
      },
      "outputs": [
        {
          "name": "stdout",
          "output_type": "stream",
          "text": [
            " catboost_info\t    kaggle.json   playground-series-s4e5       sample_data\n",
            "'kaggle (1).json'   models\t  playground-series-s4e5.zip   submission.csv\n"
          ]
        }
      ],
      "source": [
        "!ls"
      ]
    },
    {
      "cell_type": "code",
      "execution_count": null,
      "metadata": {
        "colab": {
          "base_uri": "https://localhost:8080/"
        },
        "id": "0-eOptAYwl9d",
        "outputId": "bf32440d-c580-49ed-fd7f-340cf832ffd6"
      },
      "outputs": [
        {
          "name": "stdout",
          "output_type": "stream",
          "text": [
            "Warning: Your Kaggle API key is readable by other users on this system! To fix this, you can run 'chmod 600 /root/.kaggle/kaggle.json'\n",
            "100% 13.2M/13.2M [00:01<00:00, 9.20MB/s]\n",
            "Successfully submitted to Regression with a Flood Prediction Dataset"
          ]
        }
      ],
      "source": [
        "#!kaggle competitions submit -c playground-series-s4e5 -f submission.csv -m \"nn_preds\""
      ]
    },
    {
      "cell_type": "code",
      "execution_count": null,
      "metadata": {
        "id": "1qBZ9eU05ZP_"
      },
      "outputs": [],
      "source": [
        "!rm submission.csv"
      ]
    },
    {
      "cell_type": "code",
      "execution_count": null,
      "metadata": {
        "colab": {
          "base_uri": "https://localhost:8080/"
        },
        "id": "3Sa8MeNi8qKv",
        "outputId": "5f755327-625a-4901-a92b-07a4cee67163"
      },
      "outputs": [
        {
          "name": "stdout",
          "output_type": "stream",
          "text": [
            " catboost_info\t    kaggle.json   playground-series-s4e5       sample_data\n",
            "'kaggle (1).json'   models\t  playground-series-s4e5.zip\n"
          ]
        }
      ],
      "source": [
        "!ls"
      ]
    },
    {
      "cell_type": "code",
      "source": [
        "def objective_catboost(trial):\n",
        "    params = {\n",
        "        \"iterations\": 200,\n",
        "        \"learning_rate\": trial.suggest_float(\"learning_rate\", 0.01, 0.3, log=True),\n",
        "        \"depth\": trial.suggest_int(\"depth\", 1, 10),\n",
        "        \"random_strength\": trial.suggest_int(\"random_strength\", 1, 10),\n",
        "    }\n",
        "    model = CatBoostRegressor(**params, silent=True)\n",
        "    model.fit(X_train, y_train, eval_set=(X_test, y_test), verbose=False)\n",
        "    cat_predictions = model.predict(X_test)\n",
        "    r2score = r2_score(y_test, cat_predictions)\n",
        "    return r2score\n",
        "\n",
        "study_catboost = optuna.create_study(direction='minimize')\n",
        "study_catboost.optimize(objective_catboost, n_trials=100)\n",
        "print(study_catboost.best_params)"
      ],
      "metadata": {
        "id": "eYZvYHgZlNZZ"
      },
      "execution_count": null,
      "outputs": []
    },
    {
      "cell_type": "code",
      "execution_count": null,
      "metadata": {
        "id": "Rma0IQLtwl9d"
      },
      "outputs": [],
      "source": [
        "#with optuna params\n",
        "cat_model = CatBoostRegressor(iterations=500, depth=7, learning_rate= 0.2222399612038645, random_strength=5)\n",
        "cat_model = cat_model.fit(X_train, y_train, eval_set=(X_test, y_test), verbose=False)\n",
        "\n",
        "#test set preds\n",
        "cat_preds = tensor(cat_model.predict(test_dl.xs))\n",
        "\n",
        "#validation set preds\n",
        "cat_preds_x = tensor(cat_model.predict(X_test))\n",
        "\n",
        "r2_score(y_test,cat_preds_x)\n",
        "\n",
        "#mse = mean_absolute_error(y_test, cat_preds_x)\n",
        "#rmse = np.sqrt(mse)\n",
        "#rmse"
      ]
    },
    {
      "cell_type": "code",
      "source": [
        "def objective_xgboost(trial):\n",
        "    params = {\n",
        "        \"n_estimators\": trial.suggest_int(\"n_estimators\", 100, 200),\n",
        "        \"max_depth\": trial.suggest_int(\"max_depth\", 1, 10),\n",
        "        \"learning_rate\": trial.suggest_float(\"learning_rate\", 0.01, 0.3, log=True),\n",
        "        \"subsample\": trial.suggest_float(\"subsample\", 0.1, 1.0),\n",
        "    }\n",
        "    model = xgb.XGBRegressor(**params)\n",
        "    model.fit(X_train, y_train)\n",
        "    xgb_predictions = model.predict(X_test)\n",
        "    r2score = r2_score(y_test, xgb_predictions)\n",
        "    return r2score\n",
        "\n",
        "\n",
        "study_xgboost = optuna.create_study(direction='minimize')\n",
        "study_xgboost.optimize(objective_xgboost, n_trials=100)\n",
        "print(study_xgboost.best_params)"
      ],
      "metadata": {
        "colab": {
          "base_uri": "https://localhost:8080/"
        },
        "id": "vYYv-Zh2lX4V",
        "outputId": "f551313f-ef1d-4d6e-add4-5c0dd3b36459"
      },
      "execution_count": 23,
      "outputs": [
        {
          "output_type": "stream",
          "name": "stderr",
          "text": [
            "[I 2024-05-04 21:38:57,586] A new study created in memory with name: no-name-f58b624c-e886-40be-ba0e-3c7bd861b39b\n",
            "[I 2024-05-04 21:39:27,451] Trial 0 finished with value: 0.7381575006660547 and parameters: {'n_estimators': 134, 'max_depth': 10, 'learning_rate': 0.03311226879433602, 'subsample': 0.1022415225177117}. Best is trial 0 with value: 0.7381575006660547.\n",
            "[I 2024-05-04 21:39:37,539] Trial 1 finished with value: 0.45515210980464726 and parameters: {'n_estimators': 133, 'max_depth': 2, 'learning_rate': 0.061446088876858, 'subsample': 0.763050134042984}. Best is trial 1 with value: 0.45515210980464726.\n",
            "[I 2024-05-04 21:39:54,600] Trial 2 finished with value: 0.35744870304826293 and parameters: {'n_estimators': 114, 'max_depth': 7, 'learning_rate': 0.013524686555747983, 'subsample': 0.7821138362469764}. Best is trial 2 with value: 0.35744870304826293.\n",
            "[I 2024-05-04 21:40:08,375] Trial 3 finished with value: 0.6317538144673501 and parameters: {'n_estimators': 172, 'max_depth': 4, 'learning_rate': 0.04678566717535562, 'subsample': 0.7858263976918833}. Best is trial 2 with value: 0.35744870304826293.\n",
            "[I 2024-05-04 21:40:19,522] Trial 4 finished with value: 0.7433102129850053 and parameters: {'n_estimators': 135, 'max_depth': 4, 'learning_rate': 0.09820277889550769, 'subsample': 0.29402745020206034}. Best is trial 2 with value: 0.35744870304826293.\n",
            "[I 2024-05-04 21:40:32,789] Trial 5 finished with value: 0.6995346724961704 and parameters: {'n_estimators': 133, 'max_depth': 5, 'learning_rate': 0.0636251284319889, 'subsample': 0.35274869536349274}. Best is trial 2 with value: 0.35744870304826293.\n",
            "[I 2024-05-04 21:40:46,732] Trial 6 finished with value: 0.798307864800224 and parameters: {'n_estimators': 182, 'max_depth': 4, 'learning_rate': 0.10662928936472071, 'subsample': 0.4103068383318611}. Best is trial 2 with value: 0.35744870304826293.\n",
            "[I 2024-05-04 21:40:57,103] Trial 7 finished with value: 0.8217168957609269 and parameters: {'n_estimators': 128, 'max_depth': 4, 'learning_rate': 0.24172379085828077, 'subsample': 0.7038834334725359}. Best is trial 2 with value: 0.35744870304826293.\n",
            "[I 2024-05-04 21:41:11,197] Trial 8 finished with value: 0.5559770369226265 and parameters: {'n_estimators': 168, 'max_depth': 4, 'learning_rate': 0.03557363913332136, 'subsample': 0.7724890745000285}. Best is trial 2 with value: 0.35744870304826293.\n",
            "[I 2024-05-04 21:41:28,171] Trial 9 finished with value: 0.39023163249433723 and parameters: {'n_estimators': 125, 'max_depth': 6, 'learning_rate': 0.01594761953549085, 'subsample': 0.19573065017195473}. Best is trial 2 with value: 0.35744870304826293.\n",
            "[I 2024-05-04 21:41:46,597] Trial 10 finished with value: 0.3426201671982513 and parameters: {'n_estimators': 100, 'max_depth': 8, 'learning_rate': 0.012604563205215389, 'subsample': 0.9841703984374947}. Best is trial 10 with value: 0.3426201671982513.\n",
            "[I 2024-05-04 21:42:05,049] Trial 11 finished with value: 0.30110906786980485 and parameters: {'n_estimators': 100, 'max_depth': 8, 'learning_rate': 0.010502202664535908, 'subsample': 0.9994844387271715}. Best is trial 11 with value: 0.30110906786980485.\n",
            "[I 2024-05-04 21:42:27,107] Trial 12 finished with value: 0.3193811562888206 and parameters: {'n_estimators': 100, 'max_depth': 9, 'learning_rate': 0.010001991553551371, 'subsample': 0.9973695029379819}. Best is trial 11 with value: 0.30110906786980485.\n",
            "[I 2024-05-04 21:42:51,702] Trial 13 finished with value: 0.5315507446614303 and parameters: {'n_estimators': 100, 'max_depth': 10, 'learning_rate': 0.020668179112870857, 'subsample': 0.9581046257880254}. Best is trial 11 with value: 0.30110906786980485.\n",
            "[I 2024-05-04 21:43:20,225] Trial 14 finished with value: 0.4030923946611097 and parameters: {'n_estimators': 156, 'max_depth': 8, 'learning_rate': 0.010135045783739298, 'subsample': 0.5546438509431921}. Best is trial 11 with value: 0.30110906786980485.\n",
            "[I 2024-05-04 21:43:54,911] Trial 15 finished with value: 0.6826135975406965 and parameters: {'n_estimators': 197, 'max_depth': 9, 'learning_rate': 0.02197836935256479, 'subsample': 0.901642225806791}. Best is trial 11 with value: 0.30110906786980485.\n",
            "[I 2024-05-04 21:44:15,204] Trial 16 finished with value: 0.5249737678338611 and parameters: {'n_estimators': 112, 'max_depth': 8, 'learning_rate': 0.02263350934547682, 'subsample': 0.6077725749566114}. Best is trial 11 with value: 0.30110906786980485.\n",
            "[I 2024-05-04 21:44:33,021] Trial 17 finished with value: 0.8073719059096381 and parameters: {'n_estimators': 114, 'max_depth': 7, 'learning_rate': 0.28804990758695853, 'subsample': 0.8765340979293346}. Best is trial 11 with value: 0.30110906786980485.\n",
            "[I 2024-05-04 21:45:04,335] Trial 18 finished with value: 0.43451560123423427 and parameters: {'n_estimators': 152, 'max_depth': 9, 'learning_rate': 0.01036131050873193, 'subsample': 0.6606592946992899}. Best is trial 11 with value: 0.30110906786980485.\n",
            "[I 2024-05-04 21:45:10,083] Trial 19 finished with value: 0.0849428630337502 and parameters: {'n_estimators': 105, 'max_depth': 1, 'learning_rate': 0.018529344109093685, 'subsample': 0.8865403775586428}. Best is trial 19 with value: 0.0849428630337502.\n",
            "[I 2024-05-04 21:45:19,630] Trial 20 finished with value: 0.19339843635503073 and parameters: {'n_estimators': 145, 'max_depth': 2, 'learning_rate': 0.01702000497234176, 'subsample': 0.5014692214256445}. Best is trial 19 with value: 0.0849428630337502.\n",
            "[I 2024-05-04 21:45:26,537] Trial 21 finished with value: 0.10304741892392255 and parameters: {'n_estimators': 143, 'max_depth': 1, 'learning_rate': 0.01672990200154337, 'subsample': 0.4516219103063285}. Best is trial 19 with value: 0.0849428630337502.\n",
            "[I 2024-05-04 21:45:34,056] Trial 22 finished with value: 0.10988226785651667 and parameters: {'n_estimators': 146, 'max_depth': 1, 'learning_rate': 0.017596283942460635, 'subsample': 0.4686455452155942}. Best is trial 19 with value: 0.0849428630337502.\n",
            "[I 2024-05-04 21:45:40,695] Trial 23 finished with value: 0.18443708829174765 and parameters: {'n_estimators': 145, 'max_depth': 1, 'learning_rate': 0.03217970434342423, 'subsample': 0.4588788310739681}. Best is trial 19 with value: 0.0849428630337502.\n",
            "[I 2024-05-04 21:45:48,545] Trial 24 finished with value: 0.17770847940564694 and parameters: {'n_estimators': 163, 'max_depth': 1, 'learning_rate': 0.027250597039084456, 'subsample': 0.2969802640739695}. Best is trial 19 with value: 0.0849428630337502.\n",
            "[I 2024-05-04 21:45:58,053] Trial 25 finished with value: 0.1930321584562389 and parameters: {'n_estimators': 143, 'max_depth': 2, 'learning_rate': 0.017250696374389918, 'subsample': 0.5485242219835939}. Best is trial 19 with value: 0.0849428630337502.\n",
            "[I 2024-05-04 21:46:04,268] Trial 26 finished with value: 0.21627534295240658 and parameters: {'n_estimators': 120, 'max_depth': 1, 'learning_rate': 0.046934288920267866, 'subsample': 0.3728746943288212}. Best is trial 19 with value: 0.0849428630337502.\n",
            "[I 2024-05-04 21:46:18,130] Trial 27 finished with value: 0.4220397120451752 and parameters: {'n_estimators': 179, 'max_depth': 3, 'learning_rate': 0.026686803750549094, 'subsample': 0.4595692939659597}. Best is trial 19 with value: 0.0849428630337502.\n",
            "[I 2024-05-04 21:46:30,652] Trial 28 finished with value: 0.2537204819136991 and parameters: {'n_estimators': 159, 'max_depth': 3, 'learning_rate': 0.014536764242158974, 'subsample': 0.6197332668205375}. Best is trial 19 with value: 0.0849428630337502.\n",
            "[I 2024-05-04 21:46:41,263] Trial 29 finished with value: 0.3985873321204009 and parameters: {'n_estimators': 194, 'max_depth': 2, 'learning_rate': 0.03293210172143208, 'subsample': 0.1070163448067164}. Best is trial 19 with value: 0.0849428630337502.\n",
            "[I 2024-05-04 21:46:47,992] Trial 30 finished with value: 0.1199681623790726 and parameters: {'n_estimators': 140, 'max_depth': 1, 'learning_rate': 0.020123778733944876, 'subsample': 0.3009731477948837}. Best is trial 19 with value: 0.0849428630337502.\n",
            "[I 2024-05-04 21:46:54,593] Trial 31 finished with value: 0.11634760711336434 and parameters: {'n_estimators': 139, 'max_depth': 1, 'learning_rate': 0.019560058182664448, 'subsample': 0.26462665593774803}. Best is trial 19 with value: 0.0849428630337502.\n",
            "[I 2024-05-04 21:47:03,941] Trial 32 finished with value: 0.29617086788409763 and parameters: {'n_estimators': 150, 'max_depth': 2, 'learning_rate': 0.028103189633044003, 'subsample': 0.21652747366598823}. Best is trial 19 with value: 0.0849428630337502.\n",
            "[I 2024-05-04 21:47:14,886] Trial 33 finished with value: 0.2115958372890816 and parameters: {'n_estimators': 136, 'max_depth': 3, 'learning_rate': 0.013218132054251527, 'subsample': 0.20492841919850907}. Best is trial 19 with value: 0.0849428630337502.\n",
            "[I 2024-05-04 21:47:20,808] Trial 34 finished with value: 0.20204035453162683 and parameters: {'n_estimators': 126, 'max_depth': 1, 'learning_rate': 0.04118051848475952, 'subsample': 0.41048719649033133}. Best is trial 19 with value: 0.0849428630337502.\n",
            "[I 2024-05-04 21:47:33,392] Trial 35 finished with value: 0.2923192463507521 and parameters: {'n_estimators': 150, 'max_depth': 3, 'learning_rate': 0.01855625683431371, 'subsample': 0.5096101951009966}. Best is trial 19 with value: 0.0849428630337502.\n",
            "[I 2024-05-04 21:47:38,616] Trial 36 finished with value: 0.2649839173109293 and parameters: {'n_estimators': 111, 'max_depth': 1, 'learning_rate': 0.06591603592304811, 'subsample': 0.8441716751041463}. Best is trial 19 with value: 0.0849428630337502.\n",
            "[I 2024-05-04 21:47:46,592] Trial 37 finished with value: 0.13002418696377838 and parameters: {'n_estimators': 120, 'max_depth': 2, 'learning_rate': 0.012844801730119098, 'subsample': 0.3526670133213152}. Best is trial 19 with value: 0.0849428630337502.\n",
            "[I 2024-05-04 21:48:01,505] Trial 38 finished with value: 0.48214245960765056 and parameters: {'n_estimators': 140, 'max_depth': 5, 'learning_rate': 0.024340014944891956, 'subsample': 0.132341257195704}. Best is trial 19 with value: 0.0849428630337502.\n",
            "[I 2024-05-04 21:48:07,424] Trial 39 finished with value: 0.3109566787340571 and parameters: {'n_estimators': 107, 'max_depth': 1, 'learning_rate': 0.08335956506705204, 'subsample': 0.26328798929826913}. Best is trial 19 with value: 0.0849428630337502.\n",
            "[I 2024-05-04 21:48:16,878] Trial 40 finished with value: 0.4407832514137149 and parameters: {'n_estimators': 131, 'max_depth': 3, 'learning_rate': 0.03939015829097118, 'subsample': 0.7292194543183969}. Best is trial 19 with value: 0.0849428630337502.\n",
            "[I 2024-05-04 21:48:23,700] Trial 41 finished with value: 0.11339229761749758 and parameters: {'n_estimators': 137, 'max_depth': 1, 'learning_rate': 0.01931853717184578, 'subsample': 0.305172541716112}. Best is trial 19 with value: 0.0849428630337502.\n",
            "[I 2024-05-04 21:48:32,891] Trial 42 finished with value: 0.1745140953378499 and parameters: {'n_estimators': 137, 'max_depth': 2, 'learning_rate': 0.015874604593936838, 'subsample': 0.3996774998343205}. Best is trial 19 with value: 0.0849428630337502.\n",
            "[I 2024-05-04 21:48:39,948] Trial 43 finished with value: 0.10402329465814775 and parameters: {'n_estimators': 166, 'max_depth': 1, 'learning_rate': 0.014502049750236926, 'subsample': 0.3343647871696921}. Best is trial 19 with value: 0.0849428630337502.\n",
            "[I 2024-05-04 21:48:50,665] Trial 44 finished with value: 0.16731600298070437 and parameters: {'n_estimators': 167, 'max_depth': 2, 'learning_rate': 0.012416617947224966, 'subsample': 0.4625937434361213}. Best is trial 19 with value: 0.0849428630337502.\n",
            "[I 2024-05-04 21:48:59,115] Trial 45 finished with value: 0.11170084800772895 and parameters: {'n_estimators': 180, 'max_depth': 1, 'learning_rate': 0.014496202452661368, 'subsample': 0.3436610133316184}. Best is trial 19 with value: 0.0849428630337502.\n",
            "[I 2024-05-04 21:49:09,936] Trial 46 finished with value: 0.20793786173664364 and parameters: {'n_estimators': 176, 'max_depth': 2, 'learning_rate': 0.015269441536933845, 'subsample': 0.3581457948026396}. Best is trial 19 with value: 0.0849428630337502.\n",
            "[I 2024-05-04 21:49:17,710] Trial 47 finished with value: 0.6184301366582721 and parameters: {'n_estimators': 188, 'max_depth': 1, 'learning_rate': 0.15546807023816503, 'subsample': 0.432953644326566}. Best is trial 19 with value: 0.0849428630337502.\n",
            "[I 2024-05-04 21:49:32,286] Trial 48 finished with value: 0.24258825042039256 and parameters: {'n_estimators': 186, 'max_depth': 3, 'learning_rate': 0.011694223304953316, 'subsample': 0.5157147238139137}. Best is trial 19 with value: 0.0849428630337502.\n",
            "[I 2024-05-04 21:49:54,525] Trial 49 finished with value: 0.43628675394941985 and parameters: {'n_estimators': 169, 'max_depth': 6, 'learning_rate': 0.01461494309533489, 'subsample': 0.5837076095556134}. Best is trial 19 with value: 0.0849428630337502.\n",
            "[I 2024-05-04 21:50:04,551] Trial 50 finished with value: 0.15074322428377773 and parameters: {'n_estimators': 157, 'max_depth': 2, 'learning_rate': 0.011626851702023018, 'subsample': 0.3236226967594259}. Best is trial 19 with value: 0.0849428630337502.\n",
            "[I 2024-05-04 21:50:12,094] Trial 51 finished with value: 0.13239476485780932 and parameters: {'n_estimators': 175, 'max_depth': 1, 'learning_rate': 0.01800306465391315, 'subsample': 0.25499774777478507}. Best is trial 19 with value: 0.0849428630337502.\n",
            "[I 2024-05-04 21:50:19,789] Trial 52 finished with value: 0.15324169473766625 and parameters: {'n_estimators': 161, 'max_depth': 1, 'learning_rate': 0.02327098187045259, 'subsample': 0.393708611769282}. Best is trial 19 with value: 0.0849428630337502.\n",
            "[I 2024-05-04 21:50:27,387] Trial 53 finished with value: 0.09384911896408321 and parameters: {'n_estimators': 153, 'max_depth': 1, 'learning_rate': 0.014036919228730734, 'subsample': 0.33338228855910323}. Best is trial 19 with value: 0.0849428630337502.\n",
            "[I 2024-05-04 21:50:37,272] Trial 54 finished with value: 0.19509922598911045 and parameters: {'n_estimators': 167, 'max_depth': 2, 'learning_rate': 0.014866072817180852, 'subsample': 0.33678750578231387}. Best is trial 19 with value: 0.0849428630337502.\n",
            "[I 2024-05-04 21:50:44,701] Trial 55 finished with value: 0.07424670000790701 and parameters: {'n_estimators': 147, 'max_depth': 1, 'learning_rate': 0.011358665880882917, 'subsample': 0.43146318208753437}. Best is trial 55 with value: 0.07424670000790701.\n",
            "[I 2024-05-04 21:50:54,670] Trial 56 finished with value: 0.1452304232985303 and parameters: {'n_estimators': 153, 'max_depth': 2, 'learning_rate': 0.01147613860071029, 'subsample': 0.4382621186157127}. Best is trial 55 with value: 0.07424670000790701.\n",
            "[I 2024-05-04 21:51:08,948] Trial 57 finished with value: 0.32802538890127175 and parameters: {'n_estimators': 147, 'max_depth': 4, 'learning_rate': 0.01651674695269552, 'subsample': 0.4780480077305406}. Best is trial 55 with value: 0.07424670000790701.\n",
            "[I 2024-05-04 21:51:16,275] Trial 58 finished with value: 0.08959739166483283 and parameters: {'n_estimators': 155, 'max_depth': 1, 'learning_rate': 0.013252367196930303, 'subsample': 0.5355072286026082}. Best is trial 55 with value: 0.07424670000790701.\n",
            "[I 2024-05-04 21:51:23,404] Trial 59 finished with value: 0.07441344797048621 and parameters: {'n_estimators': 153, 'max_depth': 1, 'learning_rate': 0.010999599070010496, 'subsample': 0.67563118044441}. Best is trial 55 with value: 0.07424670000790701.\n",
            "[I 2024-05-04 21:51:32,927] Trial 60 finished with value: 0.13115800571061642 and parameters: {'n_estimators': 154, 'max_depth': 2, 'learning_rate': 0.010232094092107858, 'subsample': 0.8125657116015725}. Best is trial 55 with value: 0.07424670000790701.\n",
            "[I 2024-05-04 21:51:39,952] Trial 61 finished with value: 0.08286732785527684 and parameters: {'n_estimators': 161, 'max_depth': 1, 'learning_rate': 0.011722038673302378, 'subsample': 0.5567313056327687}. Best is trial 55 with value: 0.07424670000790701.\n",
            "[I 2024-05-04 21:51:47,741] Trial 62 finished with value: 0.0798642098215323 and parameters: {'n_estimators': 162, 'max_depth': 1, 'learning_rate': 0.01120687175890946, 'subsample': 0.6270485855212471}. Best is trial 55 with value: 0.07424670000790701.\n",
            "[I 2024-05-04 21:51:55,427] Trial 63 finished with value: 0.08241171349417176 and parameters: {'n_estimators': 163, 'max_depth': 1, 'learning_rate': 0.011535638473526027, 'subsample': 0.6628959769565963}. Best is trial 55 with value: 0.07424670000790701.\n",
            "[I 2024-05-04 21:52:05,405] Trial 64 finished with value: 0.16002808540077407 and parameters: {'n_estimators': 172, 'max_depth': 2, 'learning_rate': 0.011500197413196482, 'subsample': 0.6682911117362017}. Best is trial 55 with value: 0.07424670000790701.\n",
            "[I 2024-05-04 21:52:13,268] Trial 65 finished with value: 0.07910519780210357 and parameters: {'n_estimators': 161, 'max_depth': 1, 'learning_rate': 0.011168424853352642, 'subsample': 0.6464468818612723}. Best is trial 55 with value: 0.07424670000790701.\n",
            "[I 2024-05-04 21:52:31,397] Trial 66 finished with value: 0.3079512157141481 and parameters: {'n_estimators': 163, 'max_depth': 5, 'learning_rate': 0.010873513230504051, 'subsample': 0.6476451795564877}. Best is trial 55 with value: 0.07424670000790701.\n",
            "[I 2024-05-04 21:52:39,966] Trial 67 finished with value: 0.0721087624052571 and parameters: {'n_estimators': 159, 'max_depth': 1, 'learning_rate': 0.0102353909594699, 'subsample': 0.7041635745914477}. Best is trial 67 with value: 0.0721087624052571.\n",
            "[I 2024-05-04 21:52:47,475] Trial 68 finished with value: 0.07084453043752714 and parameters: {'n_estimators': 159, 'max_depth': 1, 'learning_rate': 0.010042829553760155, 'subsample': 0.7182890770023891}. Best is trial 68 with value: 0.07084453043752714.\n",
            "[I 2024-05-04 21:52:56,506] Trial 69 finished with value: 0.13295634189490513 and parameters: {'n_estimators': 158, 'max_depth': 2, 'learning_rate': 0.01011271388062, 'subsample': 0.7377206859887416}. Best is trial 68 with value: 0.07084453043752714.\n",
            "[I 2024-05-04 21:53:04,669] Trial 70 finished with value: 0.09398388617040065 and parameters: {'n_estimators': 172, 'max_depth': 1, 'learning_rate': 0.012627864610940872, 'subsample': 0.685577726411924}. Best is trial 68 with value: 0.07084453043752714.\n",
            "[I 2024-05-04 21:53:12,577] Trial 71 finished with value: 0.08117191754956221 and parameters: {'n_estimators': 163, 'max_depth': 1, 'learning_rate': 0.011327856577616846, 'subsample': 0.5834371472984501}. Best is trial 68 with value: 0.07084453043752714.\n",
            "[I 2024-05-04 21:53:19,652] Trial 72 finished with value: 0.07969916485795525 and parameters: {'n_estimators': 164, 'max_depth': 1, 'learning_rate': 0.011045671670114538, 'subsample': 0.6289644391263183}. Best is trial 68 with value: 0.07084453043752714.\n",
            "[I 2024-05-04 21:53:29,821] Trial 73 finished with value: 0.13449943845783696 and parameters: {'n_estimators': 160, 'max_depth': 2, 'learning_rate': 0.010093513811726795, 'subsample': 0.6196713558181725}. Best is trial 68 with value: 0.07084453043752714.\n",
            "[I 2024-05-04 21:53:36,882] Trial 74 finished with value: 0.087338050994199 and parameters: {'n_estimators': 151, 'max_depth': 1, 'learning_rate': 0.013277730084666277, 'subsample': 0.7239907118545585}. Best is trial 68 with value: 0.07084453043752714.\n",
            "[I 2024-05-04 21:54:02,294] Trial 75 finished with value: 0.3963046477805122 and parameters: {'n_estimators': 165, 'max_depth': 7, 'learning_rate': 0.010833922531700733, 'subsample': 0.5766697264607769}. Best is trial 68 with value: 0.07084453043752714.\n",
            "[I 2024-05-04 21:54:08,912] Trial 76 finished with value: 0.08089887051257838 and parameters: {'n_estimators': 148, 'max_depth': 1, 'learning_rate': 0.012469152102287565, 'subsample': 0.7677623026513948}. Best is trial 68 with value: 0.07084453043752714.\n",
            "[I 2024-05-04 21:54:18,134] Trial 77 finished with value: 0.15380900388601693 and parameters: {'n_estimators': 149, 'max_depth': 2, 'learning_rate': 0.012704699130485338, 'subsample': 0.7962520225111978}. Best is trial 68 with value: 0.07084453043752714.\n",
            "[I 2024-05-04 21:54:42,251] Trial 78 finished with value: 0.8150106305114951 and parameters: {'n_estimators': 156, 'max_depth': 10, 'learning_rate': 0.15171234460641117, 'subsample': 0.7685698927915334}. Best is trial 68 with value: 0.07084453043752714.\n",
            "[I 2024-05-04 21:54:48,574] Trial 79 finished with value: 0.08025514053178284 and parameters: {'n_estimators': 148, 'max_depth': 1, 'learning_rate': 0.012346368557982854, 'subsample': 0.7126882739340346}. Best is trial 68 with value: 0.07084453043752714.\n",
            "[I 2024-05-04 21:54:59,946] Trial 80 finished with value: 0.2487959207439273 and parameters: {'n_estimators': 144, 'max_depth': 3, 'learning_rate': 0.0156769458049093, 'subsample': 0.7018041117139686}. Best is trial 68 with value: 0.07084453043752714.\n",
            "[I 2024-05-04 21:55:07,470] Trial 81 finished with value: 0.08101830879124261 and parameters: {'n_estimators': 149, 'max_depth': 1, 'learning_rate': 0.012378436855837102, 'subsample': 0.6382310068970168}. Best is trial 68 with value: 0.07084453043752714.\n",
            "[I 2024-05-04 21:55:13,527] Trial 82 finished with value: 0.08605651432994821 and parameters: {'n_estimators': 142, 'max_depth': 1, 'learning_rate': 0.013903159953787105, 'subsample': 0.7532652722348674}. Best is trial 68 with value: 0.07084453043752714.\n",
            "[I 2024-05-04 21:55:20,826] Trial 83 finished with value: 0.06648001618579613 and parameters: {'n_estimators': 148, 'max_depth': 1, 'learning_rate': 0.010075584926403267, 'subsample': 0.6945377090487166}. Best is trial 83 with value: 0.06648001618579613.\n",
            "[I 2024-05-04 21:55:27,873] Trial 84 finished with value: 0.07489795666125376 and parameters: {'n_estimators': 169, 'max_depth': 1, 'learning_rate': 0.0100356665364754, 'subsample': 0.6973389105668263}. Best is trial 83 with value: 0.06648001618579613.\n",
            "[I 2024-05-04 21:55:38,409] Trial 85 finished with value: 0.147646135677015 and parameters: {'n_estimators': 171, 'max_depth': 2, 'learning_rate': 0.010536780761637513, 'subsample': 0.6892110814424957}. Best is trial 83 with value: 0.06648001618579613.\n",
            "[I 2024-05-04 21:55:46,206] Trial 86 finished with value: 0.07098225811152692 and parameters: {'n_estimators': 158, 'max_depth': 1, 'learning_rate': 0.010109433652954981, 'subsample': 0.6090463207906001}. Best is trial 83 with value: 0.06648001618579613.\n",
            "[I 2024-05-04 21:55:53,116] Trial 87 finished with value: 0.0748166378444306 and parameters: {'n_estimators': 158, 'max_depth': 1, 'learning_rate': 0.010700443183103155, 'subsample': 0.609176284810997}. Best is trial 83 with value: 0.06648001618579613.\n",
            "[I 2024-05-04 21:56:03,300] Trial 88 finished with value: 0.13288481183947953 and parameters: {'n_estimators': 158, 'max_depth': 2, 'learning_rate': 0.01007638422323234, 'subsample': 0.605557159028351}. Best is trial 83 with value: 0.06648001618579613.\n",
            "[I 2024-05-04 21:56:10,861] Trial 89 finished with value: 0.09353094963276043 and parameters: {'n_estimators': 155, 'max_depth': 1, 'learning_rate': 0.013929665876089209, 'subsample': 0.6923389205829167}. Best is trial 83 with value: 0.06648001618579613.\n",
            "[I 2024-05-04 21:56:17,356] Trial 90 finished with value: 0.06786770004579268 and parameters: {'n_estimators': 152, 'max_depth': 1, 'learning_rate': 0.010021559465709805, 'subsample': 0.672132824335157}. Best is trial 83 with value: 0.06648001618579613.\n",
            "[I 2024-05-04 21:56:24,811] Trial 91 finished with value: 0.06784145261839025 and parameters: {'n_estimators': 152, 'max_depth': 1, 'learning_rate': 0.010018610846761212, 'subsample': 0.6701521606399007}. Best is trial 83 with value: 0.06648001618579613.\n",
            "[I 2024-05-04 21:56:31,166] Trial 92 finished with value: 0.06929975498472618 and parameters: {'n_estimators': 153, 'max_depth': 1, 'learning_rate': 0.010198512907718376, 'subsample': 0.7475736632358697}. Best is trial 83 with value: 0.06648001618579613.\n",
            "[I 2024-05-04 21:56:38,548] Trial 93 finished with value: 0.07211264381157112 and parameters: {'n_estimators': 151, 'max_depth': 1, 'learning_rate': 0.010770189774351733, 'subsample': 0.6686822315737577}. Best is trial 83 with value: 0.06648001618579613.\n",
            "[I 2024-05-04 21:56:47,721] Trial 94 finished with value: 0.15100529416443065 and parameters: {'n_estimators': 152, 'max_depth': 2, 'learning_rate': 0.012177507440055703, 'subsample': 0.7527796908181603}. Best is trial 83 with value: 0.06648001618579613.\n",
            "[I 2024-05-04 21:56:54,486] Trial 95 finished with value: 0.08304185165310429 and parameters: {'n_estimators': 142, 'max_depth': 1, 'learning_rate': 0.013350439961153418, 'subsample': 0.6726311338105263}. Best is trial 83 with value: 0.06648001618579613.\n",
            "[I 2024-05-04 21:57:03,599] Trial 96 finished with value: 0.1301729894382977 and parameters: {'n_estimators': 145, 'max_depth': 2, 'learning_rate': 0.010768011006894515, 'subsample': 0.7975570956035912}. Best is trial 83 with value: 0.06648001618579613.\n",
            "[I 2024-05-04 21:57:09,779] Trial 97 finished with value: 0.10266047504915898 and parameters: {'n_estimators': 152, 'max_depth': 1, 'learning_rate': 0.015791096744528034, 'subsample': 0.8332744088394235}. Best is trial 83 with value: 0.06648001618579613.\n",
            "[I 2024-05-04 21:57:19,231] Trial 98 finished with value: 0.14369179450123581 and parameters: {'n_estimators': 146, 'max_depth': 2, 'learning_rate': 0.011962397339397083, 'subsample': 0.7447976087234413}. Best is trial 83 with value: 0.06648001618579613.\n",
            "[I 2024-05-04 21:57:28,644] Trial 99 finished with value: 0.06923849920634173 and parameters: {'n_estimators': 155, 'max_depth': 1, 'learning_rate': 0.010049666428706836, 'subsample': 0.7138657916700907}. Best is trial 83 with value: 0.06648001618579613.\n"
          ]
        },
        {
          "output_type": "stream",
          "name": "stdout",
          "text": [
            "{'n_estimators': 148, 'max_depth': 1, 'learning_rate': 0.010075584926403267, 'subsample': 0.6945377090487166}\n"
          ]
        }
      ]
    },
    {
      "cell_type": "code",
      "source": [
        "xgb_model = xgb.XGBRegressor(n_estimators = 187, max_depth=8, learning_rate=0.010075584926403267, subsample= 0.6945377090487166)\n",
        "xgb_model = xgb_model.fit(X_train, y_train)\n",
        "\n",
        "xgb_preds = tensor(xgb_model.predict(test_dl.xs))\n",
        "\n",
        "xgb_preds_x = tensor(xgb_model.predict(X_test))\n",
        "\n",
        "r2_score(y_test,xgb_preds_x)"
      ],
      "metadata": {
        "colab": {
          "base_uri": "https://localhost:8080/"
        },
        "id": "lkUmwwhekKpT",
        "outputId": "6b824916-59d7-40ca-b3ca-4aa2c4a9ff40"
      },
      "execution_count": 25,
      "outputs": [
        {
          "output_type": "execute_result",
          "data": {
            "text/plain": [
              "0.44624773484062163"
            ]
          },
          "metadata": {},
          "execution_count": 25
        }
      ]
    },
    {
      "cell_type": "code",
      "source": [
        "import lightgbm as lgb\n",
        "\n",
        "def objective_lgbm(trial):\n",
        "    params = {\n",
        "        \"num_leaves\": trial.suggest_int(\"num_leaves\", 20, 50),\n",
        "        \"learning_rate\": trial.suggest_float(\"learning_rate\", 0.01, 0.3, log=True),\n",
        "        \"n_estimators\": trial.suggest_int(\"n_estimators\", 100, 200),\n",
        "    }\n",
        "    model = lgb.LGBMRegressor(**params)\n",
        "    model.fit(X_train, y_train)\n",
        "    lgb_predictions = model.predict(X_test)\n",
        "    r2score = r2_score(y_test, lgb_predictions)\n",
        "    return r2score\n",
        "\n",
        "\n",
        "study_lgbm = optuna.create_study(direction='minimize')\n",
        "study_lgbm.optimize(objective_lgbm, n_trials=100)\n",
        "print(study_lgbm.best_params)"
      ],
      "metadata": {
        "id": "ph-xgi_TlakN"
      },
      "execution_count": null,
      "outputs": []
    },
    {
      "cell_type": "code",
      "source": [
        "lgb_model = lgb.LGBMRegressor(num_leaves=28, learning_rate=0.010304173017857115, n_estimators=102)\n",
        "lgb_model = lgb_model.fit(X_train, y_train)\n",
        "\n",
        "#test set preds\n",
        "lgb_preds = tensor(lgb_model.predict(test_dl.xs))\n",
        "\n",
        "#validation set preds\n",
        "lgb_preds_x = tensor(lgb_model.predict(X_test))\n",
        "\n",
        "lgb_score = r2_score(y_test,lgb_preds_x)\n",
        "lgb_score"
      ],
      "metadata": {
        "id": "j2dhM2RpkM6a"
      },
      "execution_count": null,
      "outputs": []
    },
    {
      "cell_type": "code",
      "execution_count": null,
      "metadata": {
        "id": "IWUVkTqr-nS_"
      },
      "outputs": [],
      "source": [
        "submit = pd.read_csv(path/'sample_submission.csv')\n",
        "submit['FloodProbability'] = cat_preds\n",
        "submit.to_csv('submission.csv', index=False)\n",
        "sub = pd.read_csv('submission.csv')"
      ]
    },
    {
      "cell_type": "code",
      "execution_count": null,
      "metadata": {
        "colab": {
          "base_uri": "https://localhost:8080/"
        },
        "id": "nZl9J_Eq-w3B",
        "outputId": "90efb5c2-110d-4962-88aa-6fb93199cbbf"
      },
      "outputs": [
        {
          "name": "stdout",
          "output_type": "stream",
          "text": [
            " catboost_info\t    kaggle.json   playground-series-s4e5       sample_data\n",
            "'kaggle (1).json'   models\t  playground-series-s4e5.zip   submission.csv\n"
          ]
        }
      ],
      "source": [
        "!ls"
      ]
    },
    {
      "cell_type": "code",
      "execution_count": null,
      "metadata": {
        "colab": {
          "base_uri": "https://localhost:8080/"
        },
        "id": "IleDU6vbwl9e",
        "outputId": "b5c7e933-f33d-48cb-c306-c35ff00c2bec"
      },
      "outputs": [
        {
          "data": {
            "text/plain": [
              "0.12580042"
            ]
          },
          "execution_count": 39,
          "metadata": {},
          "output_type": "execute_result"
        }
      ],
      "source": [
        "mse = mean_absolute_error(y_test,cat_preds_x)\n",
        "rmse = np.sqrt(mse)\n",
        "rmse"
      ]
    },
    {
      "cell_type": "code",
      "execution_count": null,
      "metadata": {
        "colab": {
          "base_uri": "https://localhost:8080/"
        },
        "id": "4uk6prtf-11R",
        "outputId": "c89d2ac2-6cef-4607-b0f5-0ca017561ddf"
      },
      "outputs": [
        {
          "name": "stdout",
          "output_type": "stream",
          "text": [
            "Warning: Your Kaggle API key is readable by other users on this system! To fix this, you can run 'chmod 600 /root/.kaggle/kaggle.json'\n",
            "100% 13.2M/13.2M [00:01<00:00, 9.79MB/s]\n",
            "Successfully submitted to Regression with a Flood Prediction Dataset"
          ]
        }
      ],
      "source": [
        "!kaggle competitions submit -c playground-series-s4e5 -f submission.csv -m \"cat boost\""
      ]
    },
    {
      "cell_type": "code",
      "execution_count": null,
      "metadata": {
        "colab": {
          "base_uri": "https://localhost:8080/",
          "height": 356
        },
        "id": "RWuNAKIkwl9e",
        "outputId": "45046c40-44d8-4f3a-a26f-db0cffd0ce3a"
      },
      "outputs": [
        {
          "ename": "KeyboardInterrupt",
          "evalue": "",
          "output_type": "error",
          "traceback": [
            "\u001b[0;31m---------------------------------------------------------------------------\u001b[0m",
            "\u001b[0;31mKeyboardInterrupt\u001b[0m                         Traceback (most recent call last)",
            "\u001b[0;32m<ipython-input-75-1bad6b6e61d9>\u001b[0m in \u001b[0;36m<cell line: 2>\u001b[0;34m()\u001b[0m\n\u001b[1;32m      1\u001b[0m \u001b[0mxgb_model\u001b[0m \u001b[0;34m=\u001b[0m \u001b[0mxgb\u001b[0m\u001b[0;34m.\u001b[0m\u001b[0mXGBRegressor\u001b[0m\u001b[0;34m(\u001b[0m\u001b[0mn_estimators\u001b[0m \u001b[0;34m=\u001b[0m \u001b[0;36m187\u001b[0m\u001b[0;34m,\u001b[0m \u001b[0mmax_depth\u001b[0m\u001b[0;34m=\u001b[0m\u001b[0;36m8\u001b[0m\u001b[0;34m,\u001b[0m \u001b[0mlearning_rate\u001b[0m\u001b[0;34m=\u001b[0m\u001b[0;36m0.046018206875864616\u001b[0m\u001b[0;34m,\u001b[0m \u001b[0msubsample\u001b[0m\u001b[0;34m=\u001b[0m\u001b[0;36m0.7091172175235119\u001b[0m\u001b[0;34m)\u001b[0m\u001b[0;34m\u001b[0m\u001b[0;34m\u001b[0m\u001b[0m\n\u001b[0;32m----> 2\u001b[0;31m \u001b[0mxgb_model\u001b[0m \u001b[0;34m=\u001b[0m \u001b[0mxgb_model\u001b[0m\u001b[0;34m.\u001b[0m\u001b[0mfit\u001b[0m\u001b[0;34m(\u001b[0m\u001b[0mX_train\u001b[0m\u001b[0;34m,\u001b[0m \u001b[0my_train\u001b[0m\u001b[0;34m)\u001b[0m\u001b[0;34m\u001b[0m\u001b[0;34m\u001b[0m\u001b[0m\n\u001b[0m\u001b[1;32m      3\u001b[0m \u001b[0;34m\u001b[0m\u001b[0m\n\u001b[1;32m      4\u001b[0m \u001b[0mxgb_preds\u001b[0m \u001b[0;34m=\u001b[0m \u001b[0mtensor\u001b[0m\u001b[0;34m(\u001b[0m\u001b[0mxgb_model\u001b[0m\u001b[0;34m.\u001b[0m\u001b[0mpredict\u001b[0m\u001b[0;34m(\u001b[0m\u001b[0mtest_dl\u001b[0m\u001b[0;34m.\u001b[0m\u001b[0mxs\u001b[0m\u001b[0;34m)\u001b[0m\u001b[0;34m)\u001b[0m\u001b[0;34m\u001b[0m\u001b[0;34m\u001b[0m\u001b[0m\n\u001b[1;32m      5\u001b[0m \u001b[0;34m\u001b[0m\u001b[0m\n",
            "\u001b[0;32m/usr/local/lib/python3.10/dist-packages/xgboost/core.py\u001b[0m in \u001b[0;36minner_f\u001b[0;34m(*args, **kwargs)\u001b[0m\n\u001b[1;32m    728\u001b[0m             \u001b[0;32mfor\u001b[0m \u001b[0mk\u001b[0m\u001b[0;34m,\u001b[0m \u001b[0marg\u001b[0m \u001b[0;32min\u001b[0m \u001b[0mzip\u001b[0m\u001b[0;34m(\u001b[0m\u001b[0msig\u001b[0m\u001b[0;34m.\u001b[0m\u001b[0mparameters\u001b[0m\u001b[0;34m,\u001b[0m \u001b[0margs\u001b[0m\u001b[0;34m)\u001b[0m\u001b[0;34m:\u001b[0m\u001b[0;34m\u001b[0m\u001b[0;34m\u001b[0m\u001b[0m\n\u001b[1;32m    729\u001b[0m                 \u001b[0mkwargs\u001b[0m\u001b[0;34m[\u001b[0m\u001b[0mk\u001b[0m\u001b[0;34m]\u001b[0m \u001b[0;34m=\u001b[0m \u001b[0marg\u001b[0m\u001b[0;34m\u001b[0m\u001b[0;34m\u001b[0m\u001b[0m\n\u001b[0;32m--> 730\u001b[0;31m             \u001b[0;32mreturn\u001b[0m \u001b[0mfunc\u001b[0m\u001b[0;34m(\u001b[0m\u001b[0;34m**\u001b[0m\u001b[0mkwargs\u001b[0m\u001b[0;34m)\u001b[0m\u001b[0;34m\u001b[0m\u001b[0;34m\u001b[0m\u001b[0m\n\u001b[0m\u001b[1;32m    731\u001b[0m \u001b[0;34m\u001b[0m\u001b[0m\n\u001b[1;32m    732\u001b[0m         \u001b[0;32mreturn\u001b[0m \u001b[0minner_f\u001b[0m\u001b[0;34m\u001b[0m\u001b[0;34m\u001b[0m\u001b[0m\n",
            "\u001b[0;32m/usr/local/lib/python3.10/dist-packages/xgboost/sklearn.py\u001b[0m in \u001b[0;36mfit\u001b[0;34m(self, X, y, sample_weight, base_margin, eval_set, eval_metric, early_stopping_rounds, verbose, xgb_model, sample_weight_eval_set, base_margin_eval_set, feature_weights, callbacks)\u001b[0m\n\u001b[1;32m   1088\u001b[0m                 \u001b[0mxgb_model\u001b[0m\u001b[0;34m,\u001b[0m \u001b[0meval_metric\u001b[0m\u001b[0;34m,\u001b[0m \u001b[0mparams\u001b[0m\u001b[0;34m,\u001b[0m \u001b[0mearly_stopping_rounds\u001b[0m\u001b[0;34m,\u001b[0m \u001b[0mcallbacks\u001b[0m\u001b[0;34m\u001b[0m\u001b[0;34m\u001b[0m\u001b[0m\n\u001b[1;32m   1089\u001b[0m             )\n\u001b[0;32m-> 1090\u001b[0;31m             self._Booster = train(\n\u001b[0m\u001b[1;32m   1091\u001b[0m                 \u001b[0mparams\u001b[0m\u001b[0;34m,\u001b[0m\u001b[0;34m\u001b[0m\u001b[0;34m\u001b[0m\u001b[0m\n\u001b[1;32m   1092\u001b[0m                 \u001b[0mtrain_dmatrix\u001b[0m\u001b[0;34m,\u001b[0m\u001b[0;34m\u001b[0m\u001b[0;34m\u001b[0m\u001b[0m\n",
            "\u001b[0;32m/usr/local/lib/python3.10/dist-packages/xgboost/core.py\u001b[0m in \u001b[0;36minner_f\u001b[0;34m(*args, **kwargs)\u001b[0m\n\u001b[1;32m    728\u001b[0m             \u001b[0;32mfor\u001b[0m \u001b[0mk\u001b[0m\u001b[0;34m,\u001b[0m \u001b[0marg\u001b[0m \u001b[0;32min\u001b[0m \u001b[0mzip\u001b[0m\u001b[0;34m(\u001b[0m\u001b[0msig\u001b[0m\u001b[0;34m.\u001b[0m\u001b[0mparameters\u001b[0m\u001b[0;34m,\u001b[0m \u001b[0margs\u001b[0m\u001b[0;34m)\u001b[0m\u001b[0;34m:\u001b[0m\u001b[0;34m\u001b[0m\u001b[0;34m\u001b[0m\u001b[0m\n\u001b[1;32m    729\u001b[0m                 \u001b[0mkwargs\u001b[0m\u001b[0;34m[\u001b[0m\u001b[0mk\u001b[0m\u001b[0;34m]\u001b[0m \u001b[0;34m=\u001b[0m \u001b[0marg\u001b[0m\u001b[0;34m\u001b[0m\u001b[0;34m\u001b[0m\u001b[0m\n\u001b[0;32m--> 730\u001b[0;31m             \u001b[0;32mreturn\u001b[0m \u001b[0mfunc\u001b[0m\u001b[0;34m(\u001b[0m\u001b[0;34m**\u001b[0m\u001b[0mkwargs\u001b[0m\u001b[0;34m)\u001b[0m\u001b[0;34m\u001b[0m\u001b[0;34m\u001b[0m\u001b[0m\n\u001b[0m\u001b[1;32m    731\u001b[0m \u001b[0;34m\u001b[0m\u001b[0m\n\u001b[1;32m    732\u001b[0m         \u001b[0;32mreturn\u001b[0m \u001b[0minner_f\u001b[0m\u001b[0;34m\u001b[0m\u001b[0;34m\u001b[0m\u001b[0m\n",
            "\u001b[0;32m/usr/local/lib/python3.10/dist-packages/xgboost/training.py\u001b[0m in \u001b[0;36mtrain\u001b[0;34m(params, dtrain, num_boost_round, evals, obj, feval, maximize, early_stopping_rounds, evals_result, verbose_eval, xgb_model, callbacks, custom_metric)\u001b[0m\n\u001b[1;32m    179\u001b[0m         \u001b[0;32mif\u001b[0m \u001b[0mcb_container\u001b[0m\u001b[0;34m.\u001b[0m\u001b[0mbefore_iteration\u001b[0m\u001b[0;34m(\u001b[0m\u001b[0mbst\u001b[0m\u001b[0;34m,\u001b[0m \u001b[0mi\u001b[0m\u001b[0;34m,\u001b[0m \u001b[0mdtrain\u001b[0m\u001b[0;34m,\u001b[0m \u001b[0mevals\u001b[0m\u001b[0;34m)\u001b[0m\u001b[0;34m:\u001b[0m\u001b[0;34m\u001b[0m\u001b[0;34m\u001b[0m\u001b[0m\n\u001b[1;32m    180\u001b[0m             \u001b[0;32mbreak\u001b[0m\u001b[0;34m\u001b[0m\u001b[0;34m\u001b[0m\u001b[0m\n\u001b[0;32m--> 181\u001b[0;31m         \u001b[0mbst\u001b[0m\u001b[0;34m.\u001b[0m\u001b[0mupdate\u001b[0m\u001b[0;34m(\u001b[0m\u001b[0mdtrain\u001b[0m\u001b[0;34m,\u001b[0m \u001b[0mi\u001b[0m\u001b[0;34m,\u001b[0m \u001b[0mobj\u001b[0m\u001b[0;34m)\u001b[0m\u001b[0;34m\u001b[0m\u001b[0;34m\u001b[0m\u001b[0m\n\u001b[0m\u001b[1;32m    182\u001b[0m         \u001b[0;32mif\u001b[0m \u001b[0mcb_container\u001b[0m\u001b[0;34m.\u001b[0m\u001b[0mafter_iteration\u001b[0m\u001b[0;34m(\u001b[0m\u001b[0mbst\u001b[0m\u001b[0;34m,\u001b[0m \u001b[0mi\u001b[0m\u001b[0;34m,\u001b[0m \u001b[0mdtrain\u001b[0m\u001b[0;34m,\u001b[0m \u001b[0mevals\u001b[0m\u001b[0;34m)\u001b[0m\u001b[0;34m:\u001b[0m\u001b[0;34m\u001b[0m\u001b[0;34m\u001b[0m\u001b[0m\n\u001b[1;32m    183\u001b[0m             \u001b[0;32mbreak\u001b[0m\u001b[0;34m\u001b[0m\u001b[0;34m\u001b[0m\u001b[0m\n",
            "\u001b[0;32m/usr/local/lib/python3.10/dist-packages/xgboost/core.py\u001b[0m in \u001b[0;36mupdate\u001b[0;34m(self, dtrain, iteration, fobj)\u001b[0m\n\u001b[1;32m   2049\u001b[0m         \u001b[0;32mif\u001b[0m \u001b[0mfobj\u001b[0m \u001b[0;32mis\u001b[0m \u001b[0;32mNone\u001b[0m\u001b[0;34m:\u001b[0m\u001b[0;34m\u001b[0m\u001b[0;34m\u001b[0m\u001b[0m\n\u001b[1;32m   2050\u001b[0m             _check_call(\n\u001b[0;32m-> 2051\u001b[0;31m                 _LIB.XGBoosterUpdateOneIter(\n\u001b[0m\u001b[1;32m   2052\u001b[0m                     \u001b[0mself\u001b[0m\u001b[0;34m.\u001b[0m\u001b[0mhandle\u001b[0m\u001b[0;34m,\u001b[0m \u001b[0mctypes\u001b[0m\u001b[0;34m.\u001b[0m\u001b[0mc_int\u001b[0m\u001b[0;34m(\u001b[0m\u001b[0miteration\u001b[0m\u001b[0;34m)\u001b[0m\u001b[0;34m,\u001b[0m \u001b[0mdtrain\u001b[0m\u001b[0;34m.\u001b[0m\u001b[0mhandle\u001b[0m\u001b[0;34m\u001b[0m\u001b[0;34m\u001b[0m\u001b[0m\n\u001b[1;32m   2053\u001b[0m                 )\n",
            "\u001b[0;31mKeyboardInterrupt\u001b[0m: "
          ]
        }
      ],
      "source": [
        "xgb_model = xgb.XGBRegressor(n_estimators = 187, max_depth=8, learning_rate=0.046018206875864616, subsample=0.7091172175235119)\n",
        "xgb_model = xgb_model.fit(X_train, y_train)\n",
        "\n",
        "xgb_preds = tensor(xgb_model.predict(test_dl.xs))\n",
        "\n",
        "xgb_preds_x = tensor(xgb_model.predict(X_test))"
      ]
    },
    {
      "cell_type": "code",
      "execution_count": null,
      "metadata": {
        "colab": {
          "base_uri": "https://localhost:8080/"
        },
        "id": "lpshTcEH9cmc",
        "outputId": "b3b61b24-da8b-419b-9d62-32073584149b"
      },
      "outputs": [
        {
          "data": {
            "text/plain": [
              "0.7817602531907657"
            ]
          },
          "execution_count": 76,
          "metadata": {},
          "output_type": "execute_result"
        }
      ],
      "source": [
        "r2_score(y_test,xgb_preds_x)"
      ]
    },
    {
      "cell_type": "code",
      "execution_count": null,
      "metadata": {
        "colab": {
          "base_uri": "https://localhost:8080/"
        },
        "id": "TlQzL-7gwl9f",
        "outputId": "2bb8af08-0642-4504-d01e-25b5ca56065a"
      },
      "outputs": [
        {
          "data": {
            "text/plain": [
              "0.13967574"
            ]
          },
          "execution_count": 49,
          "metadata": {},
          "output_type": "execute_result"
        }
      ],
      "source": [
        "mse = mean_absolute_error(y_test, xgb_preds_x)\n",
        "rmse = np.sqrt(mse)\n",
        "rmse"
      ]
    },
    {
      "cell_type": "code",
      "execution_count": null,
      "metadata": {
        "id": "UCSIqNNw_BAe"
      },
      "outputs": [],
      "source": [
        "submit = pd.read_csv(path/'sample_submission.csv')\n",
        "submit['FloodProbability'] = xgb_preds\n",
        "submit.to_csv('submission.csv', index=False)\n",
        "sub = pd.read_csv('submission.csv')"
      ]
    },
    {
      "cell_type": "code",
      "execution_count": null,
      "metadata": {
        "colab": {
          "base_uri": "https://localhost:8080/"
        },
        "id": "VgKOZD3Y_AvM",
        "outputId": "4ab47d40-7647-47d3-d29c-f156b19114ab"
      },
      "outputs": [
        {
          "name": "stdout",
          "output_type": "stream",
          "text": [
            "Warning: Your Kaggle API key is readable by other users on this system! To fix this, you can run 'chmod 600 /root/.kaggle/kaggle.json'\n",
            "100% 13.1M/13.1M [00:01<00:00, 9.87MB/s]\n",
            "Successfully submitted to Regression with a Flood Prediction Dataset"
          ]
        }
      ],
      "source": [
        "!kaggle competitions submit -c playground-series-s4e5 -f submission.csv -m \"xgboost\""
      ]
    },
    {
      "cell_type": "code",
      "execution_count": null,
      "metadata": {
        "colab": {
          "base_uri": "https://localhost:8080/"
        },
        "id": "PJhL_kyWwl9f",
        "outputId": "2eb2113e-36bf-4ecf-81ad-42613512b0b9"
      },
      "outputs": [
        {
          "name": "stdout",
          "output_type": "stream",
          "text": [
            "[LightGBM] [Info] Auto-choosing col-wise multi-threading, the overhead of testing was 0.177988 seconds.\n",
            "You can set `force_col_wise=true` to remove the overhead.\n",
            "[LightGBM] [Info] Total Bins 367\n",
            "[LightGBM] [Info] Number of data points in the train set: 894366, number of used features: 20\n",
            "[LightGBM] [Info] Start training from score 0.504491\n"
          ]
        },
        {
          "data": {
            "text/plain": [
              "0.8235475438046409"
            ]
          },
          "execution_count": 53,
          "metadata": {},
          "output_type": "execute_result"
        }
      ],
      "source": [
        ""
      ]
    },
    {
      "cell_type": "code",
      "execution_count": null,
      "metadata": {
        "id": "InjBPcf3_W69"
      },
      "outputs": [],
      "source": [
        "submit = pd.read_csv(path/'sample_submission.csv')\n",
        "submit['FloodProbability'] = lgb_preds\n",
        "submit.to_csv('submission.csv', index=False)\n",
        "sub = pd.read_csv('submission.csv')"
      ]
    },
    {
      "cell_type": "code",
      "execution_count": null,
      "metadata": {
        "id": "GU23WlDFCHwL"
      },
      "outputs": [],
      "source": [
        "!rm submission.csv"
      ]
    },
    {
      "cell_type": "code",
      "execution_count": null,
      "metadata": {
        "colab": {
          "base_uri": "https://localhost:8080/"
        },
        "id": "O0iDZUflBOf5",
        "outputId": "4527507f-bffc-401b-8fc8-8db72261474c"
      },
      "outputs": [
        {
          "name": "stdout",
          "output_type": "stream",
          "text": [
            " catboost_info\t    kaggle.json   playground-series-s4e5       sample_data\n",
            "'kaggle (1).json'   models\t  playground-series-s4e5.zip\n"
          ]
        }
      ],
      "source": [
        "!ls"
      ]
    },
    {
      "cell_type": "code",
      "execution_count": null,
      "metadata": {
        "colab": {
          "base_uri": "https://localhost:8080/",
          "height": 423
        },
        "id": "CEGcoqY0Av5R",
        "outputId": "4c829e88-6274-431c-91fd-8981ed4e9d59"
      },
      "outputs": [
        {
          "data": {
            "application/vnd.google.colaboratory.intrinsic+json": {
              "type": "dataframe",
              "variable_name": "sub"
            },
            "text/html": [
              "\n",
              "  <div id=\"df-a622ecb9-060b-4702-b74a-677efacc8da5\" class=\"colab-df-container\">\n",
              "    <div>\n",
              "<style scoped>\n",
              "    .dataframe tbody tr th:only-of-type {\n",
              "        vertical-align: middle;\n",
              "    }\n",
              "\n",
              "    .dataframe tbody tr th {\n",
              "        vertical-align: top;\n",
              "    }\n",
              "\n",
              "    .dataframe thead th {\n",
              "        text-align: right;\n",
              "    }\n",
              "</style>\n",
              "<table border=\"1\" class=\"dataframe\">\n",
              "  <thead>\n",
              "    <tr style=\"text-align: right;\">\n",
              "      <th></th>\n",
              "      <th>id</th>\n",
              "      <th>FloodProbability</th>\n",
              "    </tr>\n",
              "  </thead>\n",
              "  <tbody>\n",
              "    <tr>\n",
              "      <th>0</th>\n",
              "      <td>1117957</td>\n",
              "      <td>0.575180</td>\n",
              "    </tr>\n",
              "    <tr>\n",
              "      <th>1</th>\n",
              "      <td>1117958</td>\n",
              "      <td>0.463337</td>\n",
              "    </tr>\n",
              "    <tr>\n",
              "      <th>2</th>\n",
              "      <td>1117959</td>\n",
              "      <td>0.450641</td>\n",
              "    </tr>\n",
              "    <tr>\n",
              "      <th>3</th>\n",
              "      <td>1117960</td>\n",
              "      <td>0.460754</td>\n",
              "    </tr>\n",
              "    <tr>\n",
              "      <th>4</th>\n",
              "      <td>1117961</td>\n",
              "      <td>0.461083</td>\n",
              "    </tr>\n",
              "    <tr>\n",
              "      <th>...</th>\n",
              "      <td>...</td>\n",
              "      <td>...</td>\n",
              "    </tr>\n",
              "    <tr>\n",
              "      <th>745300</th>\n",
              "      <td>1863257</td>\n",
              "      <td>0.484195</td>\n",
              "    </tr>\n",
              "    <tr>\n",
              "      <th>745301</th>\n",
              "      <td>1863258</td>\n",
              "      <td>0.457408</td>\n",
              "    </tr>\n",
              "    <tr>\n",
              "      <th>745302</th>\n",
              "      <td>1863259</td>\n",
              "      <td>0.634439</td>\n",
              "    </tr>\n",
              "    <tr>\n",
              "      <th>745303</th>\n",
              "      <td>1863260</td>\n",
              "      <td>0.566786</td>\n",
              "    </tr>\n",
              "    <tr>\n",
              "      <th>745304</th>\n",
              "      <td>1863261</td>\n",
              "      <td>0.505600</td>\n",
              "    </tr>\n",
              "  </tbody>\n",
              "</table>\n",
              "<p>745305 rows × 2 columns</p>\n",
              "</div>\n",
              "    <div class=\"colab-df-buttons\">\n",
              "\n",
              "  <div class=\"colab-df-container\">\n",
              "    <button class=\"colab-df-convert\" onclick=\"convertToInteractive('df-a622ecb9-060b-4702-b74a-677efacc8da5')\"\n",
              "            title=\"Convert this dataframe to an interactive table.\"\n",
              "            style=\"display:none;\">\n",
              "\n",
              "  <svg xmlns=\"http://www.w3.org/2000/svg\" height=\"24px\" viewBox=\"0 -960 960 960\">\n",
              "    <path d=\"M120-120v-720h720v720H120Zm60-500h600v-160H180v160Zm220 220h160v-160H400v160Zm0 220h160v-160H400v160ZM180-400h160v-160H180v160Zm440 0h160v-160H620v160ZM180-180h160v-160H180v160Zm440 0h160v-160H620v160Z\"/>\n",
              "  </svg>\n",
              "    </button>\n",
              "\n",
              "  <style>\n",
              "    .colab-df-container {\n",
              "      display:flex;\n",
              "      gap: 12px;\n",
              "    }\n",
              "\n",
              "    .colab-df-convert {\n",
              "      background-color: #E8F0FE;\n",
              "      border: none;\n",
              "      border-radius: 50%;\n",
              "      cursor: pointer;\n",
              "      display: none;\n",
              "      fill: #1967D2;\n",
              "      height: 32px;\n",
              "      padding: 0 0 0 0;\n",
              "      width: 32px;\n",
              "    }\n",
              "\n",
              "    .colab-df-convert:hover {\n",
              "      background-color: #E2EBFA;\n",
              "      box-shadow: 0px 1px 2px rgba(60, 64, 67, 0.3), 0px 1px 3px 1px rgba(60, 64, 67, 0.15);\n",
              "      fill: #174EA6;\n",
              "    }\n",
              "\n",
              "    .colab-df-buttons div {\n",
              "      margin-bottom: 4px;\n",
              "    }\n",
              "\n",
              "    [theme=dark] .colab-df-convert {\n",
              "      background-color: #3B4455;\n",
              "      fill: #D2E3FC;\n",
              "    }\n",
              "\n",
              "    [theme=dark] .colab-df-convert:hover {\n",
              "      background-color: #434B5C;\n",
              "      box-shadow: 0px 1px 3px 1px rgba(0, 0, 0, 0.15);\n",
              "      filter: drop-shadow(0px 1px 2px rgba(0, 0, 0, 0.3));\n",
              "      fill: #FFFFFF;\n",
              "    }\n",
              "  </style>\n",
              "\n",
              "    <script>\n",
              "      const buttonEl =\n",
              "        document.querySelector('#df-a622ecb9-060b-4702-b74a-677efacc8da5 button.colab-df-convert');\n",
              "      buttonEl.style.display =\n",
              "        google.colab.kernel.accessAllowed ? 'block' : 'none';\n",
              "\n",
              "      async function convertToInteractive(key) {\n",
              "        const element = document.querySelector('#df-a622ecb9-060b-4702-b74a-677efacc8da5');\n",
              "        const dataTable =\n",
              "          await google.colab.kernel.invokeFunction('convertToInteractive',\n",
              "                                                    [key], {});\n",
              "        if (!dataTable) return;\n",
              "\n",
              "        const docLinkHtml = 'Like what you see? Visit the ' +\n",
              "          '<a target=\"_blank\" href=https://colab.research.google.com/notebooks/data_table.ipynb>data table notebook</a>'\n",
              "          + ' to learn more about interactive tables.';\n",
              "        element.innerHTML = '';\n",
              "        dataTable['output_type'] = 'display_data';\n",
              "        await google.colab.output.renderOutput(dataTable, element);\n",
              "        const docLink = document.createElement('div');\n",
              "        docLink.innerHTML = docLinkHtml;\n",
              "        element.appendChild(docLink);\n",
              "      }\n",
              "    </script>\n",
              "  </div>\n",
              "\n",
              "\n",
              "<div id=\"df-5ea33f14-29c2-4fe9-9ad0-d988dc7f70d0\">\n",
              "  <button class=\"colab-df-quickchart\" onclick=\"quickchart('df-5ea33f14-29c2-4fe9-9ad0-d988dc7f70d0')\"\n",
              "            title=\"Suggest charts\"\n",
              "            style=\"display:none;\">\n",
              "\n",
              "<svg xmlns=\"http://www.w3.org/2000/svg\" height=\"24px\"viewBox=\"0 0 24 24\"\n",
              "     width=\"24px\">\n",
              "    <g>\n",
              "        <path d=\"M19 3H5c-1.1 0-2 .9-2 2v14c0 1.1.9 2 2 2h14c1.1 0 2-.9 2-2V5c0-1.1-.9-2-2-2zM9 17H7v-7h2v7zm4 0h-2V7h2v10zm4 0h-2v-4h2v4z\"/>\n",
              "    </g>\n",
              "</svg>\n",
              "  </button>\n",
              "\n",
              "<style>\n",
              "  .colab-df-quickchart {\n",
              "      --bg-color: #E8F0FE;\n",
              "      --fill-color: #1967D2;\n",
              "      --hover-bg-color: #E2EBFA;\n",
              "      --hover-fill-color: #174EA6;\n",
              "      --disabled-fill-color: #AAA;\n",
              "      --disabled-bg-color: #DDD;\n",
              "  }\n",
              "\n",
              "  [theme=dark] .colab-df-quickchart {\n",
              "      --bg-color: #3B4455;\n",
              "      --fill-color: #D2E3FC;\n",
              "      --hover-bg-color: #434B5C;\n",
              "      --hover-fill-color: #FFFFFF;\n",
              "      --disabled-bg-color: #3B4455;\n",
              "      --disabled-fill-color: #666;\n",
              "  }\n",
              "\n",
              "  .colab-df-quickchart {\n",
              "    background-color: var(--bg-color);\n",
              "    border: none;\n",
              "    border-radius: 50%;\n",
              "    cursor: pointer;\n",
              "    display: none;\n",
              "    fill: var(--fill-color);\n",
              "    height: 32px;\n",
              "    padding: 0;\n",
              "    width: 32px;\n",
              "  }\n",
              "\n",
              "  .colab-df-quickchart:hover {\n",
              "    background-color: var(--hover-bg-color);\n",
              "    box-shadow: 0 1px 2px rgba(60, 64, 67, 0.3), 0 1px 3px 1px rgba(60, 64, 67, 0.15);\n",
              "    fill: var(--button-hover-fill-color);\n",
              "  }\n",
              "\n",
              "  .colab-df-quickchart-complete:disabled,\n",
              "  .colab-df-quickchart-complete:disabled:hover {\n",
              "    background-color: var(--disabled-bg-color);\n",
              "    fill: var(--disabled-fill-color);\n",
              "    box-shadow: none;\n",
              "  }\n",
              "\n",
              "  .colab-df-spinner {\n",
              "    border: 2px solid var(--fill-color);\n",
              "    border-color: transparent;\n",
              "    border-bottom-color: var(--fill-color);\n",
              "    animation:\n",
              "      spin 1s steps(1) infinite;\n",
              "  }\n",
              "\n",
              "  @keyframes spin {\n",
              "    0% {\n",
              "      border-color: transparent;\n",
              "      border-bottom-color: var(--fill-color);\n",
              "      border-left-color: var(--fill-color);\n",
              "    }\n",
              "    20% {\n",
              "      border-color: transparent;\n",
              "      border-left-color: var(--fill-color);\n",
              "      border-top-color: var(--fill-color);\n",
              "    }\n",
              "    30% {\n",
              "      border-color: transparent;\n",
              "      border-left-color: var(--fill-color);\n",
              "      border-top-color: var(--fill-color);\n",
              "      border-right-color: var(--fill-color);\n",
              "    }\n",
              "    40% {\n",
              "      border-color: transparent;\n",
              "      border-right-color: var(--fill-color);\n",
              "      border-top-color: var(--fill-color);\n",
              "    }\n",
              "    60% {\n",
              "      border-color: transparent;\n",
              "      border-right-color: var(--fill-color);\n",
              "    }\n",
              "    80% {\n",
              "      border-color: transparent;\n",
              "      border-right-color: var(--fill-color);\n",
              "      border-bottom-color: var(--fill-color);\n",
              "    }\n",
              "    90% {\n",
              "      border-color: transparent;\n",
              "      border-bottom-color: var(--fill-color);\n",
              "    }\n",
              "  }\n",
              "</style>\n",
              "\n",
              "  <script>\n",
              "    async function quickchart(key) {\n",
              "      const quickchartButtonEl =\n",
              "        document.querySelector('#' + key + ' button');\n",
              "      quickchartButtonEl.disabled = true;  // To prevent multiple clicks.\n",
              "      quickchartButtonEl.classList.add('colab-df-spinner');\n",
              "      try {\n",
              "        const charts = await google.colab.kernel.invokeFunction(\n",
              "            'suggestCharts', [key], {});\n",
              "      } catch (error) {\n",
              "        console.error('Error during call to suggestCharts:', error);\n",
              "      }\n",
              "      quickchartButtonEl.classList.remove('colab-df-spinner');\n",
              "      quickchartButtonEl.classList.add('colab-df-quickchart-complete');\n",
              "    }\n",
              "    (() => {\n",
              "      let quickchartButtonEl =\n",
              "        document.querySelector('#df-5ea33f14-29c2-4fe9-9ad0-d988dc7f70d0 button');\n",
              "      quickchartButtonEl.style.display =\n",
              "        google.colab.kernel.accessAllowed ? 'block' : 'none';\n",
              "    })();\n",
              "  </script>\n",
              "</div>\n",
              "\n",
              "  <div id=\"id_9b442971-eb5f-4484-bc5c-8a003d759519\">\n",
              "    <style>\n",
              "      .colab-df-generate {\n",
              "        background-color: #E8F0FE;\n",
              "        border: none;\n",
              "        border-radius: 50%;\n",
              "        cursor: pointer;\n",
              "        display: none;\n",
              "        fill: #1967D2;\n",
              "        height: 32px;\n",
              "        padding: 0 0 0 0;\n",
              "        width: 32px;\n",
              "      }\n",
              "\n",
              "      .colab-df-generate:hover {\n",
              "        background-color: #E2EBFA;\n",
              "        box-shadow: 0px 1px 2px rgba(60, 64, 67, 0.3), 0px 1px 3px 1px rgba(60, 64, 67, 0.15);\n",
              "        fill: #174EA6;\n",
              "      }\n",
              "\n",
              "      [theme=dark] .colab-df-generate {\n",
              "        background-color: #3B4455;\n",
              "        fill: #D2E3FC;\n",
              "      }\n",
              "\n",
              "      [theme=dark] .colab-df-generate:hover {\n",
              "        background-color: #434B5C;\n",
              "        box-shadow: 0px 1px 3px 1px rgba(0, 0, 0, 0.15);\n",
              "        filter: drop-shadow(0px 1px 2px rgba(0, 0, 0, 0.3));\n",
              "        fill: #FFFFFF;\n",
              "      }\n",
              "    </style>\n",
              "    <button class=\"colab-df-generate\" onclick=\"generateWithVariable('sub')\"\n",
              "            title=\"Generate code using this dataframe.\"\n",
              "            style=\"display:none;\">\n",
              "\n",
              "  <svg xmlns=\"http://www.w3.org/2000/svg\" height=\"24px\"viewBox=\"0 0 24 24\"\n",
              "       width=\"24px\">\n",
              "    <path d=\"M7,19H8.4L18.45,9,17,7.55,7,17.6ZM5,21V16.75L18.45,3.32a2,2,0,0,1,2.83,0l1.4,1.43a1.91,1.91,0,0,1,.58,1.4,1.91,1.91,0,0,1-.58,1.4L9.25,21ZM18.45,9,17,7.55Zm-12,3A5.31,5.31,0,0,0,4.9,8.1,5.31,5.31,0,0,0,1,6.5,5.31,5.31,0,0,0,4.9,4.9,5.31,5.31,0,0,0,6.5,1,5.31,5.31,0,0,0,8.1,4.9,5.31,5.31,0,0,0,12,6.5,5.46,5.46,0,0,0,6.5,12Z\"/>\n",
              "  </svg>\n",
              "    </button>\n",
              "    <script>\n",
              "      (() => {\n",
              "      const buttonEl =\n",
              "        document.querySelector('#id_9b442971-eb5f-4484-bc5c-8a003d759519 button.colab-df-generate');\n",
              "      buttonEl.style.display =\n",
              "        google.colab.kernel.accessAllowed ? 'block' : 'none';\n",
              "\n",
              "      buttonEl.onclick = () => {\n",
              "        google.colab.notebook.generateWithVariable('sub');\n",
              "      }\n",
              "      })();\n",
              "    </script>\n",
              "  </div>\n",
              "\n",
              "    </div>\n",
              "  </div>\n"
            ],
            "text/plain": [
              "             id  FloodProbability\n",
              "0       1117957          0.575180\n",
              "1       1117958          0.463337\n",
              "2       1117959          0.450641\n",
              "3       1117960          0.460754\n",
              "4       1117961          0.461083\n",
              "...         ...               ...\n",
              "745300  1863257          0.484195\n",
              "745301  1863258          0.457408\n",
              "745302  1863259          0.634439\n",
              "745303  1863260          0.566786\n",
              "745304  1863261          0.505600\n",
              "\n",
              "[745305 rows x 2 columns]"
            ]
          },
          "execution_count": 85,
          "metadata": {},
          "output_type": "execute_result"
        }
      ],
      "source": [
        "sub = pd.read_csv('submission.csv')\n",
        "sub"
      ]
    },
    {
      "cell_type": "code",
      "execution_count": null,
      "metadata": {
        "colab": {
          "base_uri": "https://localhost:8080/"
        },
        "id": "l0hH4usg_pKu",
        "outputId": "6c5fedbf-0280-4f9d-eecb-8e2f9de88710"
      },
      "outputs": [
        {
          "name": "stdout",
          "output_type": "stream",
          "text": [
            " catboost_info\t    kaggle.json   playground-series-s4e5       sample_data\n",
            "'kaggle (1).json'   models\t  playground-series-s4e5.zip   submission.csv\n"
          ]
        }
      ],
      "source": [
        "!ls"
      ]
    },
    {
      "cell_type": "code",
      "execution_count": null,
      "metadata": {
        "colab": {
          "base_uri": "https://localhost:8080/"
        },
        "id": "NvX4zQbI_W4K",
        "outputId": "bc663569-109d-4520-eca8-e6de9b089b87"
      },
      "outputs": [
        {
          "name": "stdout",
          "output_type": "stream",
          "text": [
            "Warning: Your Kaggle API key is readable by other users on this system! To fix this, you can run 'chmod 600 /root/.kaggle/kaggle.json'\n",
            "100% 13.2M/13.2M [00:00<00:00, 17.0MB/s]\n",
            "Successfully submitted to Regression with a Flood Prediction Dataset"
          ]
        }
      ],
      "source": [
        "!kaggle competitions submit -c playground-series-s4e5 -f submission.csv -m \"lgb preds\""
      ]
    },
    {
      "cell_type": "code",
      "execution_count": null,
      "metadata": {
        "id": "EQ6-PpdI_WyO"
      },
      "outputs": [],
      "source": []
    },
    {
      "cell_type": "code",
      "execution_count": null,
      "metadata": {
        "id": "72w-6GtYCZbj"
      },
      "outputs": [],
      "source": [
        "!ls"
      ]
    },
    {
      "cell_type": "code",
      "execution_count": null,
      "metadata": {
        "id": "e-ufUpsNCavz"
      },
      "outputs": [],
      "source": [
        "!rm submission.csv"
      ]
    },
    {
      "cell_type": "code",
      "execution_count": null,
      "metadata": {
        "id": "oi6xwXu3wl9g",
        "outputId": "54697742-f4f4-4fb9-f1e6-dedabbf249f8"
      },
      "outputs": [
        {
          "data": {
            "text/html": "<div>\n<style scoped>\n    .dataframe tbody tr th:only-of-type {\n        vertical-align: middle;\n    }\n\n    .dataframe tbody tr th {\n        vertical-align: top;\n    }\n\n    .dataframe thead th {\n        text-align: right;\n    }\n</style>\n<table border=\"1\" class=\"dataframe\">\n  <thead>\n    <tr style=\"text-align: right;\">\n      <th></th>\n      <th>id</th>\n      <th>FloodProbability</th>\n      <th>Rings</th>\n    </tr>\n  </thead>\n  <tbody>\n    <tr>\n      <th>0</th>\n      <td>1117957</td>\n      <td>0.5</td>\n      <td>0.568910</td>\n    </tr>\n    <tr>\n      <th>1</th>\n      <td>1117958</td>\n      <td>0.5</td>\n      <td>0.454981</td>\n    </tr>\n    <tr>\n      <th>2</th>\n      <td>1117959</td>\n      <td>0.5</td>\n      <td>0.450971</td>\n    </tr>\n    <tr>\n      <th>3</th>\n      <td>1117960</td>\n      <td>0.5</td>\n      <td>0.471085</td>\n    </tr>\n    <tr>\n      <th>4</th>\n      <td>1117961</td>\n      <td>0.5</td>\n      <td>0.470031</td>\n    </tr>\n    <tr>\n      <th>...</th>\n      <td>...</td>\n      <td>...</td>\n      <td>...</td>\n    </tr>\n    <tr>\n      <th>745300</th>\n      <td>1863257</td>\n      <td>0.5</td>\n      <td>0.475079</td>\n    </tr>\n    <tr>\n      <th>745301</th>\n      <td>1863258</td>\n      <td>0.5</td>\n      <td>0.446771</td>\n    </tr>\n    <tr>\n      <th>745302</th>\n      <td>1863259</td>\n      <td>0.5</td>\n      <td>0.616611</td>\n    </tr>\n    <tr>\n      <th>745303</th>\n      <td>1863260</td>\n      <td>0.5</td>\n      <td>0.546384</td>\n    </tr>\n    <tr>\n      <th>745304</th>\n      <td>1863261</td>\n      <td>0.5</td>\n      <td>0.516299</td>\n    </tr>\n  </tbody>\n</table>\n<p>745305 rows × 3 columns</p>\n</div>",
            "text/plain": "             id  FloodProbability     Rings\n0       1117957               0.5  0.568910\n1       1117958               0.5  0.454981\n2       1117959               0.5  0.450971\n3       1117960               0.5  0.471085\n4       1117961               0.5  0.470031\n...         ...               ...       ...\n745300  1863257               0.5  0.475079\n745301  1863258               0.5  0.446771\n745302  1863259               0.5  0.616611\n745303  1863260               0.5  0.546384\n745304  1863261               0.5  0.516299\n\n[745305 rows x 3 columns]"
          },
          "execution_count": 33,
          "metadata": {},
          "output_type": "execute_result"
        }
      ],
      "source": [
        "submit = pd.read_csv(path/'sample_submission.csv')\n",
        "submit['FloodProbability'] = rf_preds\n",
        "submit.to_csv('submission.csv', index=False)\n",
        "sub = pd.read_csv('submission.csv')\n",
        "sub"
      ]
    },
    {
      "cell_type": "code",
      "execution_count": null,
      "metadata": {
        "id": "89Q7quoVwl9j"
      },
      "outputs": [],
      "source": [
        "!kaggle competitions submit -c playground-series-s4e5 -f submission.csv -m \"rf_preds\""
      ]
    },
    {
      "cell_type": "code",
      "execution_count": null,
      "metadata": {
        "id": "JOrHzYkrwl9h"
      },
      "outputs": [],
      "source": [
        "!ls"
      ]
    },
    {
      "cell_type": "code",
      "execution_count": null,
      "metadata": {
        "id": "YhO2XpcBwl9h"
      },
      "outputs": [],
      "source": [
        "general_preds = (lgb_preds + xgb_preds + cat_preds)"
      ]
    },
    {
      "cell_type": "code",
      "execution_count": null,
      "metadata": {
        "id": "uRKoReP5wl9i",
        "outputId": "0893e196-e529-4c7d-9894-6c0557016daa"
      },
      "outputs": [
        {
          "data": {
            "text/plain": "tensor([1.7166, 1.3715, 1.3782,  ..., 1.8436, 1.6442, 1.5364])"
          },
          "execution_count": 36,
          "metadata": {},
          "output_type": "execute_result"
        }
      ],
      "source": [
        "general_preds"
      ]
    }
  ],
  "metadata": {
    "colab": {
      "provenance": [],
      "gpuType": "T4",
      "include_colab_link": true
    },
    "kaggle": {
      "accelerator": "none",
      "dataSources": [
        {
          "databundleVersionId": 8121328,
          "sourceId": 73278,
          "sourceType": "competition"
        }
      ],
      "dockerImageVersionId": 30698,
      "isGpuEnabled": false,
      "isInternetEnabled": true,
      "language": "python",
      "sourceType": "notebook"
    },
    "kernelspec": {
      "display_name": "Python 3",
      "name": "python3"
    },
    "language_info": {
      "codemirror_mode": {
        "name": "ipython",
        "version": 3
      },
      "file_extension": ".py",
      "mimetype": "text/x-python",
      "name": "python",
      "nbconvert_exporter": "python",
      "pygments_lexer": "ipython3",
      "version": "3.10.13"
    },
    "accelerator": "GPU"
  },
  "nbformat": 4,
  "nbformat_minor": 0
}